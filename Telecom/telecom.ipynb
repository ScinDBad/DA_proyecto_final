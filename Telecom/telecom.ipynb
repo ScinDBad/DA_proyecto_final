{
 "cells": [
  {
   "cell_type": "markdown",
   "metadata": {},
   "source": [
    "__Presentación del proyecto:__\n",
    "\n",
    "<a href=\"https://drive.google.com/file/d/1Oi2MqT5zb94wQxR71nJ5k1XZwhwz5-D0/view?usp=sharing\"><img src=\"https://www.freepnglogos.com/uploads/google-slides-logo-png/google-slides-transparent-symbol-logo-20.png\" alt=\"Diapositivas\" width=\"130\"></a>\n",
    "\n",
    "https://drive.google.com/file/d/1Oi2MqT5zb94wQxR71nJ5k1XZwhwz5-D0/view?usp=sharing"
   ]
  },
  {
   "cell_type": "markdown",
   "metadata": {},
   "source": [
    "<h2>Índice</h2>\n",
    "<ol>\n",
    "    <li><a href=\"#Descomposición-del-Proyecto\">Descomposición del Proyecto</a></li>\n",
    "    <li>\n",
    "        <a href=\"#Desarrollo-del-Proyecto\">Desarrollo del Proyecto</a>\n",
    "        <ul>\n",
    "            <li><a href=\"#Importación-de-librerías\">Importación de librerías</a></li>\n",
    "            <li><a href=\"#Carga-y-lectura-de-datos\">Carga y lectura de datos</a></li>\n",
    "            <li>\n",
    "                <a href=\"#Preprocesamiento-de-Datos\">Preprocesamiento de Datos</a>\n",
    "                <ul>\n",
    "                    <li><a href=\"#Inspeccionar-estructura-de-datasets\">Inspeccionar estructura de datasets</a></li>\n",
    "                    <li><a href=\"#Conversión-de-tipo\">Conversión de tipo</a></li>\n",
    "                    <li><a href=\"#Gestión-de-valores-ausentes\">Gestión de valores ausentes</a></li>\n",
    "                    <li><a href=\"#Gestión-de-duplicados\">Gestión de duplicados</a></li>\n",
    "                    <li><a href=\"#Combinar-datasets\">Combinar datasets</a></li>\n",
    "                    <li>\n",
    "                        <a href=\"#Ingeniería-de-Características\">Ingeniería de Características</a>\n",
    "                        <ul>\n",
    "                            <li><a href=\"#Eficacia-de-Operadores\">Eficacia de Operadores</a></li>\n",
    "                            <li><a href=\"#Rendimiento-de-Operadores\">Rendimiento de Operadores</a></li>\n",
    "                        </ul>\n",
    "                    </li>\n",
    "                </ul>\n",
    "            </li>\n",
    "            <li><a href=\"#Gestión-de-anomalías\">Gestión de anomalías</a></li>\n",
    "            <li>\n",
    "                <a href=\"#Análisis-de-Eficacia-y-Rendimiento\">Análisis de Eficacia y Rendimiento</a>\n",
    "                <ul>\n",
    "                    <li>\n",
    "                        <a href=\"#Distribución-de-tareas-de-eficacia\">Distribución de tareas de eficacia</a>\n",
    "                    </li>\n",
    "                    <li>\n",
    "                        <a href=\"#Segmentación-por-Eficacia\">Segmentación por Eficacia</a>\n",
    "                        <ul>\n",
    "                            <li>\n",
    "                                <a href=\"#Ineficacia-por-segmento-de-clientes\">Ineficacia por segmento de clientes</a>\n",
    "                            </li>\n",
    "                        </ul>\n",
    "                    </li>\n",
    "                </ul>\n",
    "            </li>\n",
    "            <li>\n",
    "                <a href=\"#Contraste-de-hipótesis\">Contraste de hipótesis</a>\n",
    "                <ul>\n",
    "                    <li>\n",
    "                        <a href=\"#Planteamiento-de-Hipótesis\">Planteamiento de Hipótesis</a>\n",
    "                    </li>\n",
    "                    <li>\n",
    "                        <a href=\"#Seleccionar-Prueba-estadística\">Seleccionar Prueba estadística</a>\n",
    "                    </li>\n",
    "                    <li>\n",
    "                        <a href=\"#Nivel-de-significancia\">Nivel de significancia</a>\n",
    "                    </li>\n",
    "                    <li>\n",
    "                        <a href=\"#Definición-de-Agoritmo\">Definición de Agoritmo</a>\n",
    "                    </li>\n",
    "                    <li>\n",
    "                        <a href=\"#Caso-1:-Número-de-llamadas-perdidas-por-operadores-ineficaces\">Caso 1: Número de llamadas perdidas por operadores ineficaces</a>\n",
    "                        <ul>\n",
    "                            <li>\n",
    "                                <a href=\"#Formulación-de-hipótesis\">Formulación de hipótesis</a>\n",
    "                            </li>\n",
    "                            <li>\n",
    "                                <a href=\"#Prueba-de-hipótesis\">Prueba de hipótesis</a>\n",
    "                            </li>\n",
    "                        </ul>\n",
    "                    </li>\n",
    "                    <li>\n",
    "                        <a href=\"#Caso-2:-Demora-de-atención-de-operadores-ineficaces\">Caso 2: Demora de atención de operadores ineficaces</a>\n",
    "                        <ul>\n",
    "                            <li>\n",
    "                                <a href=\"#Formulación-de-hipótesis\">Formulación de hipótesis</a>\n",
    "                            </li>\n",
    "                            <li>\n",
    "                                <a href=\"#Prueba-de-hipótesis\">Prueba de hipótesis</a>\n",
    "                            </li>\n",
    "                        </ul>\n",
    "                    </li>\n",
    "                    <li>\n",
    "                        <a href=\"#Caso-3:-Número-de-llamadas-salientes-por-operadores-ineficaces\">Caso 3: Número de llamadas salientes por operadores ineficaces</a>\n",
    "                        <ul>\n",
    "                            <li>\n",
    "                                <a href=\"#Formulación-de-hipótesis\">Formulación de hipótesis</a>\n",
    "                            </li>\n",
    "                            <li>\n",
    "                                <a href=\"#Prueba-de-hipótesis\">Prueba de hipótesis</a>\n",
    "                            </li>\n",
    "                        </ul>\n",
    "                    </li>\n",
    "                </ul>\n",
    "            </li>\n",
    "        </ul>\n",
    "    </li>\n",
    "    <li>\n",
    "        <a href=\"#Conclusiones-y-recomendaciones\">Conclusiones y recomendaciones</a>\n",
    "        <ul>\n",
    "            <li><a href=\"#Resultados-clave\">Resultados clave</a></li>\n",
    "            <li><a href=\"#Rutas-de-mejora\">Rutas de mejora</a></li>\n",
    "        </ul>\n",
    "    </li>\n",
    "    <li><a href=\"#Dashboard\">Dashboard</a></li>\n",
    "    <li><a href=\"#Fuentes\">Fuentes</a></li>\n",
    "</ol>\n",
    "\n",
    " "
   ]
  },
  {
   "cell_type": "markdown",
   "metadata": {},
   "source": [
    "# Análisis de Rendimiento de Operadores de CallMeMaybe "
   ]
  },
  {
   "cell_type": "markdown",
   "metadata": {},
   "source": [
    "# Descomposición del Proyecto"
   ]
  },
  {
   "cell_type": "markdown",
   "metadata": {},
   "source": [
    "__1. Descripción__\n",
    "\n",
    "El servicio de telefonía virtual CallMeMaybe está desarrollando una nueva función que brindará a los supervisores y las supervisores información sobre los operadores menos eficaces. Se considera que un operador es ineficaz si tiene una gran cantidad de llamadas entrantes perdidas (internas y externas) y un tiempo de espera prolongado para las llamadas entrantes. Además, si se supone que un operador debe realizar llamadas salientes, un número reducido de ellas también será un signo de ineficacia. \n",
    "\n",
    "Los datasets contienen información sobre el uso del servicio de telefonía virtual CallMeMaybe. Sus clientes son organizaciones que necesitan distribuir gran cantidad de llamadas entrantes entre varios operadores, o realizar llamadas salientes a través de sus operadores. Los operadores también pueden realizar llamadas internas para comunicarse entre ellos. Estas llamadas se realizan a través de la red de CallMeMaybe."
   ]
  },
  {
   "cell_type": "markdown",
   "metadata": {},
   "source": [
    "__2. Objetivo__\n",
    "\n",
    "Identificar operadores ineficaces para que los supervisores puedan tomar decisiones sobre la formación y gestión del personal a fin de mejorar la eficiencia operativa y la satisfacción del cliente."
   ]
  },
  {
   "cell_type": "markdown",
   "metadata": {},
   "source": [
    "__3. Tarea Principal__ \n",
    "\n",
    "Identificar operadores ineficaces basados en llamadas perdidas y tiempos de espera prolongados para llamadas entrantes, y baja cantidad de llamadas salientes."
   ]
  },
  {
   "cell_type": "markdown",
   "metadata": {},
   "source": [
    "__3.1 Condiciones de Ineficacia:__\n",
    "\n",
    "Definir las condiciones que hacen a un operador ineficas, según la inormación proporcionada por CallMeMaybe.\n",
    "- Alto número de llamadas entrantes perdidas\n",
    "- Largo tiempo de espera para atender llamadas entrantes\n",
    "- Bajo número de llamadas salientes"
   ]
  },
  {
   "cell_type": "markdown",
   "metadata": {},
   "source": [
    "__3.2 Datos Necesarios:__\n",
    "\n",
    "- Dataset de estadísticas de llamadas __`telecom_dataset_us.csv`__.\n",
    "- Dataset de clientes y sus tarifas __`telecom_clients_us.csv`__."
   ]
  },
  {
   "cell_type": "markdown",
   "metadata": {},
   "source": [
    "__3.3 Detalles Específicos__"
   ]
  },
  {
   "cell_type": "markdown",
   "metadata": {},
   "source": [
    "Observar de forma general y por tarifa:\n",
    "- ¿Cúantas llamadas entrantes pierden los operadores?\n",
    "- ¿Cuánto demoran en atender las llamadas entrantes?\n",
    "- ¿Cuántas llamadas salientes realizan los operadores?\n",
    "- ¿Qué tan eficaces resultan los operadores?\n",
    "- ¿Cuáles y cuántos son los operadores menos eficaces?"
   ]
  },
  {
   "cell_type": "markdown",
   "metadata": {},
   "source": [
    "__4. Planteamiento de Hipótesis__"
   ]
  },
  {
   "cell_type": "markdown",
   "metadata": {},
   "source": [
    "- __Hipótesis 1:__ Los operadores ineficaces tienen la misma proporción de llamadas perdidas respecto a la media del total de llamadas perdidas.\n",
    "\n",
    "\n",
    "- __Hipótesis 2:__ Los operadores poco eficaces demoran en atender llamadas entrantes lo mismo que la media del total de llamadas atendidas.\n",
    "\n",
    "\n",
    "- __Hipótesis 3:__ Los operadores menos eficaces realizan la misma cantidad de llamadas salientes que la media general de llamadas que salen."
   ]
  },
  {
   "cell_type": "markdown",
   "metadata": {},
   "source": [
    "__4.1 Plan de Acción de hipótesis__"
   ]
  },
  {
   "cell_type": "markdown",
   "metadata": {},
   "source": [
    "__Hipótesis 1:__ \n",
    "\n",
    "- Formular hipótesis nula y alternativa\n",
    "- Determinar prueba estadística\n",
    "- Realizar test de contraste de hipótesis nula y alternativa.\n",
    "\n",
    "__Hipótesis 2:__ \n",
    "\n",
    "- Formular hipótesis nula y alternativa\n",
    "- Determinar prueba estadística\n",
    "- Realizar test de contraste de hipótesis nula y alternativa.\n",
    "\n",
    "\n",
    "__Hipótesis 3:__ \n",
    "\n",
    "- Formular hipótesis nula y alternativa\n",
    "- Determinar prueba estadística\n",
    "- Realizar test de contraste de hipótesis nula y alternativa.\n"
   ]
  },
  {
   "cell_type": "markdown",
   "metadata": {},
   "source": [
    "__5. Preprocesamiento de datos__"
   ]
  },
  {
   "cell_type": "markdown",
   "metadata": {},
   "source": [
    "- Estructurar datasets.\n",
    "    - _Renombrar columnas._\n",
    "    - _Estandarizar con snake_case._\n",
    "    \n",
    "- Estudiar y Gestionar el tipo de datos.\n",
    "    - _Convertir tipos de datos adecuados._\n",
    "\n",
    "- Estudiar y Gestionar valores ausentes.\n",
    "- Estudiar y Gestionar valores duplicados.   \n",
    "- Combinar datasets disponibles en uno solo.    \n",
    "- Ingeniería de Características.\n",
    "    - _Contar número de llamadas perdidas por operador._\n",
    "    - _Promediar la demora de operadores para atender llamadas entrantes._\n",
    "    - _Contar número de llamadas salientes de cada operador._\n",
    "    - _Categorizar eficacia de operadores con valores de 0-1 según condiciones previas. Utilizar operaciones booleanas._\n",
    "\n",
    "- Estudiar y Gestionar valores outliers.\n",
    "- Contar número de operadores ineficaces y compararlos visualmente con el resto de operadores.\n",
    "    \n"
   ]
  },
  {
   "cell_type": "markdown",
   "metadata": {},
   "source": [
    "__6. Contraste de hipótesis__\n",
    "\n",
    "Una vez preprocesados los datos e identificadas las hipótesis se procede a evaluarlas para determinar su significancia estadística. Es decir cómo se diferencian las métricas de los operadores poco eficaces de las métricas promedio del total de operadores."
   ]
  },
  {
   "cell_type": "markdown",
   "metadata": {},
   "source": [
    "__7. Conclusiones y Recomendaciones__\n",
    "\n",
    "Mencionar puntos clave y resultados obtenidos, además de proporcionar sugerencias para la gestión de operadores para mejorar la eficiencia y experiencia de los clientes/usuarios."
   ]
  },
  {
   "cell_type": "markdown",
   "metadata": {},
   "source": [
    "# Desarrollo del Proyecto"
   ]
  },
  {
   "cell_type": "markdown",
   "metadata": {},
   "source": [
    "## Importación de librerías\n",
    "\n",
    "Se importan las librerías necesarias para el preprocesamiento y EDA"
   ]
  },
  {
   "cell_type": "code",
   "execution_count": 1,
   "metadata": {},
   "outputs": [],
   "source": [
    "# Importación de librerías\n",
    "import numpy as np  # Para operaciones numéricas y matrices\n",
    "import pandas as pd  # Para manipulación de datos en DataFrames\n",
    "import matplotlib.pyplot as plt  # Para visualización de gráficos\n",
    "import seaborn as sns  # Para gráficos  más vistosos\n",
    "from scipy import stats  # Para funciones estadísticas y pruebas \n",
    "from sklearn.preprocessing import MinMaxScaler # Para normalizar escalas"
   ]
  },
  {
   "cell_type": "markdown",
   "metadata": {},
   "source": [
    "## Carga y lectura de datos\n",
    "\n",
    "Se asignan los datasets a variables dataframes"
   ]
  },
  {
   "cell_type": "code",
   "execution_count": 2,
   "metadata": {},
   "outputs": [],
   "source": [
    "# Obtener dataframes de llamadas y clientes\n",
    "clients = pd.read_csv('telecom_clients_us.csv', sep=',')\n",
    "calls = pd.read_csv('telecom_dataset_us.csv', sep=',')"
   ]
  },
  {
   "cell_type": "code",
   "execution_count": 3,
   "metadata": {},
   "outputs": [
    {
     "data": {
      "text/html": [
       "<div>\n",
       "<style scoped>\n",
       "    .dataframe tbody tr th:only-of-type {\n",
       "        vertical-align: middle;\n",
       "    }\n",
       "\n",
       "    .dataframe tbody tr th {\n",
       "        vertical-align: top;\n",
       "    }\n",
       "\n",
       "    .dataframe thead th {\n",
       "        text-align: right;\n",
       "    }\n",
       "</style>\n",
       "<table border=\"1\" class=\"dataframe\">\n",
       "  <thead>\n",
       "    <tr style=\"text-align: right;\">\n",
       "      <th></th>\n",
       "      <th>user_id</th>\n",
       "      <th>date</th>\n",
       "      <th>direction</th>\n",
       "      <th>internal</th>\n",
       "      <th>operator_id</th>\n",
       "      <th>is_missed_call</th>\n",
       "      <th>calls_count</th>\n",
       "      <th>call_duration</th>\n",
       "      <th>total_call_duration</th>\n",
       "    </tr>\n",
       "  </thead>\n",
       "  <tbody>\n",
       "    <tr>\n",
       "      <th>0</th>\n",
       "      <td>166377</td>\n",
       "      <td>2019-08-04 00:00:00+03:00</td>\n",
       "      <td>in</td>\n",
       "      <td>False</td>\n",
       "      <td>NaN</td>\n",
       "      <td>True</td>\n",
       "      <td>2</td>\n",
       "      <td>0</td>\n",
       "      <td>4</td>\n",
       "    </tr>\n",
       "    <tr>\n",
       "      <th>1</th>\n",
       "      <td>166377</td>\n",
       "      <td>2019-08-05 00:00:00+03:00</td>\n",
       "      <td>out</td>\n",
       "      <td>True</td>\n",
       "      <td>880022.0</td>\n",
       "      <td>True</td>\n",
       "      <td>3</td>\n",
       "      <td>0</td>\n",
       "      <td>5</td>\n",
       "    </tr>\n",
       "    <tr>\n",
       "      <th>2</th>\n",
       "      <td>166377</td>\n",
       "      <td>2019-08-05 00:00:00+03:00</td>\n",
       "      <td>out</td>\n",
       "      <td>True</td>\n",
       "      <td>880020.0</td>\n",
       "      <td>True</td>\n",
       "      <td>1</td>\n",
       "      <td>0</td>\n",
       "      <td>1</td>\n",
       "    </tr>\n",
       "    <tr>\n",
       "      <th>3</th>\n",
       "      <td>166377</td>\n",
       "      <td>2019-08-05 00:00:00+03:00</td>\n",
       "      <td>out</td>\n",
       "      <td>True</td>\n",
       "      <td>880020.0</td>\n",
       "      <td>False</td>\n",
       "      <td>1</td>\n",
       "      <td>10</td>\n",
       "      <td>18</td>\n",
       "    </tr>\n",
       "    <tr>\n",
       "      <th>4</th>\n",
       "      <td>166377</td>\n",
       "      <td>2019-08-05 00:00:00+03:00</td>\n",
       "      <td>out</td>\n",
       "      <td>False</td>\n",
       "      <td>880022.0</td>\n",
       "      <td>True</td>\n",
       "      <td>3</td>\n",
       "      <td>0</td>\n",
       "      <td>25</td>\n",
       "    </tr>\n",
       "  </tbody>\n",
       "</table>\n",
       "</div>"
      ],
      "text/plain": [
       "   user_id                       date direction internal  operator_id  \\\n",
       "0   166377  2019-08-04 00:00:00+03:00        in    False          NaN   \n",
       "1   166377  2019-08-05 00:00:00+03:00       out     True     880022.0   \n",
       "2   166377  2019-08-05 00:00:00+03:00       out     True     880020.0   \n",
       "3   166377  2019-08-05 00:00:00+03:00       out     True     880020.0   \n",
       "4   166377  2019-08-05 00:00:00+03:00       out    False     880022.0   \n",
       "\n",
       "   is_missed_call  calls_count  call_duration  total_call_duration  \n",
       "0            True            2              0                    4  \n",
       "1            True            3              0                    5  \n",
       "2            True            1              0                    1  \n",
       "3           False            1             10                   18  \n",
       "4            True            3              0                   25  "
      ]
     },
     "metadata": {},
     "output_type": "display_data"
    },
    {
     "data": {
      "text/html": [
       "<div>\n",
       "<style scoped>\n",
       "    .dataframe tbody tr th:only-of-type {\n",
       "        vertical-align: middle;\n",
       "    }\n",
       "\n",
       "    .dataframe tbody tr th {\n",
       "        vertical-align: top;\n",
       "    }\n",
       "\n",
       "    .dataframe thead th {\n",
       "        text-align: right;\n",
       "    }\n",
       "</style>\n",
       "<table border=\"1\" class=\"dataframe\">\n",
       "  <thead>\n",
       "    <tr style=\"text-align: right;\">\n",
       "      <th></th>\n",
       "      <th>user_id</th>\n",
       "      <th>tariff_plan</th>\n",
       "      <th>date_start</th>\n",
       "    </tr>\n",
       "  </thead>\n",
       "  <tbody>\n",
       "    <tr>\n",
       "      <th>0</th>\n",
       "      <td>166713</td>\n",
       "      <td>A</td>\n",
       "      <td>2019-08-15</td>\n",
       "    </tr>\n",
       "    <tr>\n",
       "      <th>1</th>\n",
       "      <td>166901</td>\n",
       "      <td>A</td>\n",
       "      <td>2019-08-23</td>\n",
       "    </tr>\n",
       "    <tr>\n",
       "      <th>2</th>\n",
       "      <td>168527</td>\n",
       "      <td>A</td>\n",
       "      <td>2019-10-29</td>\n",
       "    </tr>\n",
       "    <tr>\n",
       "      <th>3</th>\n",
       "      <td>167097</td>\n",
       "      <td>A</td>\n",
       "      <td>2019-09-01</td>\n",
       "    </tr>\n",
       "    <tr>\n",
       "      <th>4</th>\n",
       "      <td>168193</td>\n",
       "      <td>A</td>\n",
       "      <td>2019-10-16</td>\n",
       "    </tr>\n",
       "  </tbody>\n",
       "</table>\n",
       "</div>"
      ],
      "text/plain": [
       "   user_id tariff_plan  date_start\n",
       "0   166713           A  2019-08-15\n",
       "1   166901           A  2019-08-23\n",
       "2   168527           A  2019-10-29\n",
       "3   167097           A  2019-09-01\n",
       "4   168193           A  2019-10-16"
      ]
     },
     "metadata": {},
     "output_type": "display_data"
    },
    {
     "name": "stdout",
     "output_type": "stream",
     "text": [
      "Min date: 2019-08-02 00:00:00+03:00\n",
      "Max date: 2019-11-28 00:00:00+03:00\n"
     ]
    }
   ],
   "source": [
    "display(calls.head()) # mostrar aspecto del df de llamadas\n",
    "display(clients.head()) # mostrar aspecto del df de clientes\n",
    "\n",
    "print(f\"Min date: {calls['date'].min()}\") # imprimir fecha de inicio\n",
    "print(f\"Max date: {calls['date'].max()}\") # imprimir fecha de finalización del análisis"
   ]
  },
  {
   "cell_type": "markdown",
   "metadata": {},
   "source": [
    "La columna 'tariff_plan' parece ser categórica. Se debe observar los valores que posee."
   ]
  },
  {
   "cell_type": "code",
   "execution_count": 4,
   "metadata": {},
   "outputs": [
    {
     "data": {
      "text/plain": [
       "tariff_plan\n",
       "C    395\n",
       "B    261\n",
       "A     76\n",
       "Name: count, dtype: int64"
      ]
     },
     "execution_count": 4,
     "metadata": {},
     "output_type": "execute_result"
    }
   ],
   "source": [
    "clients['tariff_plan'].value_counts() # observar los valores de la columa"
   ]
  },
  {
   "cell_type": "markdown",
   "metadata": {},
   "source": [
    "Tiene 3 posibles valores: A, B y C"
   ]
  },
  {
   "cell_type": "markdown",
   "metadata": {},
   "source": [
    "## Preprocesamiento de Datos"
   ]
  },
  {
   "cell_type": "markdown",
   "metadata": {},
   "source": [
    "### Inspeccionar estructura de datasets"
   ]
  },
  {
   "cell_type": "code",
   "execution_count": 5,
   "metadata": {},
   "outputs": [
    {
     "name": "stdout",
     "output_type": "stream",
     "text": [
      "<class 'pandas.core.frame.DataFrame'>\n",
      "RangeIndex: 53902 entries, 0 to 53901\n",
      "Data columns (total 9 columns):\n",
      " #   Column               Non-Null Count  Dtype  \n",
      "---  ------               --------------  -----  \n",
      " 0   user_id              53902 non-null  int64  \n",
      " 1   date                 53902 non-null  object \n",
      " 2   direction            53902 non-null  object \n",
      " 3   internal             53785 non-null  object \n",
      " 4   operator_id          45730 non-null  float64\n",
      " 5   is_missed_call       53902 non-null  bool   \n",
      " 6   calls_count          53902 non-null  int64  \n",
      " 7   call_duration        53902 non-null  int64  \n",
      " 8   total_call_duration  53902 non-null  int64  \n",
      "dtypes: bool(1), float64(1), int64(4), object(3)\n",
      "memory usage: 3.3+ MB\n"
     ]
    }
   ],
   "source": [
    "calls.info() # mostrar información del df de llamadas"
   ]
  },
  {
   "cell_type": "markdown",
   "metadata": {},
   "source": [
    "Las columnas 'internal' y 'operator_id' tienen valores ausentes. Las columnas tienen nombres en snake_case. 'internal' debe ser tipo bool y 'date'tipo fecha. Se debe inspeccionar también la existencia de duplicados"
   ]
  },
  {
   "cell_type": "code",
   "execution_count": 6,
   "metadata": {},
   "outputs": [
    {
     "name": "stdout",
     "output_type": "stream",
     "text": [
      "<class 'pandas.core.frame.DataFrame'>\n",
      "RangeIndex: 732 entries, 0 to 731\n",
      "Data columns (total 3 columns):\n",
      " #   Column       Non-Null Count  Dtype \n",
      "---  ------       --------------  ----- \n",
      " 0   user_id      732 non-null    int64 \n",
      " 1   tariff_plan  732 non-null    object\n",
      " 2   date_start   732 non-null    object\n",
      "dtypes: int64(1), object(2)\n",
      "memory usage: 17.3+ KB\n"
     ]
    }
   ],
   "source": [
    "clients.info() # mostrar información del df de clientes"
   ]
  },
  {
   "cell_type": "markdown",
   "metadata": {},
   "source": [
    "No existen valores ausentes, quizá solo tenga duplicados. Las columnas tienen nombres en snake_case. 'date_start'debe ser tipo fecha."
   ]
  },
  {
   "cell_type": "markdown",
   "metadata": {},
   "source": [
    "### Conversión de tipo"
   ]
  },
  {
   "cell_type": "code",
   "execution_count": 7,
   "metadata": {},
   "outputs": [],
   "source": [
    "calls['internal'] = calls['internal'].astype('bool') # convertir a tipo bool\n",
    "calls['date'] = pd.to_datetime(calls['date']).dt.tz_localize(None) # convertir a tipo fecha localizada\n",
    "clients['date_start'] = pd.to_datetime(clients['date_start']) # convertir a tipo fecha"
   ]
  },
  {
   "cell_type": "code",
   "execution_count": 8,
   "metadata": {},
   "outputs": [
    {
     "name": "stdout",
     "output_type": "stream",
     "text": [
      "<class 'pandas.core.frame.DataFrame'>\n",
      "RangeIndex: 53902 entries, 0 to 53901\n",
      "Data columns (total 9 columns):\n",
      " #   Column               Non-Null Count  Dtype         \n",
      "---  ------               --------------  -----         \n",
      " 0   user_id              53902 non-null  int64         \n",
      " 1   date                 53902 non-null  datetime64[ns]\n",
      " 2   direction            53902 non-null  object        \n",
      " 3   internal             53902 non-null  bool          \n",
      " 4   operator_id          45730 non-null  float64       \n",
      " 5   is_missed_call       53902 non-null  bool          \n",
      " 6   calls_count          53902 non-null  int64         \n",
      " 7   call_duration        53902 non-null  int64         \n",
      " 8   total_call_duration  53902 non-null  int64         \n",
      "dtypes: bool(2), datetime64[ns](1), float64(1), int64(4), object(1)\n",
      "memory usage: 3.0+ MB\n"
     ]
    }
   ],
   "source": [
    "calls.info()"
   ]
  },
  {
   "cell_type": "code",
   "execution_count": 9,
   "metadata": {},
   "outputs": [
    {
     "name": "stdout",
     "output_type": "stream",
     "text": [
      "<class 'pandas.core.frame.DataFrame'>\n",
      "RangeIndex: 732 entries, 0 to 731\n",
      "Data columns (total 3 columns):\n",
      " #   Column       Non-Null Count  Dtype         \n",
      "---  ------       --------------  -----         \n",
      " 0   user_id      732 non-null    int64         \n",
      " 1   tariff_plan  732 non-null    object        \n",
      " 2   date_start   732 non-null    datetime64[ns]\n",
      "dtypes: datetime64[ns](1), int64(1), object(1)\n",
      "memory usage: 17.3+ KB\n"
     ]
    }
   ],
   "source": [
    "clients.info()"
   ]
  },
  {
   "cell_type": "markdown",
   "metadata": {},
   "source": [
    "### Gestión de valores ausentes"
   ]
  },
  {
   "cell_type": "code",
   "execution_count": 10,
   "metadata": {},
   "outputs": [
    {
     "data": {
      "text/html": [
       "<div>\n",
       "<style scoped>\n",
       "    .dataframe tbody tr th:only-of-type {\n",
       "        vertical-align: middle;\n",
       "    }\n",
       "\n",
       "    .dataframe tbody tr th {\n",
       "        vertical-align: top;\n",
       "    }\n",
       "\n",
       "    .dataframe thead th {\n",
       "        text-align: right;\n",
       "    }\n",
       "</style>\n",
       "<table border=\"1\" class=\"dataframe\">\n",
       "  <thead>\n",
       "    <tr style=\"text-align: right;\">\n",
       "      <th></th>\n",
       "      <th>user_id</th>\n",
       "      <th>date</th>\n",
       "      <th>direction</th>\n",
       "      <th>internal</th>\n",
       "      <th>operator_id</th>\n",
       "      <th>is_missed_call</th>\n",
       "      <th>calls_count</th>\n",
       "      <th>call_duration</th>\n",
       "      <th>total_call_duration</th>\n",
       "    </tr>\n",
       "  </thead>\n",
       "  <tbody>\n",
       "  </tbody>\n",
       "</table>\n",
       "</div>"
      ],
      "text/plain": [
       "Empty DataFrame\n",
       "Columns: [user_id, date, direction, internal, operator_id, is_missed_call, calls_count, call_duration, total_call_duration]\n",
       "Index: []"
      ]
     },
     "execution_count": 10,
     "metadata": {},
     "output_type": "execute_result"
    }
   ],
   "source": [
    "calls[calls['internal'].isna()] # Observar valores NaN en la columna 'internal'"
   ]
  },
  {
   "cell_type": "markdown",
   "metadata": {},
   "source": [
    "117 registros tienen valores ausentes en la columna 'internal' De manera que no se sabe si son llamadas internas o externas. Afortunadamente solo representan el 0.22% del total. Por lo que se puede optar por eliminarlos."
   ]
  },
  {
   "cell_type": "code",
   "execution_count": 11,
   "metadata": {},
   "outputs": [
    {
     "name": "stdout",
     "output_type": "stream",
     "text": [
      "<class 'pandas.core.frame.DataFrame'>\n",
      "RangeIndex: 53902 entries, 0 to 53901\n",
      "Data columns (total 9 columns):\n",
      " #   Column               Non-Null Count  Dtype         \n",
      "---  ------               --------------  -----         \n",
      " 0   user_id              53902 non-null  int64         \n",
      " 1   date                 53902 non-null  datetime64[ns]\n",
      " 2   direction            53902 non-null  object        \n",
      " 3   internal             53902 non-null  bool          \n",
      " 4   operator_id          45730 non-null  float64       \n",
      " 5   is_missed_call       53902 non-null  bool          \n",
      " 6   calls_count          53902 non-null  int64         \n",
      " 7   call_duration        53902 non-null  int64         \n",
      " 8   total_call_duration  53902 non-null  int64         \n",
      "dtypes: bool(2), datetime64[ns](1), float64(1), int64(4), object(1)\n",
      "memory usage: 3.0+ MB\n"
     ]
    }
   ],
   "source": [
    "calls.dropna(subset='internal', inplace=True) # Eliminar registros con valores NaN en la columna 'internal'\n",
    "calls.info() # mostrar info de df"
   ]
  },
  {
   "cell_type": "markdown",
   "metadata": {},
   "source": [
    "Ahora queda inspeccionar los valores ausentes de 'operator_id'"
   ]
  },
  {
   "cell_type": "code",
   "execution_count": 12,
   "metadata": {},
   "outputs": [
    {
     "data": {
      "text/html": [
       "<div>\n",
       "<style scoped>\n",
       "    .dataframe tbody tr th:only-of-type {\n",
       "        vertical-align: middle;\n",
       "    }\n",
       "\n",
       "    .dataframe tbody tr th {\n",
       "        vertical-align: top;\n",
       "    }\n",
       "\n",
       "    .dataframe thead th {\n",
       "        text-align: right;\n",
       "    }\n",
       "</style>\n",
       "<table border=\"1\" class=\"dataframe\">\n",
       "  <thead>\n",
       "    <tr style=\"text-align: right;\">\n",
       "      <th></th>\n",
       "      <th>user_id</th>\n",
       "      <th>date</th>\n",
       "      <th>direction</th>\n",
       "      <th>internal</th>\n",
       "      <th>operator_id</th>\n",
       "      <th>is_missed_call</th>\n",
       "      <th>calls_count</th>\n",
       "      <th>call_duration</th>\n",
       "      <th>total_call_duration</th>\n",
       "    </tr>\n",
       "  </thead>\n",
       "  <tbody>\n",
       "    <tr>\n",
       "      <th>0</th>\n",
       "      <td>166377</td>\n",
       "      <td>2019-08-04</td>\n",
       "      <td>in</td>\n",
       "      <td>False</td>\n",
       "      <td>NaN</td>\n",
       "      <td>True</td>\n",
       "      <td>2</td>\n",
       "      <td>0</td>\n",
       "      <td>4</td>\n",
       "    </tr>\n",
       "    <tr>\n",
       "      <th>7</th>\n",
       "      <td>166377</td>\n",
       "      <td>2019-08-05</td>\n",
       "      <td>in</td>\n",
       "      <td>False</td>\n",
       "      <td>NaN</td>\n",
       "      <td>True</td>\n",
       "      <td>6</td>\n",
       "      <td>0</td>\n",
       "      <td>35</td>\n",
       "    </tr>\n",
       "    <tr>\n",
       "      <th>9</th>\n",
       "      <td>166377</td>\n",
       "      <td>2019-08-06</td>\n",
       "      <td>in</td>\n",
       "      <td>False</td>\n",
       "      <td>NaN</td>\n",
       "      <td>True</td>\n",
       "      <td>4</td>\n",
       "      <td>0</td>\n",
       "      <td>62</td>\n",
       "    </tr>\n",
       "    <tr>\n",
       "      <th>17</th>\n",
       "      <td>166377</td>\n",
       "      <td>2019-08-07</td>\n",
       "      <td>in</td>\n",
       "      <td>False</td>\n",
       "      <td>NaN</td>\n",
       "      <td>True</td>\n",
       "      <td>2</td>\n",
       "      <td>0</td>\n",
       "      <td>24</td>\n",
       "    </tr>\n",
       "    <tr>\n",
       "      <th>27</th>\n",
       "      <td>166377</td>\n",
       "      <td>2019-08-12</td>\n",
       "      <td>in</td>\n",
       "      <td>False</td>\n",
       "      <td>NaN</td>\n",
       "      <td>True</td>\n",
       "      <td>2</td>\n",
       "      <td>0</td>\n",
       "      <td>34</td>\n",
       "    </tr>\n",
       "    <tr>\n",
       "      <th>...</th>\n",
       "      <td>...</td>\n",
       "      <td>...</td>\n",
       "      <td>...</td>\n",
       "      <td>...</td>\n",
       "      <td>...</td>\n",
       "      <td>...</td>\n",
       "      <td>...</td>\n",
       "      <td>...</td>\n",
       "      <td>...</td>\n",
       "    </tr>\n",
       "    <tr>\n",
       "      <th>53876</th>\n",
       "      <td>168601</td>\n",
       "      <td>2019-11-27</td>\n",
       "      <td>in</td>\n",
       "      <td>False</td>\n",
       "      <td>NaN</td>\n",
       "      <td>True</td>\n",
       "      <td>2</td>\n",
       "      <td>0</td>\n",
       "      <td>39</td>\n",
       "    </tr>\n",
       "    <tr>\n",
       "      <th>53880</th>\n",
       "      <td>168601</td>\n",
       "      <td>2019-11-28</td>\n",
       "      <td>in</td>\n",
       "      <td>False</td>\n",
       "      <td>NaN</td>\n",
       "      <td>True</td>\n",
       "      <td>1</td>\n",
       "      <td>0</td>\n",
       "      <td>19</td>\n",
       "    </tr>\n",
       "    <tr>\n",
       "      <th>53889</th>\n",
       "      <td>168603</td>\n",
       "      <td>2019-11-28</td>\n",
       "      <td>in</td>\n",
       "      <td>False</td>\n",
       "      <td>NaN</td>\n",
       "      <td>True</td>\n",
       "      <td>1</td>\n",
       "      <td>0</td>\n",
       "      <td>30</td>\n",
       "    </tr>\n",
       "    <tr>\n",
       "      <th>53893</th>\n",
       "      <td>168606</td>\n",
       "      <td>2019-11-08</td>\n",
       "      <td>in</td>\n",
       "      <td>False</td>\n",
       "      <td>NaN</td>\n",
       "      <td>True</td>\n",
       "      <td>6</td>\n",
       "      <td>0</td>\n",
       "      <td>121</td>\n",
       "    </tr>\n",
       "    <tr>\n",
       "      <th>53901</th>\n",
       "      <td>168606</td>\n",
       "      <td>2019-11-19</td>\n",
       "      <td>in</td>\n",
       "      <td>False</td>\n",
       "      <td>NaN</td>\n",
       "      <td>True</td>\n",
       "      <td>2</td>\n",
       "      <td>0</td>\n",
       "      <td>64</td>\n",
       "    </tr>\n",
       "  </tbody>\n",
       "</table>\n",
       "<p>8172 rows × 9 columns</p>\n",
       "</div>"
      ],
      "text/plain": [
       "       user_id       date direction  internal  operator_id  is_missed_call  \\\n",
       "0       166377 2019-08-04        in     False          NaN            True   \n",
       "7       166377 2019-08-05        in     False          NaN            True   \n",
       "9       166377 2019-08-06        in     False          NaN            True   \n",
       "17      166377 2019-08-07        in     False          NaN            True   \n",
       "27      166377 2019-08-12        in     False          NaN            True   \n",
       "...        ...        ...       ...       ...          ...             ...   \n",
       "53876   168601 2019-11-27        in     False          NaN            True   \n",
       "53880   168601 2019-11-28        in     False          NaN            True   \n",
       "53889   168603 2019-11-28        in     False          NaN            True   \n",
       "53893   168606 2019-11-08        in     False          NaN            True   \n",
       "53901   168606 2019-11-19        in     False          NaN            True   \n",
       "\n",
       "       calls_count  call_duration  total_call_duration  \n",
       "0                2              0                    4  \n",
       "7                6              0                   35  \n",
       "9                4              0                   62  \n",
       "17               2              0                   24  \n",
       "27               2              0                   34  \n",
       "...            ...            ...                  ...  \n",
       "53876            2              0                   39  \n",
       "53880            1              0                   19  \n",
       "53889            1              0                   30  \n",
       "53893            6              0                  121  \n",
       "53901            2              0                   64  \n",
       "\n",
       "[8172 rows x 9 columns]"
      ]
     },
     "execution_count": 12,
     "metadata": {},
     "output_type": "execute_result"
    }
   ],
   "source": [
    "calls[calls['operator_id'].isna()] # Observar valores NaN en la columna 'operator_id'"
   ]
  },
  {
   "cell_type": "markdown",
   "metadata": {},
   "source": [
    "son más de 8000 registros que no tienen valor en 'operator_id' y seguramente se debe a que ningun operador pudo atender a tales clientes ya que no registra duración de atención pero sí de espera. Sin embargo, procede a verificar cuántas de esas llamadas registran más de '0' en 'call_duration' que son casos absurdos; una llamada no atendida no debería tender call_duration."
   ]
  },
  {
   "cell_type": "code",
   "execution_count": 13,
   "metadata": {},
   "outputs": [
    {
     "data": {
      "text/html": [
       "<div>\n",
       "<style scoped>\n",
       "    .dataframe tbody tr th:only-of-type {\n",
       "        vertical-align: middle;\n",
       "    }\n",
       "\n",
       "    .dataframe tbody tr th {\n",
       "        vertical-align: top;\n",
       "    }\n",
       "\n",
       "    .dataframe thead th {\n",
       "        text-align: right;\n",
       "    }\n",
       "</style>\n",
       "<table border=\"1\" class=\"dataframe\">\n",
       "  <thead>\n",
       "    <tr style=\"text-align: right;\">\n",
       "      <th></th>\n",
       "      <th>user_id</th>\n",
       "      <th>date</th>\n",
       "      <th>direction</th>\n",
       "      <th>internal</th>\n",
       "      <th>operator_id</th>\n",
       "      <th>is_missed_call</th>\n",
       "      <th>calls_count</th>\n",
       "      <th>call_duration</th>\n",
       "      <th>total_call_duration</th>\n",
       "    </tr>\n",
       "  </thead>\n",
       "  <tbody>\n",
       "    <tr>\n",
       "      <th>698</th>\n",
       "      <td>166399</td>\n",
       "      <td>2019-08-12</td>\n",
       "      <td>in</td>\n",
       "      <td>False</td>\n",
       "      <td>NaN</td>\n",
       "      <td>False</td>\n",
       "      <td>1</td>\n",
       "      <td>10</td>\n",
       "      <td>55</td>\n",
       "    </tr>\n",
       "    <tr>\n",
       "      <th>704</th>\n",
       "      <td>166399</td>\n",
       "      <td>2019-09-02</td>\n",
       "      <td>in</td>\n",
       "      <td>False</td>\n",
       "      <td>NaN</td>\n",
       "      <td>False</td>\n",
       "      <td>1</td>\n",
       "      <td>68</td>\n",
       "      <td>115</td>\n",
       "    </tr>\n",
       "    <tr>\n",
       "      <th>4089</th>\n",
       "      <td>166503</td>\n",
       "      <td>2019-09-26</td>\n",
       "      <td>out</td>\n",
       "      <td>False</td>\n",
       "      <td>NaN</td>\n",
       "      <td>False</td>\n",
       "      <td>1</td>\n",
       "      <td>213</td>\n",
       "      <td>220</td>\n",
       "    </tr>\n",
       "    <tr>\n",
       "      <th>4136</th>\n",
       "      <td>166503</td>\n",
       "      <td>2019-10-09</td>\n",
       "      <td>in</td>\n",
       "      <td>False</td>\n",
       "      <td>NaN</td>\n",
       "      <td>False</td>\n",
       "      <td>1</td>\n",
       "      <td>374</td>\n",
       "      <td>405</td>\n",
       "    </tr>\n",
       "    <tr>\n",
       "      <th>4198</th>\n",
       "      <td>166503</td>\n",
       "      <td>2019-10-21</td>\n",
       "      <td>out</td>\n",
       "      <td>True</td>\n",
       "      <td>NaN</td>\n",
       "      <td>False</td>\n",
       "      <td>2</td>\n",
       "      <td>382</td>\n",
       "      <td>397</td>\n",
       "    </tr>\n",
       "    <tr>\n",
       "      <th>...</th>\n",
       "      <td>...</td>\n",
       "      <td>...</td>\n",
       "      <td>...</td>\n",
       "      <td>...</td>\n",
       "      <td>...</td>\n",
       "      <td>...</td>\n",
       "      <td>...</td>\n",
       "      <td>...</td>\n",
       "      <td>...</td>\n",
       "    </tr>\n",
       "    <tr>\n",
       "      <th>50930</th>\n",
       "      <td>168252</td>\n",
       "      <td>2019-11-28</td>\n",
       "      <td>in</td>\n",
       "      <td>True</td>\n",
       "      <td>NaN</td>\n",
       "      <td>False</td>\n",
       "      <td>2</td>\n",
       "      <td>265</td>\n",
       "      <td>274</td>\n",
       "    </tr>\n",
       "    <tr>\n",
       "      <th>50946</th>\n",
       "      <td>168252</td>\n",
       "      <td>2019-11-28</td>\n",
       "      <td>in</td>\n",
       "      <td>False</td>\n",
       "      <td>NaN</td>\n",
       "      <td>False</td>\n",
       "      <td>45</td>\n",
       "      <td>23765</td>\n",
       "      <td>23897</td>\n",
       "    </tr>\n",
       "    <tr>\n",
       "      <th>50955</th>\n",
       "      <td>168252</td>\n",
       "      <td>2019-11-28</td>\n",
       "      <td>out</td>\n",
       "      <td>False</td>\n",
       "      <td>NaN</td>\n",
       "      <td>False</td>\n",
       "      <td>22</td>\n",
       "      <td>11904</td>\n",
       "      <td>12211</td>\n",
       "    </tr>\n",
       "    <tr>\n",
       "      <th>50956</th>\n",
       "      <td>168252</td>\n",
       "      <td>2019-11-28</td>\n",
       "      <td>out</td>\n",
       "      <td>True</td>\n",
       "      <td>NaN</td>\n",
       "      <td>False</td>\n",
       "      <td>1</td>\n",
       "      <td>159</td>\n",
       "      <td>168</td>\n",
       "    </tr>\n",
       "    <tr>\n",
       "      <th>51680</th>\n",
       "      <td>168336</td>\n",
       "      <td>2019-11-14</td>\n",
       "      <td>in</td>\n",
       "      <td>False</td>\n",
       "      <td>NaN</td>\n",
       "      <td>False</td>\n",
       "      <td>1</td>\n",
       "      <td>169</td>\n",
       "      <td>174</td>\n",
       "    </tr>\n",
       "  </tbody>\n",
       "</table>\n",
       "<p>122 rows × 9 columns</p>\n",
       "</div>"
      ],
      "text/plain": [
       "       user_id       date direction  internal  operator_id  is_missed_call  \\\n",
       "698     166399 2019-08-12        in     False          NaN           False   \n",
       "704     166399 2019-09-02        in     False          NaN           False   \n",
       "4089    166503 2019-09-26       out     False          NaN           False   \n",
       "4136    166503 2019-10-09        in     False          NaN           False   \n",
       "4198    166503 2019-10-21       out      True          NaN           False   \n",
       "...        ...        ...       ...       ...          ...             ...   \n",
       "50930   168252 2019-11-28        in      True          NaN           False   \n",
       "50946   168252 2019-11-28        in     False          NaN           False   \n",
       "50955   168252 2019-11-28       out     False          NaN           False   \n",
       "50956   168252 2019-11-28       out      True          NaN           False   \n",
       "51680   168336 2019-11-14        in     False          NaN           False   \n",
       "\n",
       "       calls_count  call_duration  total_call_duration  \n",
       "698              1             10                   55  \n",
       "704              1             68                  115  \n",
       "4089             1            213                  220  \n",
       "4136             1            374                  405  \n",
       "4198             2            382                  397  \n",
       "...            ...            ...                  ...  \n",
       "50930            2            265                  274  \n",
       "50946           45          23765                23897  \n",
       "50955           22          11904                12211  \n",
       "50956            1            159                  168  \n",
       "51680            1            169                  174  \n",
       "\n",
       "[122 rows x 9 columns]"
      ]
     },
     "execution_count": 13,
     "metadata": {},
     "output_type": "execute_result"
    }
   ],
   "source": [
    "absurd_cases = calls[(calls['operator_id'].isna()) & (calls['call_duration']>0)] # Encontrar llamadas no atendidas pero que registran 'call_duration'\n",
    "absurd_cases # mostrar segmento de dichas llamadas"
   ]
  },
  {
   "cell_type": "markdown",
   "metadata": {},
   "source": [
    "Son 122 llamadas no atendidas por ningún operador pero que registran un 'call_duration' mayor a '0'. Esto es una inconsistencia ya que no puede haber atención sin operador que conteste, y siendo una proporción de 122/53785 = 0.00226 (0.23%) se procede a eliminarlos del dataframe."
   ]
  },
  {
   "cell_type": "code",
   "execution_count": 14,
   "metadata": {},
   "outputs": [
    {
     "name": "stdout",
     "output_type": "stream",
     "text": [
      "<class 'pandas.core.frame.DataFrame'>\n",
      "Index: 53780 entries, 0 to 53901\n",
      "Data columns (total 9 columns):\n",
      " #   Column               Non-Null Count  Dtype         \n",
      "---  ------               --------------  -----         \n",
      " 0   user_id              53780 non-null  int64         \n",
      " 1   date                 53780 non-null  datetime64[ns]\n",
      " 2   direction            53780 non-null  object        \n",
      " 3   internal             53780 non-null  bool          \n",
      " 4   operator_id          45730 non-null  float64       \n",
      " 5   is_missed_call       53780 non-null  bool          \n",
      " 6   calls_count          53780 non-null  int64         \n",
      " 7   call_duration        53780 non-null  int64         \n",
      " 8   total_call_duration  53780 non-null  int64         \n",
      "dtypes: bool(2), datetime64[ns](1), float64(1), int64(4), object(1)\n",
      "memory usage: 3.4+ MB\n"
     ]
    }
   ],
   "source": [
    "calls.drop(absurd_cases.index, inplace=True) # Eliminar llamadas no atendidas pero que registran 'call_duration'\n",
    "calls.info() # verficiar eliminación "
   ]
  },
  {
   "cell_type": "markdown",
   "metadata": {},
   "source": [
    "Procede a verificar cuántas de las llamadas no atendidas fueron registradas como perdidas"
   ]
  },
  {
   "cell_type": "code",
   "execution_count": 15,
   "metadata": {},
   "outputs": [
    {
     "data": {
      "text/plain": [
       "is_missed_call\n",
       "True    8050\n",
       "Name: count, dtype: int64"
      ]
     },
     "execution_count": 15,
     "metadata": {},
     "output_type": "execute_result"
    }
   ],
   "source": [
    "calls[calls['operator_id'].isna()]['is_missed_call'].value_counts() # Contar llamadas no atendidas registradas como perdidas."
   ]
  },
  {
   "cell_type": "markdown",
   "metadata": {},
   "source": [
    "Todas las llamadas en efecto fueron registradas como perdidas. Los valores NaN entonces indican que en efecto no hubo operador que atendiera o realizara dichas llamadas"
   ]
  },
  {
   "cell_type": "markdown",
   "metadata": {},
   "source": [
    "Se analiza también los siguientes casos absurdos:\n",
    "\n",
    "- __Llamadas realizadas por operadores que ningún cliente contestó__ \n",
    "    \n",
    "    direction=='out', is_missed_call==True, call_duration>0 (se supone que una llamada perdida dura nada '0')\n",
    "\n",
    "- __Llamadas realizadas por clientes que ningún operador contestó__\n",
    "\n",
    "    direction=='in', is_missed_call==True, call_duration>0 (se supone que una llamada perdida dura nada '0')\n",
    "\n",
    "La condicional común se resume en:\n",
    "\n",
    "    is_missed_call==True, call_duration>0"
   ]
  },
  {
   "cell_type": "markdown",
   "metadata": {},
   "source": [
    "No se consideran escenarios absurdos los siguientes casos:\n",
    "- __Llamadas realizadas por operadores que los clientes contestan pero duran nada__\n",
    "\n",
    "    direction=='out', is_missed_call==False, call_duration==0 ()\n",
    "\n",
    "- __Llamadas realizadas por clientes que los operadores contestan pero duran nada__\n",
    "\n",
    "    direction=='in', is_missed_call==False, call_duration==0 \n",
    "\n",
    "Ya que es válido que al contestar la llamada se cierre al instante por algún factor externo como falla técnica o clientes que cuelgan de inmediato.\n"
   ]
  },
  {
   "cell_type": "markdown",
   "metadata": {},
   "source": [
    "Se procede a contabilizar los 2 casos absurdos mencionados"
   ]
  },
  {
   "cell_type": "code",
   "execution_count": 16,
   "metadata": {},
   "outputs": [
    {
     "data": {
      "text/plain": [
       "direction\n",
       "in     301\n",
       "out     24\n",
       "Name: count, dtype: int64"
      ]
     },
     "execution_count": 16,
     "metadata": {},
     "output_type": "execute_result"
    }
   ],
   "source": [
    "absurd_cases = calls[(calls['is_missed_call']==True) & (calls['call_duration']>0)] # Obtener casos absurdos de llamadas\n",
    "absurd_cases['direction'].value_counts() # cuantificar casos absurdos"
   ]
  },
  {
   "cell_type": "markdown",
   "metadata": {},
   "source": [
    "- 301 llamadas realizadas por clientes que ningún operador contestó pero que curiosamente registran tiempo de atención.\n",
    "- 24 llamadas realizadas por operadores que ningún cliente contestó pero que curiosamente registran tiempor de atención.\n",
    "\n",
    "Estos registros de llamadas son absurdos y deberían eliminarse."
   ]
  },
  {
   "cell_type": "code",
   "execution_count": 17,
   "metadata": {},
   "outputs": [
    {
     "name": "stdout",
     "output_type": "stream",
     "text": [
      "<class 'pandas.core.frame.DataFrame'>\n",
      "Index: 53455 entries, 0 to 53901\n",
      "Data columns (total 9 columns):\n",
      " #   Column               Non-Null Count  Dtype         \n",
      "---  ------               --------------  -----         \n",
      " 0   user_id              53455 non-null  int64         \n",
      " 1   date                 53455 non-null  datetime64[ns]\n",
      " 2   direction            53455 non-null  object        \n",
      " 3   internal             53455 non-null  bool          \n",
      " 4   operator_id          45405 non-null  float64       \n",
      " 5   is_missed_call       53455 non-null  bool          \n",
      " 6   calls_count          53455 non-null  int64         \n",
      " 7   call_duration        53455 non-null  int64         \n",
      " 8   total_call_duration  53455 non-null  int64         \n",
      "dtypes: bool(2), datetime64[ns](1), float64(1), int64(4), object(1)\n",
      "memory usage: 3.4+ MB\n"
     ]
    }
   ],
   "source": [
    "calls.drop(absurd_cases.index, inplace=True) # Eliminar casos absurdos\n",
    "calls.info() # verificar eliminación"
   ]
  },
  {
   "cell_type": "markdown",
   "metadata": {},
   "source": [
    "Quedan solamente las analizar llamadas donde ningún operador las atendió o que ningún operador realizó.\n",
    "\n",
    "De aquí se deriva otro caso absurdo:\n",
    "- Llamadas salientes del contact center que ningún operador realizó\n",
    "\n",
    "    direction=='out', operator_id=NaN (Si ningún operador llama a nadie no puede haber llamada saliente)"
   ]
  },
  {
   "cell_type": "code",
   "execution_count": 18,
   "metadata": {},
   "outputs": [
    {
     "data": {
      "text/plain": [
       "151"
      ]
     },
     "execution_count": 18,
     "metadata": {},
     "output_type": "execute_result"
    }
   ],
   "source": [
    "absurd_cases = calls[(calls['operator_id'].isna()) & (calls['direction']=='out')] # Definir otro caso absurdo\n",
    "len(absurd_cases) # cuantificar los casos"
   ]
  },
  {
   "cell_type": "markdown",
   "metadata": {},
   "source": [
    "151 llamadas absurdos representa el 0.28% de los registros totales. Se puede eliminar del dataset."
   ]
  },
  {
   "cell_type": "code",
   "execution_count": 19,
   "metadata": {},
   "outputs": [
    {
     "name": "stdout",
     "output_type": "stream",
     "text": [
      "<class 'pandas.core.frame.DataFrame'>\n",
      "Index: 53304 entries, 0 to 53901\n",
      "Data columns (total 9 columns):\n",
      " #   Column               Non-Null Count  Dtype         \n",
      "---  ------               --------------  -----         \n",
      " 0   user_id              53304 non-null  int64         \n",
      " 1   date                 53304 non-null  datetime64[ns]\n",
      " 2   direction            53304 non-null  object        \n",
      " 3   internal             53304 non-null  bool          \n",
      " 4   operator_id          45405 non-null  float64       \n",
      " 5   is_missed_call       53304 non-null  bool          \n",
      " 6   calls_count          53304 non-null  int64         \n",
      " 7   call_duration        53304 non-null  int64         \n",
      " 8   total_call_duration  53304 non-null  int64         \n",
      "dtypes: bool(2), datetime64[ns](1), float64(1), int64(4), object(1)\n",
      "memory usage: 3.4+ MB\n"
     ]
    }
   ],
   "source": [
    "calls.drop(absurd_cases.index, inplace=True) # Eliminar casos absurdos\n",
    "calls.info() # verificar eliminación"
   ]
  },
  {
   "cell_type": "code",
   "execution_count": 20,
   "metadata": {},
   "outputs": [
    {
     "data": {
      "text/plain": [
       "direction  is_missed_call  internal\n",
       "in         True            False       7536\n",
       "                           True         363\n",
       "Name: count, dtype: int64"
      ]
     },
     "execution_count": 20,
     "metadata": {},
     "output_type": "execute_result"
    }
   ],
   "source": [
    "calls[calls['operator_id'].isna()][['direction', 'is_missed_call', 'internal']].value_counts() # cuantificar los casos de llamadas entrantes"
   ]
  },
  {
   "cell_type": "markdown",
   "metadata": {},
   "source": [
    "Léase _llamadas entrantes (realizadas por clientes al contact center) que se perdieron:_\n",
    "\n",
    "- Si son externas quiere decir que no se realizan entre operadores\n",
    "- Si son internas quiere decir que las relaizan entre operadores (Caso absurdo)\n",
    "\n",
    "¿363 llamadas entrantes (realizadas por un cliente) se perdieron pero fueron internas (realizadas entre operadores)? No tiene sentido, deberían eliminarse del registro."
   ]
  },
  {
   "cell_type": "code",
   "execution_count": 21,
   "metadata": {},
   "outputs": [
    {
     "data": {
      "text/html": [
       "<div>\n",
       "<style scoped>\n",
       "    .dataframe tbody tr th:only-of-type {\n",
       "        vertical-align: middle;\n",
       "    }\n",
       "\n",
       "    .dataframe tbody tr th {\n",
       "        vertical-align: top;\n",
       "    }\n",
       "\n",
       "    .dataframe thead th {\n",
       "        text-align: right;\n",
       "    }\n",
       "</style>\n",
       "<table border=\"1\" class=\"dataframe\">\n",
       "  <thead>\n",
       "    <tr style=\"text-align: right;\">\n",
       "      <th></th>\n",
       "      <th>user_id</th>\n",
       "      <th>date</th>\n",
       "      <th>direction</th>\n",
       "      <th>internal</th>\n",
       "      <th>operator_id</th>\n",
       "      <th>is_missed_call</th>\n",
       "      <th>calls_count</th>\n",
       "      <th>call_duration</th>\n",
       "      <th>total_call_duration</th>\n",
       "    </tr>\n",
       "  </thead>\n",
       "  <tbody>\n",
       "    <tr>\n",
       "      <th>572</th>\n",
       "      <td>166391</td>\n",
       "      <td>2019-08-06</td>\n",
       "      <td>in</td>\n",
       "      <td>True</td>\n",
       "      <td>NaN</td>\n",
       "      <td>True</td>\n",
       "      <td>3</td>\n",
       "      <td>0</td>\n",
       "      <td>163</td>\n",
       "    </tr>\n",
       "    <tr>\n",
       "      <th>579</th>\n",
       "      <td>166391</td>\n",
       "      <td>2019-08-10</td>\n",
       "      <td>in</td>\n",
       "      <td>True</td>\n",
       "      <td>NaN</td>\n",
       "      <td>True</td>\n",
       "      <td>1</td>\n",
       "      <td>0</td>\n",
       "      <td>38</td>\n",
       "    </tr>\n",
       "    <tr>\n",
       "      <th>580</th>\n",
       "      <td>166391</td>\n",
       "      <td>2019-08-15</td>\n",
       "      <td>in</td>\n",
       "      <td>True</td>\n",
       "      <td>NaN</td>\n",
       "      <td>True</td>\n",
       "      <td>2</td>\n",
       "      <td>0</td>\n",
       "      <td>77</td>\n",
       "    </tr>\n",
       "    <tr>\n",
       "      <th>581</th>\n",
       "      <td>166391</td>\n",
       "      <td>2019-08-16</td>\n",
       "      <td>in</td>\n",
       "      <td>True</td>\n",
       "      <td>NaN</td>\n",
       "      <td>True</td>\n",
       "      <td>3</td>\n",
       "      <td>0</td>\n",
       "      <td>67</td>\n",
       "    </tr>\n",
       "    <tr>\n",
       "      <th>635</th>\n",
       "      <td>166392</td>\n",
       "      <td>2019-10-07</td>\n",
       "      <td>in</td>\n",
       "      <td>True</td>\n",
       "      <td>NaN</td>\n",
       "      <td>True</td>\n",
       "      <td>1</td>\n",
       "      <td>0</td>\n",
       "      <td>26</td>\n",
       "    </tr>\n",
       "    <tr>\n",
       "      <th>...</th>\n",
       "      <td>...</td>\n",
       "      <td>...</td>\n",
       "      <td>...</td>\n",
       "      <td>...</td>\n",
       "      <td>...</td>\n",
       "      <td>...</td>\n",
       "      <td>...</td>\n",
       "      <td>...</td>\n",
       "      <td>...</td>\n",
       "    </tr>\n",
       "    <tr>\n",
       "      <th>52621</th>\n",
       "      <td>168361</td>\n",
       "      <td>2019-11-14</td>\n",
       "      <td>in</td>\n",
       "      <td>True</td>\n",
       "      <td>NaN</td>\n",
       "      <td>True</td>\n",
       "      <td>1</td>\n",
       "      <td>0</td>\n",
       "      <td>2</td>\n",
       "    </tr>\n",
       "    <tr>\n",
       "      <th>53149</th>\n",
       "      <td>168366</td>\n",
       "      <td>2019-11-01</td>\n",
       "      <td>in</td>\n",
       "      <td>True</td>\n",
       "      <td>NaN</td>\n",
       "      <td>True</td>\n",
       "      <td>3</td>\n",
       "      <td>0</td>\n",
       "      <td>26</td>\n",
       "    </tr>\n",
       "    <tr>\n",
       "      <th>53614</th>\n",
       "      <td>168466</td>\n",
       "      <td>2019-11-14</td>\n",
       "      <td>in</td>\n",
       "      <td>True</td>\n",
       "      <td>NaN</td>\n",
       "      <td>True</td>\n",
       "      <td>1</td>\n",
       "      <td>0</td>\n",
       "      <td>0</td>\n",
       "    </tr>\n",
       "    <tr>\n",
       "      <th>53661</th>\n",
       "      <td>168481</td>\n",
       "      <td>2019-11-11</td>\n",
       "      <td>in</td>\n",
       "      <td>True</td>\n",
       "      <td>NaN</td>\n",
       "      <td>True</td>\n",
       "      <td>4</td>\n",
       "      <td>0</td>\n",
       "      <td>25</td>\n",
       "    </tr>\n",
       "    <tr>\n",
       "      <th>53717</th>\n",
       "      <td>168579</td>\n",
       "      <td>2019-11-09</td>\n",
       "      <td>in</td>\n",
       "      <td>True</td>\n",
       "      <td>NaN</td>\n",
       "      <td>True</td>\n",
       "      <td>1</td>\n",
       "      <td>0</td>\n",
       "      <td>18</td>\n",
       "    </tr>\n",
       "  </tbody>\n",
       "</table>\n",
       "<p>363 rows × 9 columns</p>\n",
       "</div>"
      ],
      "text/plain": [
       "       user_id       date direction  internal  operator_id  is_missed_call  \\\n",
       "572     166391 2019-08-06        in      True          NaN            True   \n",
       "579     166391 2019-08-10        in      True          NaN            True   \n",
       "580     166391 2019-08-15        in      True          NaN            True   \n",
       "581     166391 2019-08-16        in      True          NaN            True   \n",
       "635     166392 2019-10-07        in      True          NaN            True   \n",
       "...        ...        ...       ...       ...          ...             ...   \n",
       "52621   168361 2019-11-14        in      True          NaN            True   \n",
       "53149   168366 2019-11-01        in      True          NaN            True   \n",
       "53614   168466 2019-11-14        in      True          NaN            True   \n",
       "53661   168481 2019-11-11        in      True          NaN            True   \n",
       "53717   168579 2019-11-09        in      True          NaN            True   \n",
       "\n",
       "       calls_count  call_duration  total_call_duration  \n",
       "572              3              0                  163  \n",
       "579              1              0                   38  \n",
       "580              2              0                   77  \n",
       "581              3              0                   67  \n",
       "635              1              0                   26  \n",
       "...            ...            ...                  ...  \n",
       "52621            1              0                    2  \n",
       "53149            3              0                   26  \n",
       "53614            1              0                    0  \n",
       "53661            4              0                   25  \n",
       "53717            1              0                   18  \n",
       "\n",
       "[363 rows x 9 columns]"
      ]
     },
     "execution_count": 21,
     "metadata": {},
     "output_type": "execute_result"
    }
   ],
   "source": [
    "absurd_cases = calls[(calls['operator_id'].isna()) & (calls['internal']==True)] # definir otro caso absurdo\n",
    "absurd_cases"
   ]
  },
  {
   "cell_type": "code",
   "execution_count": 22,
   "metadata": {},
   "outputs": [
    {
     "name": "stdout",
     "output_type": "stream",
     "text": [
      "<class 'pandas.core.frame.DataFrame'>\n",
      "Index: 52941 entries, 0 to 53901\n",
      "Data columns (total 9 columns):\n",
      " #   Column               Non-Null Count  Dtype         \n",
      "---  ------               --------------  -----         \n",
      " 0   user_id              52941 non-null  int64         \n",
      " 1   date                 52941 non-null  datetime64[ns]\n",
      " 2   direction            52941 non-null  object        \n",
      " 3   internal             52941 non-null  bool          \n",
      " 4   operator_id          45405 non-null  float64       \n",
      " 5   is_missed_call       52941 non-null  bool          \n",
      " 6   calls_count          52941 non-null  int64         \n",
      " 7   call_duration        52941 non-null  int64         \n",
      " 8   total_call_duration  52941 non-null  int64         \n",
      "dtypes: bool(2), datetime64[ns](1), float64(1), int64(4), object(1)\n",
      "memory usage: 3.3+ MB\n"
     ]
    }
   ],
   "source": [
    "calls.drop(absurd_cases.index, inplace=True) # Eliminar casos absurdos\n",
    "calls.info() # verificar eliminación"
   ]
  },
  {
   "cell_type": "markdown",
   "metadata": {},
   "source": [
    "Ahora solo quedan las llamadas entrantes (realizadas por clientes al contact center) que se perdieron y evidentemente no fueron realizadas entre los operadores. Estos valores ausentes son representativos y no deben ser eliminados, por lo que se puede optar por reemplazarlos por algún valor distintivo. Observemos el rango de valores el la columna 'operator_id'"
   ]
  },
  {
   "cell_type": "code",
   "execution_count": 23,
   "metadata": {},
   "outputs": [
    {
     "data": {
      "text/plain": [
       "max    973286.0\n",
       "min    879896.0\n",
       "Name: operator_id, dtype: float64"
      ]
     },
     "execution_count": 23,
     "metadata": {},
     "output_type": "execute_result"
    }
   ],
   "source": [
    "calls['operator_id'].agg({'min', 'max'}) # obtener rango de valores de operator_id"
   ]
  },
  {
   "cell_type": "markdown",
   "metadata": {},
   "source": [
    "Los valores de 'operator_id' van de (879896-973286). Los NaN pueden reemplazarse representativamente con 0 en alusión a operadores desconocidos o nulos."
   ]
  },
  {
   "cell_type": "code",
   "execution_count": 24,
   "metadata": {},
   "outputs": [
    {
     "name": "stdout",
     "output_type": "stream",
     "text": [
      "<class 'pandas.core.frame.DataFrame'>\n",
      "Index: 52941 entries, 0 to 53901\n",
      "Data columns (total 9 columns):\n",
      " #   Column               Non-Null Count  Dtype         \n",
      "---  ------               --------------  -----         \n",
      " 0   user_id              52941 non-null  int64         \n",
      " 1   date                 52941 non-null  datetime64[ns]\n",
      " 2   direction            52941 non-null  object        \n",
      " 3   internal             52941 non-null  bool          \n",
      " 4   operator_id          52941 non-null  float64       \n",
      " 5   is_missed_call       52941 non-null  bool          \n",
      " 6   calls_count          52941 non-null  int64         \n",
      " 7   call_duration        52941 non-null  int64         \n",
      " 8   total_call_duration  52941 non-null  int64         \n",
      "dtypes: bool(2), datetime64[ns](1), float64(1), int64(4), object(1)\n",
      "memory usage: 3.3+ MB\n"
     ]
    },
    {
     "name": "stderr",
     "output_type": "stream",
     "text": [
      "/tmp/ipykernel_2700/684924867.py:1: FutureWarning: A value is trying to be set on a copy of a DataFrame or Series through chained assignment using an inplace method.\n",
      "The behavior will change in pandas 3.0. This inplace method will never work because the intermediate object on which we are setting values always behaves as a copy.\n",
      "\n",
      "For example, when doing 'df[col].method(value, inplace=True)', try using 'df.method({col: value}, inplace=True)' or df[col] = df[col].method(value) instead, to perform the operation inplace on the original object.\n",
      "\n",
      "\n",
      "  calls['operator_id'].fillna(0, inplace=True) # Reemplazar valores ausentes por cero\n"
     ]
    }
   ],
   "source": [
    "calls['operator_id'].fillna(0, inplace=True) # Reemplazar valores ausentes por cero\n",
    "calls.info() # verificar reemplazo."
   ]
  },
  {
   "cell_type": "markdown",
   "metadata": {},
   "source": [
    "Ahora ya no existen valores ausentes en el dataframe calls. Respecto a la cantidad inicial de 53902, al final se eliminó solo el 1.78% de datos, por lo que no se apreciará sesgo en los resultados procesados."
   ]
  },
  {
   "cell_type": "markdown",
   "metadata": {},
   "source": [
    "### Gestión de duplicados\n",
    "\n",
    "Procede a observar las duplicidades en los registros de llamadas e interpretar su signficado."
   ]
  },
  {
   "cell_type": "code",
   "execution_count": 25,
   "metadata": {},
   "outputs": [
    {
     "data": {
      "text/plain": [
       "user_id  date        direction  internal  operator_id  is_missed_call  calls_count  call_duration  total_call_duration\n",
       "166377   2019-08-05  out        False     880020.0     True            8            0              50                     1\n",
       "167580   2019-11-08  out        True      937362.0     False           1            67             73                     1\n",
       "                                False     937156.0     False           1            60             64                     1\n",
       "         2019-11-07  out        False     936382.0     True            12           0              332                    1\n",
       "         2019-11-06  out        False     937368.0     True            1            0              32                     1\n",
       "                                                                                                                         ..\n",
       "166973   2019-09-17  in         False     901586.0     False           3            202            230                    1\n",
       "         2019-09-16  out        False     901588.0     False           2            451            459                    1\n",
       "                                          901584.0     False           3            295            318                    1\n",
       "         2019-09-13  in         False     0.0          True            1            0              34                     1\n",
       "168606   2019-11-15  out        True      957922.0     False           4            3130           3190                   1\n",
       "Name: count, Length: 4821, dtype: int64"
      ]
     },
     "execution_count": 25,
     "metadata": {},
     "output_type": "execute_result"
    }
   ],
   "source": [
    "calls[calls.duplicated()].value_counts()#cuantificar registros duplicados"
   ]
  },
  {
   "cell_type": "markdown",
   "metadata": {},
   "source": [
    "Son 4821 registros duplicados pertenecientes a registros unívocos, es decir 4821 registros fueron duplicados una sola vez. \n",
    "\n",
    "Podría fácilmente eliminarse estos duplicados o bien tomar beneficio de la duda de que se realizaron llamadas con los mismos parámetros el mismo día pero a diferentes horas del día, aunque el campo de fecha no ofrece precisión horaria sino diaria; por lo que una medida conservadora sería priorizar determinados registros de llamadas según las condiciones para medir ineficacia, de manera que los duplicados a conservar serían aquellos donde las llamadas no se pierden, es decir borrar duplicados donde is_missed_call=False ya que al borrar duplicados de llamadas perdidas implicaría reducir la ineficacia de operadores, pero el objetivo es detectar más claramente la ineficacia para reforzar falencias.\n"
   ]
  },
  {
   "cell_type": "code",
   "execution_count": 26,
   "metadata": {},
   "outputs": [
    {
     "data": {
      "text/plain": [
       "2776"
      ]
     },
     "execution_count": 26,
     "metadata": {},
     "output_type": "execute_result"
    }
   ],
   "source": [
    "#cuantificar registros duplicados de llamadas no perdidas\n",
    "duplicates = calls[(calls.duplicated()) & (calls['is_missed_call']==False)]\n",
    "len(duplicates) # mostrar número de duplicados a borrar"
   ]
  },
  {
   "cell_type": "markdown",
   "metadata": {},
   "source": [
    "resulta más conservador borrar 2776 registros duplicados que 4821."
   ]
  },
  {
   "cell_type": "code",
   "execution_count": 27,
   "metadata": {},
   "outputs": [
    {
     "name": "stdout",
     "output_type": "stream",
     "text": [
      "<class 'pandas.core.frame.DataFrame'>\n",
      "Index: 50165 entries, 0 to 53901\n",
      "Data columns (total 9 columns):\n",
      " #   Column               Non-Null Count  Dtype         \n",
      "---  ------               --------------  -----         \n",
      " 0   user_id              50165 non-null  int64         \n",
      " 1   date                 50165 non-null  datetime64[ns]\n",
      " 2   direction            50165 non-null  object        \n",
      " 3   internal             50165 non-null  bool          \n",
      " 4   operator_id          50165 non-null  float64       \n",
      " 5   is_missed_call       50165 non-null  bool          \n",
      " 6   calls_count          50165 non-null  int64         \n",
      " 7   call_duration        50165 non-null  int64         \n",
      " 8   total_call_duration  50165 non-null  int64         \n",
      "dtypes: bool(2), datetime64[ns](1), float64(1), int64(4), object(1)\n",
      "memory usage: 3.2+ MB\n"
     ]
    }
   ],
   "source": [
    "calls.drop(duplicates.index, inplace=True) # eliminar los 2776 duplicados\n",
    "calls.info() # verificar eliminación"
   ]
  },
  {
   "cell_type": "markdown",
   "metadata": {},
   "source": [
    "De esta manera se mejora la sensibilidad para detectar operadores indeficaces. Quedando 50165 registros, solo se ha eliminado un 6.9% de datos, una proporción lo suficientemente conservadora para no sesgar significativamente el dataset original."
   ]
  },
  {
   "cell_type": "markdown",
   "metadata": {},
   "source": [
    "### Combinar datasets\n",
    "\n",
    "Se procede a fusionar los datasets 'calls' y 'clients' en uno solo para tener acceso a información de llamadas y detalles de los clientes."
   ]
  },
  {
   "cell_type": "code",
   "execution_count": 28,
   "metadata": {},
   "outputs": [
    {
     "data": {
      "text/html": [
       "<div>\n",
       "<style scoped>\n",
       "    .dataframe tbody tr th:only-of-type {\n",
       "        vertical-align: middle;\n",
       "    }\n",
       "\n",
       "    .dataframe tbody tr th {\n",
       "        vertical-align: top;\n",
       "    }\n",
       "\n",
       "    .dataframe thead th {\n",
       "        text-align: right;\n",
       "    }\n",
       "</style>\n",
       "<table border=\"1\" class=\"dataframe\">\n",
       "  <thead>\n",
       "    <tr style=\"text-align: right;\">\n",
       "      <th></th>\n",
       "      <th>user_id</th>\n",
       "      <th>date</th>\n",
       "      <th>direction</th>\n",
       "      <th>internal</th>\n",
       "      <th>operator_id</th>\n",
       "      <th>is_missed_call</th>\n",
       "      <th>calls_count</th>\n",
       "      <th>call_duration</th>\n",
       "      <th>total_call_duration</th>\n",
       "      <th>tariff_plan</th>\n",
       "      <th>date_start</th>\n",
       "    </tr>\n",
       "  </thead>\n",
       "  <tbody>\n",
       "    <tr>\n",
       "      <th>0</th>\n",
       "      <td>166377</td>\n",
       "      <td>2019-08-04</td>\n",
       "      <td>in</td>\n",
       "      <td>False</td>\n",
       "      <td>0.0</td>\n",
       "      <td>True</td>\n",
       "      <td>2</td>\n",
       "      <td>0</td>\n",
       "      <td>4</td>\n",
       "      <td>B</td>\n",
       "      <td>2019-08-01</td>\n",
       "    </tr>\n",
       "    <tr>\n",
       "      <th>1</th>\n",
       "      <td>166377</td>\n",
       "      <td>2019-08-05</td>\n",
       "      <td>out</td>\n",
       "      <td>True</td>\n",
       "      <td>880022.0</td>\n",
       "      <td>True</td>\n",
       "      <td>3</td>\n",
       "      <td>0</td>\n",
       "      <td>5</td>\n",
       "      <td>B</td>\n",
       "      <td>2019-08-01</td>\n",
       "    </tr>\n",
       "    <tr>\n",
       "      <th>2</th>\n",
       "      <td>166377</td>\n",
       "      <td>2019-08-05</td>\n",
       "      <td>out</td>\n",
       "      <td>True</td>\n",
       "      <td>880020.0</td>\n",
       "      <td>True</td>\n",
       "      <td>1</td>\n",
       "      <td>0</td>\n",
       "      <td>1</td>\n",
       "      <td>B</td>\n",
       "      <td>2019-08-01</td>\n",
       "    </tr>\n",
       "    <tr>\n",
       "      <th>3</th>\n",
       "      <td>166377</td>\n",
       "      <td>2019-08-05</td>\n",
       "      <td>out</td>\n",
       "      <td>True</td>\n",
       "      <td>880020.0</td>\n",
       "      <td>False</td>\n",
       "      <td>1</td>\n",
       "      <td>10</td>\n",
       "      <td>18</td>\n",
       "      <td>B</td>\n",
       "      <td>2019-08-01</td>\n",
       "    </tr>\n",
       "    <tr>\n",
       "      <th>4</th>\n",
       "      <td>166377</td>\n",
       "      <td>2019-08-05</td>\n",
       "      <td>out</td>\n",
       "      <td>False</td>\n",
       "      <td>880022.0</td>\n",
       "      <td>True</td>\n",
       "      <td>3</td>\n",
       "      <td>0</td>\n",
       "      <td>25</td>\n",
       "      <td>B</td>\n",
       "      <td>2019-08-01</td>\n",
       "    </tr>\n",
       "    <tr>\n",
       "      <th>...</th>\n",
       "      <td>...</td>\n",
       "      <td>...</td>\n",
       "      <td>...</td>\n",
       "      <td>...</td>\n",
       "      <td>...</td>\n",
       "      <td>...</td>\n",
       "      <td>...</td>\n",
       "      <td>...</td>\n",
       "      <td>...</td>\n",
       "      <td>...</td>\n",
       "      <td>...</td>\n",
       "    </tr>\n",
       "    <tr>\n",
       "      <th>50160</th>\n",
       "      <td>168606</td>\n",
       "      <td>2019-11-10</td>\n",
       "      <td>out</td>\n",
       "      <td>True</td>\n",
       "      <td>957922.0</td>\n",
       "      <td>False</td>\n",
       "      <td>1</td>\n",
       "      <td>0</td>\n",
       "      <td>25</td>\n",
       "      <td>C</td>\n",
       "      <td>2019-10-31</td>\n",
       "    </tr>\n",
       "    <tr>\n",
       "      <th>50161</th>\n",
       "      <td>168606</td>\n",
       "      <td>2019-11-10</td>\n",
       "      <td>out</td>\n",
       "      <td>True</td>\n",
       "      <td>957922.0</td>\n",
       "      <td>True</td>\n",
       "      <td>1</td>\n",
       "      <td>0</td>\n",
       "      <td>38</td>\n",
       "      <td>C</td>\n",
       "      <td>2019-10-31</td>\n",
       "    </tr>\n",
       "    <tr>\n",
       "      <th>50162</th>\n",
       "      <td>168606</td>\n",
       "      <td>2019-11-11</td>\n",
       "      <td>out</td>\n",
       "      <td>True</td>\n",
       "      <td>957922.0</td>\n",
       "      <td>False</td>\n",
       "      <td>2</td>\n",
       "      <td>479</td>\n",
       "      <td>501</td>\n",
       "      <td>C</td>\n",
       "      <td>2019-10-31</td>\n",
       "    </tr>\n",
       "    <tr>\n",
       "      <th>50163</th>\n",
       "      <td>168606</td>\n",
       "      <td>2019-11-15</td>\n",
       "      <td>out</td>\n",
       "      <td>True</td>\n",
       "      <td>957922.0</td>\n",
       "      <td>False</td>\n",
       "      <td>4</td>\n",
       "      <td>3130</td>\n",
       "      <td>3190</td>\n",
       "      <td>C</td>\n",
       "      <td>2019-10-31</td>\n",
       "    </tr>\n",
       "    <tr>\n",
       "      <th>50164</th>\n",
       "      <td>168606</td>\n",
       "      <td>2019-11-19</td>\n",
       "      <td>in</td>\n",
       "      <td>False</td>\n",
       "      <td>0.0</td>\n",
       "      <td>True</td>\n",
       "      <td>2</td>\n",
       "      <td>0</td>\n",
       "      <td>64</td>\n",
       "      <td>C</td>\n",
       "      <td>2019-10-31</td>\n",
       "    </tr>\n",
       "  </tbody>\n",
       "</table>\n",
       "<p>50165 rows × 11 columns</p>\n",
       "</div>"
      ],
      "text/plain": [
       "       user_id       date direction  internal  operator_id  is_missed_call  \\\n",
       "0       166377 2019-08-04        in     False          0.0            True   \n",
       "1       166377 2019-08-05       out      True     880022.0            True   \n",
       "2       166377 2019-08-05       out      True     880020.0            True   \n",
       "3       166377 2019-08-05       out      True     880020.0           False   \n",
       "4       166377 2019-08-05       out     False     880022.0            True   \n",
       "...        ...        ...       ...       ...          ...             ...   \n",
       "50160   168606 2019-11-10       out      True     957922.0           False   \n",
       "50161   168606 2019-11-10       out      True     957922.0            True   \n",
       "50162   168606 2019-11-11       out      True     957922.0           False   \n",
       "50163   168606 2019-11-15       out      True     957922.0           False   \n",
       "50164   168606 2019-11-19        in     False          0.0            True   \n",
       "\n",
       "       calls_count  call_duration  total_call_duration tariff_plan date_start  \n",
       "0                2              0                    4           B 2019-08-01  \n",
       "1                3              0                    5           B 2019-08-01  \n",
       "2                1              0                    1           B 2019-08-01  \n",
       "3                1             10                   18           B 2019-08-01  \n",
       "4                3              0                   25           B 2019-08-01  \n",
       "...            ...            ...                  ...         ...        ...  \n",
       "50160            1              0                   25           C 2019-10-31  \n",
       "50161            1              0                   38           C 2019-10-31  \n",
       "50162            2            479                  501           C 2019-10-31  \n",
       "50163            4           3130                 3190           C 2019-10-31  \n",
       "50164            2              0                   64           C 2019-10-31  \n",
       "\n",
       "[50165 rows x 11 columns]"
      ]
     },
     "execution_count": 28,
     "metadata": {},
     "output_type": "execute_result"
    }
   ],
   "source": [
    "calls_full = pd.merge(calls, clients, on='user_id', how='left') # fusionar priorizando llamadas registradas\n",
    "calls_full # mostrar el df "
   ]
  },
  {
   "cell_type": "code",
   "execution_count": 29,
   "metadata": {},
   "outputs": [
    {
     "data": {
      "text/plain": [
       "operator_id\n",
       "0.0         303\n",
       "879896.0      1\n",
       "879898.0      1\n",
       "880020.0      1\n",
       "880022.0      1\n",
       "           ... \n",
       "972410.0      1\n",
       "972412.0      1\n",
       "972460.0      1\n",
       "973120.0      1\n",
       "973286.0      1\n",
       "Name: user_id, Length: 1093, dtype: int64"
      ]
     },
     "execution_count": 29,
     "metadata": {},
     "output_type": "execute_result"
    }
   ],
   "source": [
    "calls_full.groupby('operator_id')['user_id'].nunique() # a cuántos clientes llaman los operadores."
   ]
  },
  {
   "cell_type": "markdown",
   "metadata": {},
   "source": [
    "practicamente existe un operador por cada cliente."
   ]
  },
  {
   "cell_type": "markdown",
   "metadata": {},
   "source": [
    "### Ingeniería de Características\n",
    "\n",
    "Se procede a enriquecer el dataset con las siguientes características:\n",
    "\n",
    " - _Contar número de llamadas perdidas por operador._\n",
    "- _Promediar la demora de operadores para atender llamadas entrantes._\n",
    "- _Contar número de llamadas salientes de cada operador._\n",
    "- _Categorizar eficacia de operadores con valores de 0-1 según condiciones previas. Utilizar operaciones booleanas._"
   ]
  },
  {
   "cell_type": "code",
   "execution_count": 30,
   "metadata": {},
   "outputs": [],
   "source": [
    "calls_full['waiting_duration'] = calls_full['total_call_duration'] - calls_full['call_duration']"
   ]
  },
  {
   "cell_type": "code",
   "execution_count": 31,
   "metadata": {},
   "outputs": [
    {
     "data": {
      "text/html": [
       "<div>\n",
       "<style scoped>\n",
       "    .dataframe tbody tr th:only-of-type {\n",
       "        vertical-align: middle;\n",
       "    }\n",
       "\n",
       "    .dataframe tbody tr th {\n",
       "        vertical-align: top;\n",
       "    }\n",
       "\n",
       "    .dataframe thead th {\n",
       "        text-align: right;\n",
       "    }\n",
       "</style>\n",
       "<table border=\"1\" class=\"dataframe\">\n",
       "  <thead>\n",
       "    <tr style=\"text-align: right;\">\n",
       "      <th></th>\n",
       "      <th>direction</th>\n",
       "      <th>tariff_plan</th>\n",
       "      <th>num_missed_calls_in</th>\n",
       "      <th>avg_waiting_time_in</th>\n",
       "      <th>num_calls_out</th>\n",
       "    </tr>\n",
       "    <tr>\n",
       "      <th>operator_id</th>\n",
       "      <th></th>\n",
       "      <th></th>\n",
       "      <th></th>\n",
       "      <th></th>\n",
       "      <th></th>\n",
       "    </tr>\n",
       "  </thead>\n",
       "  <tbody>\n",
       "    <tr>\n",
       "      <th>0.0</th>\n",
       "      <td>in</td>\n",
       "      <td>A</td>\n",
       "      <td>1203</td>\n",
       "      <td>364.862012</td>\n",
       "      <td>62687</td>\n",
       "    </tr>\n",
       "    <tr>\n",
       "      <th>0.0</th>\n",
       "      <td>in</td>\n",
       "      <td>B</td>\n",
       "      <td>2867</td>\n",
       "      <td>163.650855</td>\n",
       "      <td>26556</td>\n",
       "    </tr>\n",
       "    <tr>\n",
       "      <th>0.0</th>\n",
       "      <td>in</td>\n",
       "      <td>C</td>\n",
       "      <td>3466</td>\n",
       "      <td>125.039238</td>\n",
       "      <td>22052</td>\n",
       "    </tr>\n",
       "    <tr>\n",
       "      <th>879896.0</th>\n",
       "      <td>in</td>\n",
       "      <td>B</td>\n",
       "      <td>0</td>\n",
       "      <td>27.333333</td>\n",
       "      <td>58</td>\n",
       "    </tr>\n",
       "    <tr>\n",
       "      <th>879896.0</th>\n",
       "      <td>out</td>\n",
       "      <td>B</td>\n",
       "      <td>50</td>\n",
       "      <td>118.363636</td>\n",
       "      <td>876</td>\n",
       "    </tr>\n",
       "    <tr>\n",
       "      <th>...</th>\n",
       "      <td>...</td>\n",
       "      <td>...</td>\n",
       "      <td>...</td>\n",
       "      <td>...</td>\n",
       "      <td>...</td>\n",
       "    </tr>\n",
       "    <tr>\n",
       "      <th>972412.0</th>\n",
       "      <td>out</td>\n",
       "      <td>B</td>\n",
       "      <td>2</td>\n",
       "      <td>256.250000</td>\n",
       "      <td>60</td>\n",
       "    </tr>\n",
       "    <tr>\n",
       "      <th>972460.0</th>\n",
       "      <td>in</td>\n",
       "      <td>C</td>\n",
       "      <td>0</td>\n",
       "      <td>4.000000</td>\n",
       "      <td>1</td>\n",
       "    </tr>\n",
       "    <tr>\n",
       "      <th>972460.0</th>\n",
       "      <td>out</td>\n",
       "      <td>C</td>\n",
       "      <td>3</td>\n",
       "      <td>102.666667</td>\n",
       "      <td>50</td>\n",
       "    </tr>\n",
       "    <tr>\n",
       "      <th>973120.0</th>\n",
       "      <td>out</td>\n",
       "      <td>C</td>\n",
       "      <td>1</td>\n",
       "      <td>10.000000</td>\n",
       "      <td>3</td>\n",
       "    </tr>\n",
       "    <tr>\n",
       "      <th>973286.0</th>\n",
       "      <td>in</td>\n",
       "      <td>B</td>\n",
       "      <td>0</td>\n",
       "      <td>88.000000</td>\n",
       "      <td>2</td>\n",
       "    </tr>\n",
       "  </tbody>\n",
       "</table>\n",
       "<p>1638 rows × 5 columns</p>\n",
       "</div>"
      ],
      "text/plain": [
       "            direction tariff_plan  num_missed_calls_in  avg_waiting_time_in  \\\n",
       "operator_id                                                                   \n",
       "0.0                in           A                 1203           364.862012   \n",
       "0.0                in           B                 2867           163.650855   \n",
       "0.0                in           C                 3466           125.039238   \n",
       "879896.0           in           B                    0            27.333333   \n",
       "879896.0          out           B                   50           118.363636   \n",
       "...               ...         ...                  ...                  ...   \n",
       "972412.0          out           B                    2           256.250000   \n",
       "972460.0           in           C                    0             4.000000   \n",
       "972460.0          out           C                    3           102.666667   \n",
       "973120.0          out           C                    1            10.000000   \n",
       "973286.0           in           B                    0            88.000000   \n",
       "\n",
       "             num_calls_out  \n",
       "operator_id                 \n",
       "0.0                  62687  \n",
       "0.0                  26556  \n",
       "0.0                  22052  \n",
       "879896.0                58  \n",
       "879896.0               876  \n",
       "...                    ...  \n",
       "972412.0                60  \n",
       "972460.0                 1  \n",
       "972460.0                50  \n",
       "973120.0                 3  \n",
       "973286.0                 2  \n",
       "\n",
       "[1638 rows x 5 columns]"
      ]
     },
     "execution_count": 31,
     "metadata": {},
     "output_type": "execute_result"
    }
   ],
   "source": [
    "# Definir diccionario de agregación\n",
    "aggregate = {'is_missed_call':'sum', 'waiting_duration':'mean', 'calls_count':'sum'}\n",
    "\n",
    "# agrupar y obtener estadísticas de eficacia previamente definidas\n",
    "operators_performance = calls_full.groupby(['operator_id', 'direction', 'tariff_plan']).agg(aggregate)\n",
    "operators_performance.columns = ['num_missed_calls_in', 'avg_waiting_time_in', 'num_calls_out'] # renombrar columnas\n",
    "operators_performance = operators_performance.reset_index(['direction', 'tariff_plan']) \n",
    "operators_performance # mostrar df de rendimiento general"
   ]
  },
  {
   "cell_type": "markdown",
   "metadata": {},
   "source": [
    "Recordar las condiciones que definen ineficacia de operadores:\n",
    "- Alto número de llamadas entrantes perdidas\n",
    "- Largo tiempo de espera para atender llamadas entrantes\n",
    "- Bajo número de llamadas salientes"
   ]
  },
  {
   "cell_type": "code",
   "execution_count": 32,
   "metadata": {},
   "outputs": [
    {
     "data": {
      "text/html": [
       "<div>\n",
       "<style scoped>\n",
       "    .dataframe tbody tr th:only-of-type {\n",
       "        vertical-align: middle;\n",
       "    }\n",
       "\n",
       "    .dataframe tbody tr th {\n",
       "        vertical-align: top;\n",
       "    }\n",
       "\n",
       "    .dataframe thead th {\n",
       "        text-align: right;\n",
       "    }\n",
       "</style>\n",
       "<table border=\"1\" class=\"dataframe\">\n",
       "  <thead>\n",
       "    <tr style=\"text-align: right;\">\n",
       "      <th></th>\n",
       "      <th>operator_id</th>\n",
       "      <th>tariff_plan</th>\n",
       "      <th>num_missed_calls_in</th>\n",
       "      <th>avg_waiting_time_in</th>\n",
       "      <th>num_calls_out</th>\n",
       "    </tr>\n",
       "  </thead>\n",
       "  <tbody>\n",
       "    <tr>\n",
       "      <th>0</th>\n",
       "      <td>0.0</td>\n",
       "      <td>A</td>\n",
       "      <td>1203.0</td>\n",
       "      <td>364.862012</td>\n",
       "      <td>NaN</td>\n",
       "    </tr>\n",
       "    <tr>\n",
       "      <th>1</th>\n",
       "      <td>0.0</td>\n",
       "      <td>B</td>\n",
       "      <td>2867.0</td>\n",
       "      <td>163.650855</td>\n",
       "      <td>NaN</td>\n",
       "    </tr>\n",
       "    <tr>\n",
       "      <th>2</th>\n",
       "      <td>0.0</td>\n",
       "      <td>C</td>\n",
       "      <td>3466.0</td>\n",
       "      <td>125.039238</td>\n",
       "      <td>NaN</td>\n",
       "    </tr>\n",
       "    <tr>\n",
       "      <th>3</th>\n",
       "      <td>879896.0</td>\n",
       "      <td>B</td>\n",
       "      <td>0.0</td>\n",
       "      <td>27.333333</td>\n",
       "      <td>876.0</td>\n",
       "    </tr>\n",
       "    <tr>\n",
       "      <th>4</th>\n",
       "      <td>879898.0</td>\n",
       "      <td>B</td>\n",
       "      <td>0.0</td>\n",
       "      <td>29.473684</td>\n",
       "      <td>7443.0</td>\n",
       "    </tr>\n",
       "    <tr>\n",
       "      <th>...</th>\n",
       "      <td>...</td>\n",
       "      <td>...</td>\n",
       "      <td>...</td>\n",
       "      <td>...</td>\n",
       "      <td>...</td>\n",
       "    </tr>\n",
       "    <tr>\n",
       "      <th>1090</th>\n",
       "      <td>972410.0</td>\n",
       "      <td>NaN</td>\n",
       "      <td>NaN</td>\n",
       "      <td>NaN</td>\n",
       "      <td>77.0</td>\n",
       "    </tr>\n",
       "    <tr>\n",
       "      <th>1091</th>\n",
       "      <td>972412.0</td>\n",
       "      <td>B</td>\n",
       "      <td>0.0</td>\n",
       "      <td>25.000000</td>\n",
       "      <td>60.0</td>\n",
       "    </tr>\n",
       "    <tr>\n",
       "      <th>1092</th>\n",
       "      <td>972460.0</td>\n",
       "      <td>C</td>\n",
       "      <td>0.0</td>\n",
       "      <td>4.000000</td>\n",
       "      <td>50.0</td>\n",
       "    </tr>\n",
       "    <tr>\n",
       "      <th>1093</th>\n",
       "      <td>973120.0</td>\n",
       "      <td>NaN</td>\n",
       "      <td>NaN</td>\n",
       "      <td>NaN</td>\n",
       "      <td>3.0</td>\n",
       "    </tr>\n",
       "    <tr>\n",
       "      <th>1094</th>\n",
       "      <td>973286.0</td>\n",
       "      <td>B</td>\n",
       "      <td>0.0</td>\n",
       "      <td>88.000000</td>\n",
       "      <td>NaN</td>\n",
       "    </tr>\n",
       "  </tbody>\n",
       "</table>\n",
       "<p>1095 rows × 5 columns</p>\n",
       "</div>"
      ],
      "text/plain": [
       "      operator_id tariff_plan  num_missed_calls_in  avg_waiting_time_in  \\\n",
       "0             0.0           A               1203.0           364.862012   \n",
       "1             0.0           B               2867.0           163.650855   \n",
       "2             0.0           C               3466.0           125.039238   \n",
       "3        879896.0           B                  0.0            27.333333   \n",
       "4        879898.0           B                  0.0            29.473684   \n",
       "...           ...         ...                  ...                  ...   \n",
       "1090     972410.0         NaN                  NaN                  NaN   \n",
       "1091     972412.0           B                  0.0            25.000000   \n",
       "1092     972460.0           C                  0.0             4.000000   \n",
       "1093     973120.0         NaN                  NaN                  NaN   \n",
       "1094     973286.0           B                  0.0            88.000000   \n",
       "\n",
       "      num_calls_out  \n",
       "0               NaN  \n",
       "1               NaN  \n",
       "2               NaN  \n",
       "3             876.0  \n",
       "4            7443.0  \n",
       "...             ...  \n",
       "1090           77.0  \n",
       "1091           60.0  \n",
       "1092           50.0  \n",
       "1093            3.0  \n",
       "1094            NaN  \n",
       "\n",
       "[1095 rows x 5 columns]"
      ]
     },
     "execution_count": 32,
     "metadata": {},
     "output_type": "execute_result"
    }
   ],
   "source": [
    "# Número de llamadas entrantes perdidas y demoradas de atender\n",
    "in_missed_delayed_calls = operators_performance[operators_performance['direction']=='in'].iloc[:,:-1]\n",
    "in_missed_delayed_calls.drop('direction', axis=1, inplace=True)\n",
    "out_num_calls = operators_performance[operators_performance['direction']=='out']['num_calls_out']\n",
    "\n",
    "report = pd.merge(in_missed_delayed_calls, out_num_calls, on = 'operator_id', how='outer').reset_index()\n",
    "report"
   ]
  },
  {
   "cell_type": "markdown",
   "metadata": {},
   "source": [
    "interpretación:\n",
    "\n",
    "- Los valores NaN en 'tariff_plan' indican que las llamadas no pertenecen a un plan específico.\n",
    "\n",
    "        Reemplazar con 'other' sería más representativo.\n",
    "\n",
    "- Los valores NaN en 'num_missed_calls(in)' indican que el operador nunca le llegaron llamadas entrantes.\n",
    "\n",
    "        Reemplazar con 0 sería un fallo injusto al operador, no hay culpa si no lo llaman.\n",
    "    \n",
    "- Los valores NaN en 'avg_waiting_time(in)' indican que el operador no demoró en atender llamadas entrantes que nunca llegaron.\n",
    "        \n",
    "        Reemplazar con cualquier valor sería un fallo injusto al operador, un '0' lo beneficia y un número alto lo perjudica. Esta métrica depende de la anterior.\n",
    "\n",
    "- Los valores NaN en 'num_calls(out)' indican que el operador no realizó llamadas salientes.\n",
    "\n",
    "        Realizar llamadas a clientes es obligación del operador, se puede reemplazar con '0'.\n",
    "\n"
   ]
  },
  {
   "cell_type": "code",
   "execution_count": 33,
   "metadata": {},
   "outputs": [],
   "source": [
    "report['tariff_plan'] = report['tariff_plan'].fillna('other') # Reemplazar valores NaN \n",
    "report['num_calls_out'] = report['num_calls_out'].fillna(0).round(0) # Reemplazar valores NaN "
   ]
  },
  {
   "cell_type": "markdown",
   "metadata": {},
   "source": [
    "#### Eficacia de Operadores"
   ]
  },
  {
   "cell_type": "markdown",
   "metadata": {},
   "source": [
    "Construcción lógica para evaluar el cumplimiento del operador:\n",
    "\n",
    "- __A:__ num_missed_calls(in) < avg_a\n",
    "- __B:__ avg_waiting_time(in) < avg_b\n",
    "- __C:__ num_calls(out) > avg_c \n",
    "- __Z:__ 1 = Cumple; 0 = No cumple\n",
    "\n",
    "$$A \\lor B \\lor C \\to Z$$\n",
    "\n",
    "El operador es eficaz si cumple con al menos una de las 3 condiciones: \n",
    "\n",
    "`perder pocas llamadas entrantes, atender rápido y llamar a suficientes clientes.`\n",
    "\n",
    "Los umbrales AVG se definen por el valor medio de cada campo en el df `report`"
   ]
  },
  {
   "cell_type": "code",
   "execution_count": 34,
   "metadata": {},
   "outputs": [
    {
     "name": "stdout",
     "output_type": "stream",
     "text": [
      "10.554232804232804 59.75957555090574 580.3497716894977\n"
     ]
    }
   ],
   "source": [
    "avg_a, avg_b, avg_c = report[['num_missed_calls_in', 'avg_waiting_time_in', 'num_calls_out']].mean()\n",
    "print(avg_a, avg_b, avg_c) # Mostrar valores medios que representan umbrales de ineficacia"
   ]
  },
  {
   "cell_type": "markdown",
   "metadata": {},
   "source": [
    "- En promedio se pierden 10.55 llamadas entrantes por operador\n",
    "- En promedio los operadores se tarden 60 segundos en antender a los clientes\n",
    "- En promedio los operadores realizan 580 llamadas a clientes."
   ]
  },
  {
   "cell_type": "code",
   "execution_count": 35,
   "metadata": {},
   "outputs": [
    {
     "data": {
      "text/html": [
       "<div>\n",
       "<style scoped>\n",
       "    .dataframe tbody tr th:only-of-type {\n",
       "        vertical-align: middle;\n",
       "    }\n",
       "\n",
       "    .dataframe tbody tr th {\n",
       "        vertical-align: top;\n",
       "    }\n",
       "\n",
       "    .dataframe thead th {\n",
       "        text-align: right;\n",
       "    }\n",
       "</style>\n",
       "<table border=\"1\" class=\"dataframe\">\n",
       "  <thead>\n",
       "    <tr style=\"text-align: right;\">\n",
       "      <th></th>\n",
       "      <th>operator_id</th>\n",
       "      <th>tariff_plan</th>\n",
       "      <th>num_missed_calls_in</th>\n",
       "      <th>avg_waiting_time_in</th>\n",
       "      <th>num_calls_out</th>\n",
       "      <th>effective</th>\n",
       "    </tr>\n",
       "  </thead>\n",
       "  <tbody>\n",
       "    <tr>\n",
       "      <th>0</th>\n",
       "      <td>0.0</td>\n",
       "      <td>A</td>\n",
       "      <td>1203.0</td>\n",
       "      <td>364.862012</td>\n",
       "      <td>0.0</td>\n",
       "      <td>False</td>\n",
       "    </tr>\n",
       "    <tr>\n",
       "      <th>1</th>\n",
       "      <td>0.0</td>\n",
       "      <td>B</td>\n",
       "      <td>2867.0</td>\n",
       "      <td>163.650855</td>\n",
       "      <td>0.0</td>\n",
       "      <td>False</td>\n",
       "    </tr>\n",
       "    <tr>\n",
       "      <th>2</th>\n",
       "      <td>0.0</td>\n",
       "      <td>C</td>\n",
       "      <td>3466.0</td>\n",
       "      <td>125.039238</td>\n",
       "      <td>0.0</td>\n",
       "      <td>False</td>\n",
       "    </tr>\n",
       "    <tr>\n",
       "      <th>3</th>\n",
       "      <td>879896.0</td>\n",
       "      <td>B</td>\n",
       "      <td>0.0</td>\n",
       "      <td>27.333333</td>\n",
       "      <td>876.0</td>\n",
       "      <td>True</td>\n",
       "    </tr>\n",
       "    <tr>\n",
       "      <th>4</th>\n",
       "      <td>879898.0</td>\n",
       "      <td>B</td>\n",
       "      <td>0.0</td>\n",
       "      <td>29.473684</td>\n",
       "      <td>7443.0</td>\n",
       "      <td>True</td>\n",
       "    </tr>\n",
       "    <tr>\n",
       "      <th>...</th>\n",
       "      <td>...</td>\n",
       "      <td>...</td>\n",
       "      <td>...</td>\n",
       "      <td>...</td>\n",
       "      <td>...</td>\n",
       "      <td>...</td>\n",
       "    </tr>\n",
       "    <tr>\n",
       "      <th>1090</th>\n",
       "      <td>972410.0</td>\n",
       "      <td>other</td>\n",
       "      <td>NaN</td>\n",
       "      <td>NaN</td>\n",
       "      <td>77.0</td>\n",
       "      <td>False</td>\n",
       "    </tr>\n",
       "    <tr>\n",
       "      <th>1091</th>\n",
       "      <td>972412.0</td>\n",
       "      <td>B</td>\n",
       "      <td>0.0</td>\n",
       "      <td>25.000000</td>\n",
       "      <td>60.0</td>\n",
       "      <td>True</td>\n",
       "    </tr>\n",
       "    <tr>\n",
       "      <th>1092</th>\n",
       "      <td>972460.0</td>\n",
       "      <td>C</td>\n",
       "      <td>0.0</td>\n",
       "      <td>4.000000</td>\n",
       "      <td>50.0</td>\n",
       "      <td>True</td>\n",
       "    </tr>\n",
       "    <tr>\n",
       "      <th>1093</th>\n",
       "      <td>973120.0</td>\n",
       "      <td>other</td>\n",
       "      <td>NaN</td>\n",
       "      <td>NaN</td>\n",
       "      <td>3.0</td>\n",
       "      <td>False</td>\n",
       "    </tr>\n",
       "    <tr>\n",
       "      <th>1094</th>\n",
       "      <td>973286.0</td>\n",
       "      <td>B</td>\n",
       "      <td>0.0</td>\n",
       "      <td>88.000000</td>\n",
       "      <td>0.0</td>\n",
       "      <td>True</td>\n",
       "    </tr>\n",
       "  </tbody>\n",
       "</table>\n",
       "<p>1095 rows × 6 columns</p>\n",
       "</div>"
      ],
      "text/plain": [
       "      operator_id tariff_plan  num_missed_calls_in  avg_waiting_time_in  \\\n",
       "0             0.0           A               1203.0           364.862012   \n",
       "1             0.0           B               2867.0           163.650855   \n",
       "2             0.0           C               3466.0           125.039238   \n",
       "3        879896.0           B                  0.0            27.333333   \n",
       "4        879898.0           B                  0.0            29.473684   \n",
       "...           ...         ...                  ...                  ...   \n",
       "1090     972410.0       other                  NaN                  NaN   \n",
       "1091     972412.0           B                  0.0            25.000000   \n",
       "1092     972460.0           C                  0.0             4.000000   \n",
       "1093     973120.0       other                  NaN                  NaN   \n",
       "1094     973286.0           B                  0.0            88.000000   \n",
       "\n",
       "      num_calls_out  effective  \n",
       "0               0.0      False  \n",
       "1               0.0      False  \n",
       "2               0.0      False  \n",
       "3             876.0       True  \n",
       "4            7443.0       True  \n",
       "...             ...        ...  \n",
       "1090           77.0      False  \n",
       "1091           60.0       True  \n",
       "1092           50.0       True  \n",
       "1093            3.0      False  \n",
       "1094            0.0       True  \n",
       "\n",
       "[1095 rows x 6 columns]"
      ]
     },
     "execution_count": 35,
     "metadata": {},
     "output_type": "execute_result"
    }
   ],
   "source": [
    "# Crear columna effective para definir el cumplimiento de tareas del operador\n",
    "report['effective'] = (\n",
    "    (report['num_missed_calls_in'] < avg_a) |\n",
    "    (report['avg_waiting_time_in'] < avg_b) |\n",
    "    (report['num_calls_out'] > avg_c)\n",
    ")\n",
    "report"
   ]
  },
  {
   "cell_type": "markdown",
   "metadata": {},
   "source": [
    "#### Rendimiento de Operadores"
   ]
  },
  {
   "cell_type": "markdown",
   "metadata": {},
   "source": [
    "Ahora para definir el rendimiento se procede a normalizar las métricas de ineficacia y se las pondera para obtener valores de 0 a 1. La ponderación de importancia se describe a continuación:\n",
    "\n",
    "- __No perder llamadas entrantes__  \n",
    "peso: Alto\n",
    "\n",
    "    Las llamadas entrantes a menudo representan clientes que necesitan asistencia o desean hacer una compra. Perder estas llamadas puede resultar en una experiencia negativa para el cliente y potencialmente en la pérdida de negocios. Su caracter es urgente.\n",
    "\n",
    "- __No hacer esperar mucho a clientes que llaman__  \n",
    "peso: Medio-alto\n",
    "\n",
    "    Un tiempo de espera prolongado puede causar frustración en los clientes, afectando negativamente su experiencia y satisfacción. Esto es crucial para mantener altos niveles de satisfacción y lealtad del cliente.\n",
    "\n",
    "- __No hacer esperar mucho a clientes que llaman__  \n",
    "peso: Medio-bajo\n",
    "\n",
    "    Las llamadas salientes pueden ser importantes para realizar ventas, seguimientos y campañas de marketing. Sin embargo, su importancia puede ser secundaria en comparación con la atención inmediata a las llamadas entrantes.\n",
    "\n",
    "Por lo tanto por convención se definen los siguientes pesos:\n",
    "\n",
    "- A (num_missed_calls(in) > avg_a): 0.4\n",
    "- B (avg_waiting_time(in) > avg_b): 0.4\n",
    "- C (num_calls(out) < avg_c): 0.2"
   ]
  },
  {
   "cell_type": "code",
   "execution_count": 36,
   "metadata": {},
   "outputs": [
    {
     "data": {
      "text/html": [
       "<div>\n",
       "<style scoped>\n",
       "    .dataframe tbody tr th:only-of-type {\n",
       "        vertical-align: middle;\n",
       "    }\n",
       "\n",
       "    .dataframe tbody tr th {\n",
       "        vertical-align: top;\n",
       "    }\n",
       "\n",
       "    .dataframe thead th {\n",
       "        text-align: right;\n",
       "    }\n",
       "</style>\n",
       "<table border=\"1\" class=\"dataframe\">\n",
       "  <thead>\n",
       "    <tr style=\"text-align: right;\">\n",
       "      <th></th>\n",
       "      <th>operator_id</th>\n",
       "      <th>tariff_plan</th>\n",
       "      <th>num_missed_calls_in</th>\n",
       "      <th>avg_waiting_time_in</th>\n",
       "      <th>num_calls_out</th>\n",
       "      <th>effective</th>\n",
       "      <th>performance</th>\n",
       "    </tr>\n",
       "  </thead>\n",
       "  <tbody>\n",
       "    <tr>\n",
       "      <th>31</th>\n",
       "      <td>885876</td>\n",
       "      <td>A</td>\n",
       "      <td>15.0</td>\n",
       "      <td>102.50</td>\n",
       "      <td>62491</td>\n",
       "      <td>True</td>\n",
       "      <td>0.96</td>\n",
       "    </tr>\n",
       "    <tr>\n",
       "      <th>32</th>\n",
       "      <td>885890</td>\n",
       "      <td>A</td>\n",
       "      <td>16.0</td>\n",
       "      <td>126.45</td>\n",
       "      <td>61310</td>\n",
       "      <td>True</td>\n",
       "      <td>0.94</td>\n",
       "    </tr>\n",
       "    <tr>\n",
       "      <th>554</th>\n",
       "      <td>925922</td>\n",
       "      <td>A</td>\n",
       "      <td>4.0</td>\n",
       "      <td>120.96</td>\n",
       "      <td>20367</td>\n",
       "      <td>True</td>\n",
       "      <td>0.82</td>\n",
       "    </tr>\n",
       "    <tr>\n",
       "      <th>4</th>\n",
       "      <td>879898</td>\n",
       "      <td>B</td>\n",
       "      <td>0.0</td>\n",
       "      <td>29.47</td>\n",
       "      <td>7443</td>\n",
       "      <td>True</td>\n",
       "      <td>0.81</td>\n",
       "    </tr>\n",
       "    <tr>\n",
       "      <th>8</th>\n",
       "      <td>880028</td>\n",
       "      <td>B</td>\n",
       "      <td>0.0</td>\n",
       "      <td>8.37</td>\n",
       "      <td>2614</td>\n",
       "      <td>True</td>\n",
       "      <td>0.81</td>\n",
       "    </tr>\n",
       "    <tr>\n",
       "      <th>...</th>\n",
       "      <td>...</td>\n",
       "      <td>...</td>\n",
       "      <td>...</td>\n",
       "      <td>...</td>\n",
       "      <td>...</td>\n",
       "      <td>...</td>\n",
       "      <td>...</td>\n",
       "    </tr>\n",
       "    <tr>\n",
       "      <th>1084</th>\n",
       "      <td>970484</td>\n",
       "      <td>other</td>\n",
       "      <td>NaN</td>\n",
       "      <td>NaN</td>\n",
       "      <td>7</td>\n",
       "      <td>False</td>\n",
       "      <td>NaN</td>\n",
       "    </tr>\n",
       "    <tr>\n",
       "      <th>1085</th>\n",
       "      <td>970486</td>\n",
       "      <td>other</td>\n",
       "      <td>NaN</td>\n",
       "      <td>NaN</td>\n",
       "      <td>6</td>\n",
       "      <td>False</td>\n",
       "      <td>NaN</td>\n",
       "    </tr>\n",
       "    <tr>\n",
       "      <th>1089</th>\n",
       "      <td>972408</td>\n",
       "      <td>other</td>\n",
       "      <td>NaN</td>\n",
       "      <td>NaN</td>\n",
       "      <td>8</td>\n",
       "      <td>False</td>\n",
       "      <td>NaN</td>\n",
       "    </tr>\n",
       "    <tr>\n",
       "      <th>1090</th>\n",
       "      <td>972410</td>\n",
       "      <td>other</td>\n",
       "      <td>NaN</td>\n",
       "      <td>NaN</td>\n",
       "      <td>77</td>\n",
       "      <td>False</td>\n",
       "      <td>NaN</td>\n",
       "    </tr>\n",
       "    <tr>\n",
       "      <th>1093</th>\n",
       "      <td>973120</td>\n",
       "      <td>other</td>\n",
       "      <td>NaN</td>\n",
       "      <td>NaN</td>\n",
       "      <td>3</td>\n",
       "      <td>False</td>\n",
       "      <td>NaN</td>\n",
       "    </tr>\n",
       "  </tbody>\n",
       "</table>\n",
       "<p>1095 rows × 7 columns</p>\n",
       "</div>"
      ],
      "text/plain": [
       "      operator_id tariff_plan  num_missed_calls_in  avg_waiting_time_in  \\\n",
       "31         885876           A                 15.0               102.50   \n",
       "32         885890           A                 16.0               126.45   \n",
       "554        925922           A                  4.0               120.96   \n",
       "4          879898           B                  0.0                29.47   \n",
       "8          880028           B                  0.0                 8.37   \n",
       "...           ...         ...                  ...                  ...   \n",
       "1084       970484       other                  NaN                  NaN   \n",
       "1085       970486       other                  NaN                  NaN   \n",
       "1089       972408       other                  NaN                  NaN   \n",
       "1090       972410       other                  NaN                  NaN   \n",
       "1093       973120       other                  NaN                  NaN   \n",
       "\n",
       "      num_calls_out  effective  performance  \n",
       "31            62491       True         0.96  \n",
       "32            61310       True         0.94  \n",
       "554           20367       True         0.82  \n",
       "4              7443       True         0.81  \n",
       "8              2614       True         0.81  \n",
       "...             ...        ...          ...  \n",
       "1084              7      False          NaN  \n",
       "1085              6      False          NaN  \n",
       "1089              8      False          NaN  \n",
       "1090             77      False          NaN  \n",
       "1093              3      False          NaN  \n",
       "\n",
       "[1095 rows x 7 columns]"
      ]
     },
     "execution_count": 36,
     "metadata": {},
     "output_type": "execute_result"
    }
   ],
   "source": [
    "scaler = MinMaxScaler() # Normalizar las columnas de 0-1\n",
    "\n",
    "w_a, w_b, w_c = [0.4, 0.4, 0.2] # definir pesos de pponderación\n",
    "\n",
    "# Crear columna de performance que mide el rendimiento general del operador.\n",
    "report['performance'] = (\n",
    "    w_a * (1 - scaler.fit_transform(report[['num_missed_calls_in']])) +\n",
    "     w_b * (1 - scaler.fit_transform(report[['avg_waiting_time_in']])) +\n",
    "     w_c * scaler.fit_transform(report[['num_calls_out']])\n",
    ").round(2)\n",
    "\n",
    "report['avg_waiting_time_in'] = report['avg_waiting_time_in'].round(2)\n",
    "report['num_calls_out'] = report['num_calls_out'].astype('int64')\n",
    "report['operator_id'] = report['operator_id'].astype('int64')\n",
    "\n",
    "report.sort_values('performance', ascending=False) # ordenar de forma descendente el performance"
   ]
  },
  {
   "cell_type": "markdown",
   "metadata": {},
   "source": [
    "## Gestión de anomalías"
   ]
  },
  {
   "cell_type": "markdown",
   "metadata": {},
   "source": [
    "Podría reemplazarse los valores outliers por la mediana, pero ello implica desplazar las medias del número de llamadas perdidas, duración de espera y número de llamadas salientes. En primera instancia es preferible no hacer reemplazos para que los medios se mantengan y sean los umbrales generales de eficacia.\n",
    "\n",
    "La media es el umbral más estricto cuando:\n",
    "- El sesgo es positivo y el umbral debe superarse.\n",
    "- El sesgo es negativo y el umbral no debe superarse.\n",
    "\n",
    "La mediana es el umbral más estricto cuando:\n",
    "- El sesgo es positivo y el umbral no debe superarse.\n",
    "- El sesgo es negativo y el umbral debe superarse.\n",
    "\n",
    "\n",
    "No obstante debe tenerse en cuenta que la mediana es capaz de volver al umbral tan extremo como un valor máximo o mínimo si el sesgo tiene una cola demasiado larga en la distribución. Por ejemplo una mediana de 0 en el número de llamadas entrantes perdidas podría malinterpretarse como una intolerancia a la equivocación desmotivando a los operadores por una aparente obligación a la perfección, aunque las estadísticas revelen que el 50% de los operadores son capaces de lograrlo.\n",
    "\n",
    "Lo adecuado es primero observar las distribuciones y elegir la media o mediana a conveniencia o un valor razonable para no desmotivar a los operadores.\n"
   ]
  },
  {
   "cell_type": "markdown",
   "metadata": {},
   "source": [
    "## Análisis de Eficacia y Rendimiento"
   ]
  },
  {
   "cell_type": "markdown",
   "metadata": {},
   "source": [
    "Se procede a computar cómo influyeron las tareas en la eficacia y rendimiento de los operadores. Esto se logra con una matriz de correlaciones."
   ]
  },
  {
   "cell_type": "code",
   "execution_count": 37,
   "metadata": {},
   "outputs": [
    {
     "data": {
      "image/png": "[encoded data removed]",
      "text/plain": [
       "<Figure size 350x350 with 1 Axes>"
      ]
     },
     "metadata": {},
     "output_type": "display_data"
    }
   ],
   "source": [
    "corr_matrix = report.iloc[:,2:].corr() # correlacionar tareas con eficacia y rendimiento \n",
    "\n",
    "plt.figure(figsize=(3.5,3.5)) # tamaño de figura\n",
    "sns.heatmap(data=corr_matrix, annot=True, cmap='RdBu', fmt=\".2f\", cbar=None) # generar heatmap\n",
    "plt.title('Matriz Correlación de tareas de eficacia') \n",
    "plt.show() # mostrar plot"
   ]
  },
  {
   "cell_type": "markdown",
   "metadata": {},
   "source": [
    "La eficacia de los operadores es moderadamente proporcional al rendimiento de trabajo, por lo que se podría generalizar que _`Un operador puede ser eficaz si aumenta su rendimiento general.`_\n",
    "\n",
    "__Eficacia:__\n",
    "\n",
    "- Un bajo número de llamadas perdidas favorece moderadamente la eficacia de los operadores.\n",
    "- Un bajo retraso en atender llamadas favorece poco la eficacia de los operadores\n",
    "- Un alto número de llamadas salientes favorece muy poco la eficacia de los operadores\n",
    "\n",
    "__Rendimiento:__\n",
    "\n",
    "- Un bajo número de llamadas perdidas favorece moderadamente el rendimiento de los operadores.\n",
    "- Un bajo retraso en atender llamadas favorece mucho el rendimiento de los operadores.\n",
    "- Un alto número de llamadas salientes favorece poco la eficacia de los operadores\n",
    "\n",
    "__Consigna__\n",
    "\n",
    "- Los operadores para ser eficaces deben priorizar sus tareas en el siguiente orden:\n",
    "    1. No perder llamadas.\n",
    "    2. No hacer esperar mucho al cliente.\n",
    "    3. Llamar a clientes.\n",
    "\n",
    "- Los operadores para aumentar su rendimiento deben priorizar sus tareas en el siguiente orden:\n",
    "    1. No hacer esperar mucho al cliente.\n",
    "    2. No perder llamadas.\n",
    "    3. Llamar a clientes.\n"
   ]
  },
  {
   "cell_type": "markdown",
   "metadata": {},
   "source": [
    "### Distribución de tareas de eficacia"
   ]
  },
  {
   "cell_type": "markdown",
   "metadata": {},
   "source": [
    "Procedemos a trazar histogramas de num_missed_calls, avg_waiting_time_in, num_calls_out para observar su distribución y patrón de eficacia según el umbral definido por su media."
   ]
  },
  {
   "cell_type": "code",
   "execution_count": 38,
   "metadata": {},
   "outputs": [],
   "source": [
    "# Se define una función para calcular estadísticas principales de media, mediana y P95\n",
    "def main_stats(data):\n",
    "    \"\"\"\n",
    "    Calcula y muestra las estadísticas principales de un conjunto de datos.\n",
    "\n",
    "    Parámetros:\n",
    "    data (iterable): El conjunto de datos sobre el cual calcular las estadísticas.\n",
    "\n",
    "    Retorna:\n",
    "    None\n",
    "    \"\"\"\n",
    "    print('P95:', np.percentile(data,95)) # mostrar percentil 95\n",
    "    print('P_mean:', stats.percentileofscore(data, data.mean()).round(2)) # mostrar percentil de media\n",
    "    print(data.agg({'mean', 'median'}).round(2)) # Mostrar media y mediana\n"
   ]
  },
  {
   "cell_type": "code",
   "execution_count": 39,
   "metadata": {},
   "outputs": [
    {
     "data": {
      "image/png": "[encoded data removed]",
      "text/plain": [
       "<Figure size 400x300 with 1 Axes>"
      ]
     },
     "metadata": {},
     "output_type": "display_data"
    },
    {
     "name": "stdout",
     "output_type": "stream",
     "text": [
      "P95: 3.0\n",
      "P_mean: 98.81\n",
      "mean      10.55\n",
      "median     0.00\n",
      "Name: num_missed_calls_in, dtype: float64\n"
     ]
    }
   ],
   "source": [
    "data = report['num_missed_calls_in'].dropna() # definir datos a usar\n",
    "\n",
    "plt.figure(figsize=(4,3)) # Definir tamaño de figura\n",
    "sns.histplot(data=data, bins=50) # trazar histograma\n",
    "plt.title('Distribución de llamadas entrantes perdidas') # personalizar titulo\n",
    "plt.xlabel('No. llamadas entrantes perdidas') # personalizar etiqueta eje x\n",
    "plt.show() # mostrar plot\n",
    "\n",
    "main_stats(data) # mostrar estadísticas principales"
   ]
  },
  {
   "cell_type": "markdown",
   "metadata": {},
   "source": [
    "cerca de 750 operadores (95%) perdieron 3 llamadas entrantes. Pocos operadores perdieron más de 1000 llamadas. Se observa un cumplimiento de la mayoría de operadores en perder pocas llamadas entrantes. En este caso el 98.8% de operadores son eficaces al demorar menos en atender la media permitida de 10.55 llamadas entrantes.\n",
    "\n",
    "En este caso la mediana es un umbral nominalmente exagerado, por lo que la media de 10.55 segundos es más razonable como umbral para periodos futuros."
   ]
  },
  {
   "cell_type": "code",
   "execution_count": 40,
   "metadata": {},
   "outputs": [
    {
     "data": {
      "image/png": "[encoded data removed]",
      "text/plain": [
       "<Figure size 400x300 with 1 Axes>"
      ]
     },
     "metadata": {},
     "output_type": "display_data"
    },
    {
     "name": "stdout",
     "output_type": "stream",
     "text": [
      "P95: 192.005\n",
      "P_mean: 75.53\n",
      "mean      59.76\n",
      "median    31.17\n",
      "Name: avg_waiting_time_in, dtype: float64\n"
     ]
    }
   ],
   "source": [
    "data = report['avg_waiting_time_in'].dropna() # definir datos a usar\n",
    "\n",
    "plt.figure(figsize=(4,3)) # Definir tamaño de figura\n",
    "sns.histplot(data=data, bins=50) # trazar histograma\n",
    "plt.title('Distribución de espera de llamadas entrantes') # personalizar titulo\n",
    "plt.xlabel('Duración de espera [segs]') # personalizar etiqueta eje x\n",
    "plt.show() # mostrar plot\n",
    "\n",
    "main_stats(data) # mostrar estadísticas principales"
   ]
  },
  {
   "cell_type": "markdown",
   "metadata": {},
   "source": [
    "El 95% de los operadores se demora a lo mucho 192 segundos en atender llamadas entrantes y solo la mitad de los operadores consigue cumplir en constetar llamadas antes de 31.18 segundos que es menor a la media permitida de 59.8 segundos. En esta tarea no son eficaces el 24.47% de operadores.\n",
    "\n",
    "un umbral de 31.17 segundos es un valor de espera razonable para atender llamadas entrantes, mientras que 59.76 segundos puede ser demasiada espera para el cliente hasta ser atendido. Se puede definir la mediana o el valor de 30 segundos como nuevo umbral."
   ]
  },
  {
   "cell_type": "code",
   "execution_count": 41,
   "metadata": {},
   "outputs": [
    {
     "data": {
      "image/png": "[encoded data removed]",
      "text/plain": [
       "<Figure size 400x300 with 1 Axes>"
      ]
     },
     "metadata": {},
     "output_type": "display_data"
    },
    {
     "name": "stdout",
     "output_type": "stream",
     "text": [
      "P95: 2297.7\n",
      "P_mean: 79.54\n",
      "mean      580.35\n",
      "median     34.00\n",
      "Name: num_calls_out, dtype: float64\n"
     ]
    }
   ],
   "source": [
    "data = report['num_calls_out'].dropna() # definir datos a usar\n",
    "\n",
    "plt.figure(figsize=(4,3)) # Definir tamaño de figura\n",
    "sns.histplot(data=report['num_calls_out'], bins=50) # trazar histograma\n",
    "plt.title('Número de llamadas por operadores') # personalizar titulo\n",
    "plt.xlabel('No. llamada salientes') # personalizar etiqueta eje x\n",
    "plt.show() # mostrar plot\n",
    "\n",
    "main_stats(data) # mostrar estadísticas principales"
   ]
  },
  {
   "cell_type": "markdown",
   "metadata": {},
   "source": [
    "El 95% de los operadores realiza menos de 2298 llamadas salientes y solo la mitad de operadores realiza como mucho 34 llamadas, lo cual es bastante menor que la media esperada de 580 llamadas. Según este parámetro en esta tarea el 79.5% de operadores son ineficaces.\n",
    "\n",
    "Los operadores deben siempre realizar llamadas, no es absurdo que puedan alcanzar una cantidad de 580 pero ello supone que solo tengan éxito el 21.47% de operadores. En este caso es más razonable elegir la mediana de 34 llamadas, pero para no ser muy permisivo un umbral fijado en 200 llamadas salientes podría ser más conveniente.\n"
   ]
  },
  {
   "cell_type": "markdown",
   "metadata": {},
   "source": [
    "A medida que aumenten los operadores eficaces, se pueden definir nuevos umbrales razonables en proporción al rendimiento de los operadores. Esto a su vez permite definir el perfil de competencia de futuros empleados."
   ]
  },
  {
   "cell_type": "markdown",
   "metadata": {},
   "source": [
    "### Segmentación por Eficacia"
   ]
  },
  {
   "cell_type": "markdown",
   "metadata": {},
   "source": [
    "\n",
    "Se separa a los operadores por eficaces e ineficaces y se muestra un countplot."
   ]
  },
  {
   "cell_type": "code",
   "execution_count": 42,
   "metadata": {},
   "outputs": [
    {
     "data": {
      "image/png": "[encoded data removed]",
      "text/plain": [
       "<Figure size 400x300 with 1 Axes>"
      ]
     },
     "metadata": {},
     "output_type": "display_data"
    },
    {
     "data": {
      "text/html": [
       "<div>\n",
       "<style scoped>\n",
       "    .dataframe tbody tr th:only-of-type {\n",
       "        vertical-align: middle;\n",
       "    }\n",
       "\n",
       "    .dataframe tbody tr th {\n",
       "        vertical-align: top;\n",
       "    }\n",
       "\n",
       "    .dataframe thead th {\n",
       "        text-align: right;\n",
       "    }\n",
       "</style>\n",
       "<table border=\"1\" class=\"dataframe\">\n",
       "  <thead>\n",
       "    <tr style=\"text-align: right;\">\n",
       "      <th></th>\n",
       "      <th>count</th>\n",
       "      <th>proportion</th>\n",
       "    </tr>\n",
       "    <tr>\n",
       "      <th>effective</th>\n",
       "      <th></th>\n",
       "      <th></th>\n",
       "    </tr>\n",
       "  </thead>\n",
       "  <tbody>\n",
       "    <tr>\n",
       "      <th>True</th>\n",
       "      <td>859</td>\n",
       "      <td>0.78</td>\n",
       "    </tr>\n",
       "    <tr>\n",
       "      <th>False</th>\n",
       "      <td>236</td>\n",
       "      <td>0.22</td>\n",
       "    </tr>\n",
       "  </tbody>\n",
       "</table>\n",
       "</div>"
      ],
      "text/plain": [
       "           count  proportion\n",
       "effective                   \n",
       "True         859        0.78\n",
       "False        236        0.22"
      ]
     },
     "metadata": {},
     "output_type": "display_data"
    }
   ],
   "source": [
    "# ajustar tamaño de figura\n",
    "plt.figure(figsize=(4,3)) \n",
    "sns.countplot(data=report, x='effective', hue='effective', palette='Set1', legend=False)\n",
    "plt.title('Eficacia permisiva de Operadores')\n",
    "plt.xlabel('Cumplimiento')\n",
    "plt.show() # mostrar plot\n",
    "\n",
    "# cuantificar operadores\n",
    "data = report['effective']\n",
    "display(pd.concat([data.value_counts(), data.value_counts(normalize=True)], axis=1).round(2))\n"
   ]
  },
  {
   "cell_type": "markdown",
   "metadata": {},
   "source": [
    "859 operadores fueron eficaces, es decir cumplieron con todas las tareas básicas según los umbrales definidos por la media de cada una. 236 operadores (22%) fueron ineficaces, por lo que necesitan un seguimiento específico según sus falencias, que se detalla a continuación:"
   ]
  },
  {
   "cell_type": "code",
   "execution_count": 43,
   "metadata": {},
   "outputs": [
    {
     "data": {
      "text/plain": [
       "3"
      ]
     },
     "execution_count": 43,
     "metadata": {},
     "output_type": "execute_result"
    }
   ],
   "source": [
    "# calcular el número de operadores ineficaces desconocidos\n",
    "report[(data==False) & (report['operator_id']==0)]['operator_id'].count()"
   ]
  },
  {
   "cell_type": "markdown",
   "metadata": {},
   "source": [
    "3 son los operadores desconocidos que fueron ineficaces."
   ]
  },
  {
   "cell_type": "code",
   "execution_count": 44,
   "metadata": {},
   "outputs": [
    {
     "data": {
      "text/plain": [
       "229"
      ]
     },
     "execution_count": 44,
     "metadata": {},
     "output_type": "execute_result"
    }
   ],
   "source": [
    "# Calcular el número de operadores ineficaces que no recibieron llamadas\n",
    "report[\n",
    "    (data==False) & (\n",
    "        (report['num_missed_calls_in'].isna()) |\n",
    "        (report['avg_waiting_time_in'].isna()) \n",
    "        )\n",
    "]['operator_id'].count()"
   ]
  },
  {
   "cell_type": "markdown",
   "metadata": {},
   "source": [
    "229 operadores ineficaces no tuvieron la oportunidad de atender llamadas entrantes y en consecuencia tampoco se demoraron. Estos pueden ser nuevos, practicantes e incluso por el azar no haber recibido llamadas, por lo que requieren más tiempo para poner a prueba sus capacidades. Aun así representan una pérdida para CallMeMaybe, podrían ser cambiados a otra area de trabajo o quizá hay un excedente de operadores. \n",
    "\n",
    "De momento son 229 operadores ineficaces en duda."
   ]
  },
  {
   "cell_type": "markdown",
   "metadata": {},
   "source": [
    "Si se aumenta el rigor de umbral en llamadas perdidas quizá se aumente notablemente el número de operadores ineficaces"
   ]
  },
  {
   "cell_type": "code",
   "execution_count": 45,
   "metadata": {},
   "outputs": [
    {
     "name": "stdout",
     "output_type": "stream",
     "text": [
      "0.0 31.174999999999997 34.0\n"
     ]
    }
   ],
   "source": [
    "med_a, med_b, med_c = report[['num_missed_calls_in', 'avg_waiting_time_in', 'num_calls_out']].median()\n",
    "print(med_a, med_b, med_c) # Mostrar valores medianos que representan umbrales de ineficacia"
   ]
  },
  {
   "cell_type": "code",
   "execution_count": 46,
   "metadata": {},
   "outputs": [
    {
     "data": {
      "image/png": "[encoded data removed]",
      "text/plain": [
       "<Figure size 400x300 with 1 Axes>"
      ]
     },
     "metadata": {},
     "output_type": "display_data"
    },
    {
     "data": {
      "text/html": [
       "<div>\n",
       "<style scoped>\n",
       "    .dataframe tbody tr th:only-of-type {\n",
       "        vertical-align: middle;\n",
       "    }\n",
       "\n",
       "    .dataframe tbody tr th {\n",
       "        vertical-align: top;\n",
       "    }\n",
       "\n",
       "    .dataframe thead th {\n",
       "        text-align: right;\n",
       "    }\n",
       "</style>\n",
       "<table border=\"1\" class=\"dataframe\">\n",
       "  <thead>\n",
       "    <tr style=\"text-align: right;\">\n",
       "      <th></th>\n",
       "      <th>count</th>\n",
       "      <th>proportion</th>\n",
       "    </tr>\n",
       "    <tr>\n",
       "      <th>rigor_effective</th>\n",
       "      <th></th>\n",
       "      <th></th>\n",
       "    </tr>\n",
       "  </thead>\n",
       "  <tbody>\n",
       "    <tr>\n",
       "      <th>True</th>\n",
       "      <td>779</td>\n",
       "      <td>0.71</td>\n",
       "    </tr>\n",
       "    <tr>\n",
       "      <th>False</th>\n",
       "      <td>316</td>\n",
       "      <td>0.29</td>\n",
       "    </tr>\n",
       "  </tbody>\n",
       "</table>\n",
       "</div>"
      ],
      "text/plain": [
       "                 count  proportion\n",
       "rigor_effective                   \n",
       "True               779        0.71\n",
       "False              316        0.29"
      ]
     },
     "metadata": {},
     "output_type": "display_data"
    }
   ],
   "source": [
    "# Crear columna effective para definir el cumplimiento de tareas del operador\n",
    "# Aumentar el rigor de umbrales\n",
    "report['rigor_effective'] = (\n",
    "    (report['num_missed_calls_in'] <= med_a) |\n",
    "    (report['avg_waiting_time_in'] <= med_b) |\n",
    "    (report['num_calls_out'] >= avg_c)\n",
    ")\n",
    "\n",
    "# ajustar tamaño de figura\n",
    "plt.figure(figsize=(4,3)) \n",
    "sns.countplot(data=report, x='rigor_effective', hue='rigor_effective', palette='Set1', legend=False)\n",
    "plt.title('Eficacia de rigor de Operadores')\n",
    "plt.xlabel('Cumplimiento')\n",
    "plt.show() # mostrar plot\n",
    "\n",
    "# cuantificar operadores\n",
    "data = report['rigor_effective']\n",
    "display(pd.concat([data.value_counts(), data.value_counts(normalize=True)], axis=1).round(2))\n"
   ]
  },
  {
   "cell_type": "code",
   "execution_count": 47,
   "metadata": {},
   "outputs": [
    {
     "data": {
      "text/plain": [
       "87"
      ]
     },
     "execution_count": 47,
     "metadata": {},
     "output_type": "execute_result"
    }
   ],
   "source": [
    "# Calcular el número de operadores ineficaces que si recibieron llamadas\n",
    "report[\n",
    "    (data==False) & ~(\n",
    "        (report['num_missed_calls_in'].isna()) |\n",
    "        (report['avg_waiting_time_in'].isna()) \n",
    "        )\n",
    "]['operator_id'].count()"
   ]
  },
  {
   "cell_type": "markdown",
   "metadata": {},
   "source": [
    "Con mayor rigor se pasa de 3 a 87 operadores ineficaces verdaderos. Por diferencia de proporcion respecto al caso anterior, representan un 7% de ineficaces verdaderos, frente a un 71% de eficaces, de tal manera que `sin considerar los dudosos se podría generalizar que 1 de cada 10 operadores es ineficaz.` 87/(87+779)"
   ]
  },
  {
   "cell_type": "markdown",
   "metadata": {},
   "source": [
    "\n",
    "Ahora se procede a observar el rendimiento de los operadores."
   ]
  },
  {
   "cell_type": "code",
   "execution_count": 48,
   "metadata": {},
   "outputs": [],
   "source": [
    "# Función para obtener tabla de frecuencia de historgramas\n",
    "def freq_table(data, bins):\n",
    "    \"\"\"\n",
    "    Crea una tabla con los rangos de los bins y sus frecuencias.\n",
    "\n",
    "    Parameters:\n",
    "    data (array-like): Los datos para calcular el histograma.\n",
    "    bins (int): El número de bins para el histograma.\n",
    "\n",
    "    Returns:\n",
    "    pd.DataFrame: Un DataFrame con los rangos de los bins y sus frecuencias.\n",
    "    \"\"\"\n",
    "    counts, bin_edges = np.histogram(data.dropna(), bins=bins)  # Calcula los histogramas con el número de bins especificado\n",
    "    bin_ranges = [f'{bin_edges[i]:.2f} to {bin_edges[i+1]:.2f}' for i in range(len(bin_edges)-1)]\n",
    "    histogram_table = pd.DataFrame({'Bin Range': bin_ranges, 'Frequency': counts})\n",
    "    \n",
    "    # Filtra la tabla para mostrar solo las filas donde la frecuencia es mayor que cero\n",
    "    filtered_table = histogram_table[histogram_table['Frequency'] > 0]\n",
    "    \n",
    "    return filtered_table"
   ]
  },
  {
   "cell_type": "code",
   "execution_count": 49,
   "metadata": {},
   "outputs": [
    {
     "data": {
      "image/png": "[encoded data removed]",
      "text/plain": [
       "<Figure size 750x500 with 1 Axes>"
      ]
     },
     "metadata": {},
     "output_type": "display_data"
    },
    {
     "name": "stdout",
     "output_type": "stream",
     "text": [
      "Operadores ineficaces\n",
      "\n"
     ]
    },
    {
     "data": {
      "text/html": [
       "<div>\n",
       "<style scoped>\n",
       "    .dataframe tbody tr th:only-of-type {\n",
       "        vertical-align: middle;\n",
       "    }\n",
       "\n",
       "    .dataframe tbody tr th {\n",
       "        vertical-align: top;\n",
       "    }\n",
       "\n",
       "    .dataframe thead th {\n",
       "        text-align: right;\n",
       "    }\n",
       "</style>\n",
       "<table border=\"1\" class=\"dataframe\">\n",
       "  <thead>\n",
       "    <tr style=\"text-align: right;\">\n",
       "      <th></th>\n",
       "      <th>Rendimiento</th>\n",
       "      <th># Ineficaces</th>\n",
       "    </tr>\n",
       "  </thead>\n",
       "  <tbody>\n",
       "    <tr>\n",
       "      <th>0</th>\n",
       "      <td>0.35 to 0.44</td>\n",
       "      <td>4</td>\n",
       "    </tr>\n",
       "    <tr>\n",
       "      <th>1</th>\n",
       "      <td>0.44 to 0.53</td>\n",
       "      <td>1</td>\n",
       "    </tr>\n",
       "    <tr>\n",
       "      <th>2</th>\n",
       "      <td>0.53 to 0.61</td>\n",
       "      <td>2</td>\n",
       "    </tr>\n",
       "    <tr>\n",
       "      <th>3</th>\n",
       "      <td>0.61 to 0.70</td>\n",
       "      <td>6</td>\n",
       "    </tr>\n",
       "    <tr>\n",
       "      <th>4</th>\n",
       "      <td>0.70 to 0.79</td>\n",
       "      <td>74</td>\n",
       "    </tr>\n",
       "  </tbody>\n",
       "</table>\n",
       "</div>"
      ],
      "text/plain": [
       "    Rendimiento  # Ineficaces\n",
       "0  0.35 to 0.44             4\n",
       "1  0.44 to 0.53             1\n",
       "2  0.53 to 0.61             2\n",
       "3  0.61 to 0.70             6\n",
       "4  0.70 to 0.79            74"
      ]
     },
     "metadata": {},
     "output_type": "display_data"
    }
   ],
   "source": [
    "plt.figure(figsize=(7.5,5)) # tamaño de figura\n",
    "sns.histplot(data=report, x='performance', hue='rigor_effective', palette='Set1', bins=50) # trazar hist\n",
    "#plt.yscale('log') # escala logarítmica en eje y para mostrar frecuencias mínimas\n",
    "plt.title('Distribución de Rendimiento por eficacia')\n",
    "plt.ylabel('No. de Operadores (log10)')\n",
    "plt.yscale('log')\n",
    "plt.show() # mostrar plot\n",
    "\n",
    "mask = (report['rigor_effective']==False) # mascara booleana de ineficacia \n",
    "hist_table = freq_table(data=report[mask]['performance'], bins=5)\n",
    "hist_table.columns = ['Rendimiento', '# Ineficaces']\n",
    "print('Operadores ineficaces\\n')\n",
    "display(hist_table) # mostrar tabla de freq"
   ]
  },
  {
   "cell_type": "markdown",
   "metadata": {},
   "source": [
    "5 operadores ineficaces tuvieron rendimientos entre 35-53%, 8 tuvieron rendimientos entre 56-70% y otros 64 operadores tuvieron un buen rendimiento entre el 70-79%."
   ]
  },
  {
   "cell_type": "markdown",
   "metadata": {},
   "source": [
    "Recordar que basta con que el operador cumpla las 3 tareas básicas para ser eficaz, pero el alto rendimiento permite identificar a los mejores.\n",
    "\n",
    "Puede darse el caso de no cumplir las 3 tareas a la vez pero su rendimiento puede revelar su potencial.\n",
    "\n",
    "Observemos entonces a los 10 mejores operadores y a los que requieren mejorar pero tienen potencial."
   ]
  },
  {
   "cell_type": "code",
   "execution_count": 50,
   "metadata": {},
   "outputs": [
    {
     "data": {
      "text/html": [
       "<div>\n",
       "<style scoped>\n",
       "    .dataframe tbody tr th:only-of-type {\n",
       "        vertical-align: middle;\n",
       "    }\n",
       "\n",
       "    .dataframe tbody tr th {\n",
       "        vertical-align: top;\n",
       "    }\n",
       "\n",
       "    .dataframe thead th {\n",
       "        text-align: right;\n",
       "    }\n",
       "</style>\n",
       "<table border=\"1\" class=\"dataframe\">\n",
       "  <thead>\n",
       "    <tr style=\"text-align: right;\">\n",
       "      <th></th>\n",
       "      <th>operator_id</th>\n",
       "      <th>tariff_plan</th>\n",
       "      <th>num_missed_calls_in</th>\n",
       "      <th>avg_waiting_time_in</th>\n",
       "      <th>num_calls_out</th>\n",
       "      <th>effective</th>\n",
       "      <th>performance</th>\n",
       "      <th>rigor_effective</th>\n",
       "    </tr>\n",
       "  </thead>\n",
       "  <tbody>\n",
       "    <tr>\n",
       "      <th>31</th>\n",
       "      <td>885876</td>\n",
       "      <td>A</td>\n",
       "      <td>15.0</td>\n",
       "      <td>102.50</td>\n",
       "      <td>62491</td>\n",
       "      <td>True</td>\n",
       "      <td>0.96</td>\n",
       "      <td>True</td>\n",
       "    </tr>\n",
       "    <tr>\n",
       "      <th>32</th>\n",
       "      <td>885890</td>\n",
       "      <td>A</td>\n",
       "      <td>16.0</td>\n",
       "      <td>126.45</td>\n",
       "      <td>61310</td>\n",
       "      <td>True</td>\n",
       "      <td>0.94</td>\n",
       "      <td>True</td>\n",
       "    </tr>\n",
       "    <tr>\n",
       "      <th>554</th>\n",
       "      <td>925922</td>\n",
       "      <td>A</td>\n",
       "      <td>4.0</td>\n",
       "      <td>120.96</td>\n",
       "      <td>20367</td>\n",
       "      <td>True</td>\n",
       "      <td>0.82</td>\n",
       "      <td>True</td>\n",
       "    </tr>\n",
       "    <tr>\n",
       "      <th>8</th>\n",
       "      <td>880028</td>\n",
       "      <td>B</td>\n",
       "      <td>0.0</td>\n",
       "      <td>8.37</td>\n",
       "      <td>2614</td>\n",
       "      <td>True</td>\n",
       "      <td>0.81</td>\n",
       "      <td>True</td>\n",
       "    </tr>\n",
       "    <tr>\n",
       "      <th>4</th>\n",
       "      <td>879898</td>\n",
       "      <td>B</td>\n",
       "      <td>0.0</td>\n",
       "      <td>29.47</td>\n",
       "      <td>7443</td>\n",
       "      <td>True</td>\n",
       "      <td>0.81</td>\n",
       "      <td>True</td>\n",
       "    </tr>\n",
       "    <tr>\n",
       "      <th>747</th>\n",
       "      <td>939222</td>\n",
       "      <td>B</td>\n",
       "      <td>0.0</td>\n",
       "      <td>19.62</td>\n",
       "      <td>923</td>\n",
       "      <td>True</td>\n",
       "      <td>0.80</td>\n",
       "      <td>True</td>\n",
       "    </tr>\n",
       "    <tr>\n",
       "      <th>237</th>\n",
       "      <td>904016</td>\n",
       "      <td>C</td>\n",
       "      <td>2.0</td>\n",
       "      <td>35.62</td>\n",
       "      <td>4843</td>\n",
       "      <td>True</td>\n",
       "      <td>0.80</td>\n",
       "      <td>True</td>\n",
       "    </tr>\n",
       "    <tr>\n",
       "      <th>578</th>\n",
       "      <td>928886</td>\n",
       "      <td>C</td>\n",
       "      <td>0.0</td>\n",
       "      <td>18.25</td>\n",
       "      <td>731</td>\n",
       "      <td>True</td>\n",
       "      <td>0.80</td>\n",
       "      <td>True</td>\n",
       "    </tr>\n",
       "    <tr>\n",
       "      <th>575</th>\n",
       "      <td>928382</td>\n",
       "      <td>B</td>\n",
       "      <td>1.0</td>\n",
       "      <td>3.86</td>\n",
       "      <td>10</td>\n",
       "      <td>True</td>\n",
       "      <td>0.80</td>\n",
       "      <td>True</td>\n",
       "    </tr>\n",
       "    <tr>\n",
       "      <th>979</th>\n",
       "      <td>954616</td>\n",
       "      <td>B</td>\n",
       "      <td>0.0</td>\n",
       "      <td>7.67</td>\n",
       "      <td>0</td>\n",
       "      <td>True</td>\n",
       "      <td>0.80</td>\n",
       "      <td>True</td>\n",
       "    </tr>\n",
       "  </tbody>\n",
       "</table>\n",
       "</div>"
      ],
      "text/plain": [
       "     operator_id tariff_plan  num_missed_calls_in  avg_waiting_time_in  \\\n",
       "31        885876           A                 15.0               102.50   \n",
       "32        885890           A                 16.0               126.45   \n",
       "554       925922           A                  4.0               120.96   \n",
       "8         880028           B                  0.0                 8.37   \n",
       "4         879898           B                  0.0                29.47   \n",
       "747       939222           B                  0.0                19.62   \n",
       "237       904016           C                  2.0                35.62   \n",
       "578       928886           C                  0.0                18.25   \n",
       "575       928382           B                  1.0                 3.86   \n",
       "979       954616           B                  0.0                 7.67   \n",
       "\n",
       "     num_calls_out  effective  performance  rigor_effective  \n",
       "31           62491       True         0.96             True  \n",
       "32           61310       True         0.94             True  \n",
       "554          20367       True         0.82             True  \n",
       "8             2614       True         0.81             True  \n",
       "4             7443       True         0.81             True  \n",
       "747            923       True         0.80             True  \n",
       "237           4843       True         0.80             True  \n",
       "578            731       True         0.80             True  \n",
       "575             10       True         0.80             True  \n",
       "979              0       True         0.80             True  "
      ]
     },
     "execution_count": 50,
     "metadata": {},
     "output_type": "execute_result"
    }
   ],
   "source": [
    "report[~mask].sort_values('performance', ascending=False).head(10)"
   ]
  },
  {
   "cell_type": "markdown",
   "metadata": {},
   "source": [
    "Los 10 mejores operadores cumplen sus tareas y tienen un rendimiento de 80% en adelante"
   ]
  },
  {
   "cell_type": "code",
   "execution_count": 51,
   "metadata": {},
   "outputs": [
    {
     "data": {
      "text/html": [
       "<div>\n",
       "<style scoped>\n",
       "    .dataframe tbody tr th:only-of-type {\n",
       "        vertical-align: middle;\n",
       "    }\n",
       "\n",
       "    .dataframe tbody tr th {\n",
       "        vertical-align: top;\n",
       "    }\n",
       "\n",
       "    .dataframe thead th {\n",
       "        text-align: right;\n",
       "    }\n",
       "</style>\n",
       "<table border=\"1\" class=\"dataframe\">\n",
       "  <thead>\n",
       "    <tr style=\"text-align: right;\">\n",
       "      <th></th>\n",
       "      <th>operator_id</th>\n",
       "      <th>tariff_plan</th>\n",
       "      <th>num_missed_calls_in</th>\n",
       "      <th>avg_waiting_time_in</th>\n",
       "      <th>num_calls_out</th>\n",
       "      <th>effective</th>\n",
       "      <th>performance</th>\n",
       "      <th>rigor_effective</th>\n",
       "    </tr>\n",
       "  </thead>\n",
       "  <tbody>\n",
       "    <tr>\n",
       "      <th>469</th>\n",
       "      <td>919790</td>\n",
       "      <td>B</td>\n",
       "      <td>0.0</td>\n",
       "      <td>866.80</td>\n",
       "      <td>23</td>\n",
       "      <td>True</td>\n",
       "      <td>0.46</td>\n",
       "      <td>True</td>\n",
       "    </tr>\n",
       "    <tr>\n",
       "      <th>616</th>\n",
       "      <td>931458</td>\n",
       "      <td>C</td>\n",
       "      <td>9.0</td>\n",
       "      <td>694.82</td>\n",
       "      <td>2379</td>\n",
       "      <td>True</td>\n",
       "      <td>0.53</td>\n",
       "      <td>True</td>\n",
       "    </tr>\n",
       "    <tr>\n",
       "      <th>500</th>\n",
       "      <td>921318</td>\n",
       "      <td>C</td>\n",
       "      <td>6.0</td>\n",
       "      <td>616.89</td>\n",
       "      <td>2845</td>\n",
       "      <td>True</td>\n",
       "      <td>0.56</td>\n",
       "      <td>True</td>\n",
       "    </tr>\n",
       "    <tr>\n",
       "      <th>272</th>\n",
       "      <td>906076</td>\n",
       "      <td>C</td>\n",
       "      <td>0.0</td>\n",
       "      <td>611.50</td>\n",
       "      <td>1</td>\n",
       "      <td>True</td>\n",
       "      <td>0.56</td>\n",
       "      <td>True</td>\n",
       "    </tr>\n",
       "    <tr>\n",
       "      <th>467</th>\n",
       "      <td>919552</td>\n",
       "      <td>B</td>\n",
       "      <td>0.0</td>\n",
       "      <td>569.57</td>\n",
       "      <td>64</td>\n",
       "      <td>True</td>\n",
       "      <td>0.57</td>\n",
       "      <td>True</td>\n",
       "    </tr>\n",
       "    <tr>\n",
       "      <th>...</th>\n",
       "      <td>...</td>\n",
       "      <td>...</td>\n",
       "      <td>...</td>\n",
       "      <td>...</td>\n",
       "      <td>...</td>\n",
       "      <td>...</td>\n",
       "      <td>...</td>\n",
       "      <td>...</td>\n",
       "    </tr>\n",
       "    <tr>\n",
       "      <th>954</th>\n",
       "      <td>952468</td>\n",
       "      <td>other</td>\n",
       "      <td>NaN</td>\n",
       "      <td>NaN</td>\n",
       "      <td>1140</td>\n",
       "      <td>True</td>\n",
       "      <td>NaN</td>\n",
       "      <td>True</td>\n",
       "    </tr>\n",
       "    <tr>\n",
       "      <th>968</th>\n",
       "      <td>953462</td>\n",
       "      <td>other</td>\n",
       "      <td>NaN</td>\n",
       "      <td>NaN</td>\n",
       "      <td>733</td>\n",
       "      <td>True</td>\n",
       "      <td>NaN</td>\n",
       "      <td>True</td>\n",
       "    </tr>\n",
       "    <tr>\n",
       "      <th>1054</th>\n",
       "      <td>965540</td>\n",
       "      <td>other</td>\n",
       "      <td>NaN</td>\n",
       "      <td>NaN</td>\n",
       "      <td>823</td>\n",
       "      <td>True</td>\n",
       "      <td>NaN</td>\n",
       "      <td>True</td>\n",
       "    </tr>\n",
       "    <tr>\n",
       "      <th>1055</th>\n",
       "      <td>965542</td>\n",
       "      <td>other</td>\n",
       "      <td>NaN</td>\n",
       "      <td>NaN</td>\n",
       "      <td>681</td>\n",
       "      <td>True</td>\n",
       "      <td>NaN</td>\n",
       "      <td>True</td>\n",
       "    </tr>\n",
       "    <tr>\n",
       "      <th>1056</th>\n",
       "      <td>965544</td>\n",
       "      <td>other</td>\n",
       "      <td>NaN</td>\n",
       "      <td>NaN</td>\n",
       "      <td>1277</td>\n",
       "      <td>True</td>\n",
       "      <td>NaN</td>\n",
       "      <td>True</td>\n",
       "    </tr>\n",
       "  </tbody>\n",
       "</table>\n",
       "<p>779 rows × 8 columns</p>\n",
       "</div>"
      ],
      "text/plain": [
       "      operator_id tariff_plan  num_missed_calls_in  avg_waiting_time_in  \\\n",
       "469        919790           B                  0.0               866.80   \n",
       "616        931458           C                  9.0               694.82   \n",
       "500        921318           C                  6.0               616.89   \n",
       "272        906076           C                  0.0               611.50   \n",
       "467        919552           B                  0.0               569.57   \n",
       "...           ...         ...                  ...                  ...   \n",
       "954        952468       other                  NaN                  NaN   \n",
       "968        953462       other                  NaN                  NaN   \n",
       "1054       965540       other                  NaN                  NaN   \n",
       "1055       965542       other                  NaN                  NaN   \n",
       "1056       965544       other                  NaN                  NaN   \n",
       "\n",
       "      num_calls_out  effective  performance  rigor_effective  \n",
       "469              23       True         0.46             True  \n",
       "616            2379       True         0.53             True  \n",
       "500            2845       True         0.56             True  \n",
       "272               1       True         0.56             True  \n",
       "467              64       True         0.57             True  \n",
       "...             ...        ...          ...              ...  \n",
       "954            1140       True          NaN             True  \n",
       "968             733       True          NaN             True  \n",
       "1054            823       True          NaN             True  \n",
       "1055            681       True          NaN             True  \n",
       "1056           1277       True          NaN             True  \n",
       "\n",
       "[779 rows x 8 columns]"
      ]
     },
     "execution_count": 51,
     "metadata": {},
     "output_type": "execute_result"
    }
   ],
   "source": [
    "report[~mask].sort_values('performance', ascending=True)"
   ]
  },
  {
   "cell_type": "markdown",
   "metadata": {},
   "source": [
    "El rendimiento más bajo observado en operadores eficaces es del 46%. Tiene bastante margen de mejora al igual que sus próximos. Estos operadores son buenos trabajadores."
   ]
  },
  {
   "cell_type": "code",
   "execution_count": 52,
   "metadata": {},
   "outputs": [
    {
     "data": {
      "text/html": [
       "<div>\n",
       "<style scoped>\n",
       "    .dataframe tbody tr th:only-of-type {\n",
       "        vertical-align: middle;\n",
       "    }\n",
       "\n",
       "    .dataframe tbody tr th {\n",
       "        vertical-align: top;\n",
       "    }\n",
       "\n",
       "    .dataframe thead th {\n",
       "        text-align: right;\n",
       "    }\n",
       "</style>\n",
       "<table border=\"1\" class=\"dataframe\">\n",
       "  <thead>\n",
       "    <tr style=\"text-align: right;\">\n",
       "      <th></th>\n",
       "      <th>operator_id</th>\n",
       "      <th>tariff_plan</th>\n",
       "      <th>num_missed_calls_in</th>\n",
       "      <th>avg_waiting_time_in</th>\n",
       "      <th>num_calls_out</th>\n",
       "      <th>effective</th>\n",
       "      <th>performance</th>\n",
       "      <th>rigor_effective</th>\n",
       "    </tr>\n",
       "  </thead>\n",
       "  <tbody>\n",
       "    <tr>\n",
       "      <th>2</th>\n",
       "      <td>0</td>\n",
       "      <td>C</td>\n",
       "      <td>3466.0</td>\n",
       "      <td>125.04</td>\n",
       "      <td>0</td>\n",
       "      <td>False</td>\n",
       "      <td>0.35</td>\n",
       "      <td>False</td>\n",
       "    </tr>\n",
       "    <tr>\n",
       "      <th>1</th>\n",
       "      <td>0</td>\n",
       "      <td>B</td>\n",
       "      <td>2867.0</td>\n",
       "      <td>163.65</td>\n",
       "      <td>0</td>\n",
       "      <td>False</td>\n",
       "      <td>0.40</td>\n",
       "      <td>False</td>\n",
       "    </tr>\n",
       "    <tr>\n",
       "      <th>471</th>\n",
       "      <td>919794</td>\n",
       "      <td>B</td>\n",
       "      <td>1.0</td>\n",
       "      <td>1007.38</td>\n",
       "      <td>21</td>\n",
       "      <td>True</td>\n",
       "      <td>0.40</td>\n",
       "      <td>False</td>\n",
       "    </tr>\n",
       "    <tr>\n",
       "      <th>271</th>\n",
       "      <td>906070</td>\n",
       "      <td>C</td>\n",
       "      <td>1.0</td>\n",
       "      <td>946.64</td>\n",
       "      <td>89</td>\n",
       "      <td>True</td>\n",
       "      <td>0.42</td>\n",
       "      <td>False</td>\n",
       "    </tr>\n",
       "    <tr>\n",
       "      <th>0</th>\n",
       "      <td>0</td>\n",
       "      <td>A</td>\n",
       "      <td>1203.0</td>\n",
       "      <td>364.86</td>\n",
       "      <td>0</td>\n",
       "      <td>False</td>\n",
       "      <td>0.52</td>\n",
       "      <td>False</td>\n",
       "    </tr>\n",
       "    <tr>\n",
       "      <th>441</th>\n",
       "      <td>919204</td>\n",
       "      <td>A</td>\n",
       "      <td>4.0</td>\n",
       "      <td>585.12</td>\n",
       "      <td>9</td>\n",
       "      <td>True</td>\n",
       "      <td>0.57</td>\n",
       "      <td>False</td>\n",
       "    </tr>\n",
       "    <tr>\n",
       "      <th>371</th>\n",
       "      <td>913938</td>\n",
       "      <td>B</td>\n",
       "      <td>13.0</td>\n",
       "      <td>526.94</td>\n",
       "      <td>411</td>\n",
       "      <td>False</td>\n",
       "      <td>0.59</td>\n",
       "      <td>False</td>\n",
       "    </tr>\n",
       "    <tr>\n",
       "      <th>432</th>\n",
       "      <td>919166</td>\n",
       "      <td>A</td>\n",
       "      <td>2.0</td>\n",
       "      <td>465.75</td>\n",
       "      <td>21</td>\n",
       "      <td>True</td>\n",
       "      <td>0.62</td>\n",
       "      <td>False</td>\n",
       "    </tr>\n",
       "    <tr>\n",
       "      <th>442</th>\n",
       "      <td>919206</td>\n",
       "      <td>A</td>\n",
       "      <td>5.0</td>\n",
       "      <td>430.29</td>\n",
       "      <td>1</td>\n",
       "      <td>True</td>\n",
       "      <td>0.63</td>\n",
       "      <td>False</td>\n",
       "    </tr>\n",
       "    <tr>\n",
       "      <th>372</th>\n",
       "      <td>913942</td>\n",
       "      <td>B</td>\n",
       "      <td>10.0</td>\n",
       "      <td>431.70</td>\n",
       "      <td>444</td>\n",
       "      <td>True</td>\n",
       "      <td>0.63</td>\n",
       "      <td>False</td>\n",
       "    </tr>\n",
       "  </tbody>\n",
       "</table>\n",
       "</div>"
      ],
      "text/plain": [
       "     operator_id tariff_plan  num_missed_calls_in  avg_waiting_time_in  \\\n",
       "2              0           C               3466.0               125.04   \n",
       "1              0           B               2867.0               163.65   \n",
       "471       919794           B                  1.0              1007.38   \n",
       "271       906070           C                  1.0               946.64   \n",
       "0              0           A               1203.0               364.86   \n",
       "441       919204           A                  4.0               585.12   \n",
       "371       913938           B                 13.0               526.94   \n",
       "432       919166           A                  2.0               465.75   \n",
       "442       919206           A                  5.0               430.29   \n",
       "372       913942           B                 10.0               431.70   \n",
       "\n",
       "     num_calls_out  effective  performance  rigor_effective  \n",
       "2                0      False         0.35            False  \n",
       "1                0      False         0.40            False  \n",
       "471             21       True         0.40            False  \n",
       "271             89       True         0.42            False  \n",
       "0                0      False         0.52            False  \n",
       "441              9       True         0.57            False  \n",
       "371            411      False         0.59            False  \n",
       "432             21       True         0.62            False  \n",
       "442              1       True         0.63            False  \n",
       "372            444       True         0.63            False  "
      ]
     },
     "execution_count": 52,
     "metadata": {},
     "output_type": "execute_result"
    }
   ],
   "source": [
    "report[mask].sort_values(['performance'], ascending=True).head(10)"
   ]
  },
  {
   "cell_type": "markdown",
   "metadata": {},
   "source": [
    "\n",
    "- Los 10 operadores ineficaces con menor desempeño tienen un rendimiento de 35-63%. Incluso estos pueden mejorar.\n"
   ]
  },
  {
   "cell_type": "code",
   "execution_count": 53,
   "metadata": {},
   "outputs": [
    {
     "data": {
      "text/html": [
       "<div>\n",
       "<style scoped>\n",
       "    .dataframe tbody tr th:only-of-type {\n",
       "        vertical-align: middle;\n",
       "    }\n",
       "\n",
       "    .dataframe tbody tr th {\n",
       "        vertical-align: top;\n",
       "    }\n",
       "\n",
       "    .dataframe thead th {\n",
       "        text-align: right;\n",
       "    }\n",
       "</style>\n",
       "<table border=\"1\" class=\"dataframe\">\n",
       "  <thead>\n",
       "    <tr style=\"text-align: right;\">\n",
       "      <th></th>\n",
       "      <th>operator_id</th>\n",
       "      <th>tariff_plan</th>\n",
       "      <th>num_missed_calls_in</th>\n",
       "      <th>avg_waiting_time_in</th>\n",
       "      <th>num_calls_out</th>\n",
       "      <th>effective</th>\n",
       "      <th>performance</th>\n",
       "      <th>rigor_effective</th>\n",
       "    </tr>\n",
       "  </thead>\n",
       "  <tbody>\n",
       "    <tr>\n",
       "      <th>266</th>\n",
       "      <td>905862</td>\n",
       "      <td>C</td>\n",
       "      <td>3.0</td>\n",
       "      <td>31.49</td>\n",
       "      <td>1</td>\n",
       "      <td>True</td>\n",
       "      <td>0.79</td>\n",
       "      <td>False</td>\n",
       "    </tr>\n",
       "    <tr>\n",
       "      <th>547</th>\n",
       "      <td>924960</td>\n",
       "      <td>A</td>\n",
       "      <td>1.0</td>\n",
       "      <td>38.06</td>\n",
       "      <td>236</td>\n",
       "      <td>True</td>\n",
       "      <td>0.79</td>\n",
       "      <td>False</td>\n",
       "    </tr>\n",
       "    <tr>\n",
       "      <th>481</th>\n",
       "      <td>920666</td>\n",
       "      <td>C</td>\n",
       "      <td>1.0</td>\n",
       "      <td>39.71</td>\n",
       "      <td>273</td>\n",
       "      <td>True</td>\n",
       "      <td>0.79</td>\n",
       "      <td>False</td>\n",
       "    </tr>\n",
       "    <tr>\n",
       "      <th>249</th>\n",
       "      <td>905300</td>\n",
       "      <td>C</td>\n",
       "      <td>2.0</td>\n",
       "      <td>34.50</td>\n",
       "      <td>0</td>\n",
       "      <td>True</td>\n",
       "      <td>0.79</td>\n",
       "      <td>False</td>\n",
       "    </tr>\n",
       "    <tr>\n",
       "      <th>226</th>\n",
       "      <td>902910</td>\n",
       "      <td>C</td>\n",
       "      <td>1.0</td>\n",
       "      <td>36.80</td>\n",
       "      <td>0</td>\n",
       "      <td>True</td>\n",
       "      <td>0.79</td>\n",
       "      <td>False</td>\n",
       "    </tr>\n",
       "    <tr>\n",
       "      <th>...</th>\n",
       "      <td>...</td>\n",
       "      <td>...</td>\n",
       "      <td>...</td>\n",
       "      <td>...</td>\n",
       "      <td>...</td>\n",
       "      <td>...</td>\n",
       "      <td>...</td>\n",
       "      <td>...</td>\n",
       "    </tr>\n",
       "    <tr>\n",
       "      <th>1084</th>\n",
       "      <td>970484</td>\n",
       "      <td>other</td>\n",
       "      <td>NaN</td>\n",
       "      <td>NaN</td>\n",
       "      <td>7</td>\n",
       "      <td>False</td>\n",
       "      <td>NaN</td>\n",
       "      <td>False</td>\n",
       "    </tr>\n",
       "    <tr>\n",
       "      <th>1085</th>\n",
       "      <td>970486</td>\n",
       "      <td>other</td>\n",
       "      <td>NaN</td>\n",
       "      <td>NaN</td>\n",
       "      <td>6</td>\n",
       "      <td>False</td>\n",
       "      <td>NaN</td>\n",
       "      <td>False</td>\n",
       "    </tr>\n",
       "    <tr>\n",
       "      <th>1089</th>\n",
       "      <td>972408</td>\n",
       "      <td>other</td>\n",
       "      <td>NaN</td>\n",
       "      <td>NaN</td>\n",
       "      <td>8</td>\n",
       "      <td>False</td>\n",
       "      <td>NaN</td>\n",
       "      <td>False</td>\n",
       "    </tr>\n",
       "    <tr>\n",
       "      <th>1090</th>\n",
       "      <td>972410</td>\n",
       "      <td>other</td>\n",
       "      <td>NaN</td>\n",
       "      <td>NaN</td>\n",
       "      <td>77</td>\n",
       "      <td>False</td>\n",
       "      <td>NaN</td>\n",
       "      <td>False</td>\n",
       "    </tr>\n",
       "    <tr>\n",
       "      <th>1093</th>\n",
       "      <td>973120</td>\n",
       "      <td>other</td>\n",
       "      <td>NaN</td>\n",
       "      <td>NaN</td>\n",
       "      <td>3</td>\n",
       "      <td>False</td>\n",
       "      <td>NaN</td>\n",
       "      <td>False</td>\n",
       "    </tr>\n",
       "  </tbody>\n",
       "</table>\n",
       "<p>316 rows × 8 columns</p>\n",
       "</div>"
      ],
      "text/plain": [
       "      operator_id tariff_plan  num_missed_calls_in  avg_waiting_time_in  \\\n",
       "266        905862           C                  3.0                31.49   \n",
       "547        924960           A                  1.0                38.06   \n",
       "481        920666           C                  1.0                39.71   \n",
       "249        905300           C                  2.0                34.50   \n",
       "226        902910           C                  1.0                36.80   \n",
       "...           ...         ...                  ...                  ...   \n",
       "1084       970484       other                  NaN                  NaN   \n",
       "1085       970486       other                  NaN                  NaN   \n",
       "1089       972408       other                  NaN                  NaN   \n",
       "1090       972410       other                  NaN                  NaN   \n",
       "1093       973120       other                  NaN                  NaN   \n",
       "\n",
       "      num_calls_out  effective  performance  rigor_effective  \n",
       "266               1       True         0.79            False  \n",
       "547             236       True         0.79            False  \n",
       "481             273       True         0.79            False  \n",
       "249               0       True         0.79            False  \n",
       "226               0       True         0.79            False  \n",
       "...             ...        ...          ...              ...  \n",
       "1084              7      False          NaN            False  \n",
       "1085              6      False          NaN            False  \n",
       "1089              8      False          NaN            False  \n",
       "1090             77      False          NaN            False  \n",
       "1093              3      False          NaN            False  \n",
       "\n",
       "[316 rows x 8 columns]"
      ]
     },
     "execution_count": 53,
     "metadata": {},
     "output_type": "execute_result"
    }
   ],
   "source": [
    "report[mask].sort_values('performance', ascending=False)"
   ]
  },
  {
   "cell_type": "markdown",
   "metadata": {},
   "source": [
    "- Existen varios operadores ineficaces que rindieron hasta un 79%. Esto se debe a que cumplieron notablemente en no perder llamadas y hacer esperar poco a clientes pero no realizaron suficientes llamadas. Estos operadores pueden esporzarse un poco más en realizar llamadas y serán eficaces de alto rendimiento."
   ]
  },
  {
   "cell_type": "markdown",
   "metadata": {},
   "source": [
    "#### Ineficacia por segmento de clientes"
   ]
  },
  {
   "cell_type": "markdown",
   "metadata": {},
   "source": [
    "\n",
    "Con histogramas se descubrirá más detalle de los operadores menos eficaces en torno al segmento de clientes. \n",
    "\n",
    "Nótese que hay casos de ineficacia no culposa cuando los operadores no han recibido ninguna llamada por lo que no pueden perderlas y en consecuencia tampoco demorarse en atenderlas. Además de existir llamadas no provenientes de clientes definidos y llamadas salientes al público que aun no es cliente."
   ]
  },
  {
   "cell_type": "code",
   "execution_count": 54,
   "metadata": {},
   "outputs": [
    {
     "data": {
      "image/png": "[encoded data removed]",
      "text/plain": [
       "<Figure size 750x500 with 1 Axes>"
      ]
     },
     "metadata": {},
     "output_type": "display_data"
    },
    {
     "data": {
      "text/html": [
       "<div>\n",
       "<style scoped>\n",
       "    .dataframe tbody tr th:only-of-type {\n",
       "        vertical-align: middle;\n",
       "    }\n",
       "\n",
       "    .dataframe tbody tr th {\n",
       "        vertical-align: top;\n",
       "    }\n",
       "\n",
       "    .dataframe thead th {\n",
       "        text-align: right;\n",
       "    }\n",
       "</style>\n",
       "<table border=\"1\" class=\"dataframe\">\n",
       "  <thead>\n",
       "    <tr style=\"text-align: right;\">\n",
       "      <th></th>\n",
       "      <th>Llamadas perdidas</th>\n",
       "      <th># Ineficaces</th>\n",
       "    </tr>\n",
       "  </thead>\n",
       "  <tbody>\n",
       "    <tr>\n",
       "      <th>0</th>\n",
       "      <td>1.00 to 18.32</td>\n",
       "      <td>84</td>\n",
       "    </tr>\n",
       "    <tr>\n",
       "      <th>69</th>\n",
       "      <td>1196.42 to 1213.75</td>\n",
       "      <td>1</td>\n",
       "    </tr>\n",
       "    <tr>\n",
       "      <th>165</th>\n",
       "      <td>2859.62 to 2876.95</td>\n",
       "      <td>1</td>\n",
       "    </tr>\n",
       "    <tr>\n",
       "      <th>199</th>\n",
       "      <td>3448.67 to 3466.00</td>\n",
       "      <td>1</td>\n",
       "    </tr>\n",
       "  </tbody>\n",
       "</table>\n",
       "</div>"
      ],
      "text/plain": [
       "      Llamadas perdidas  # Ineficaces\n",
       "0         1.00 to 18.32            84\n",
       "69   1196.42 to 1213.75             1\n",
       "165  2859.62 to 2876.95             1\n",
       "199  3448.67 to 3466.00             1"
      ]
     },
     "metadata": {},
     "output_type": "display_data"
    }
   ],
   "source": [
    "# Trazar histograma de número de llamadas entrantes perdidas por operadores ineficaces\n",
    "plt.figure(figsize=(7.5,5))\n",
    "sns.histplot(data=report[mask], x='num_missed_calls_in', bins=100, hue='tariff_plan', multiple='stack') \n",
    "plt.title('Distribución de llamadas perdidas por plan de tarifa')\n",
    "plt.ylabel('No. de Operadores (log10)')\n",
    "plt.xlabel('Número de llamadas perdidas')\n",
    "plt.yscale('log')\n",
    "plt.show()\n",
    "\n",
    "hist_table = freq_table(data=report[mask]['num_missed_calls_in'], bins=200)\n",
    "hist_table.columns = ['Llamadas perdidas', '# Ineficaces']\n",
    "display(hist_table) # mostrar tabla de frecuencias"
   ]
  },
  {
   "cell_type": "markdown",
   "metadata": {},
   "source": [
    "De los operadores ineficaces, existen 84 que han perdido menos de 19 llamadas de clientes de las tarifas A,B y C; 1 que perdió cerca de 1205 llamadas de clientes de la tariba A, otro operador perdió cerca de 2870 llamadas de la tarifa B y otro que no atendió 3460 llamadas de clientes de la tarifa C. Todos estos perdieron más de la media de 10.58 llamadas, el resto son operadores que no recibieron llamadas.\n",
    "\n",
    "Convendría capacitar más a los operadores que atendieron a clientes de los planes A y C."
   ]
  },
  {
   "cell_type": "code",
   "execution_count": 55,
   "metadata": {},
   "outputs": [
    {
     "data": {
      "image/png": "[encoded data removed]",
      "text/plain": [
       "<Figure size 750x500 with 1 Axes>"
      ]
     },
     "metadata": {},
     "output_type": "display_data"
    },
    {
     "data": {
      "text/html": [
       "<div>\n",
       "<style scoped>\n",
       "    .dataframe tbody tr th:only-of-type {\n",
       "        vertical-align: middle;\n",
       "    }\n",
       "\n",
       "    .dataframe tbody tr th {\n",
       "        vertical-align: top;\n",
       "    }\n",
       "\n",
       "    .dataframe thead th {\n",
       "        text-align: right;\n",
       "    }\n",
       "</style>\n",
       "<table border=\"1\" class=\"dataframe\">\n",
       "  <thead>\n",
       "    <tr style=\"text-align: right;\">\n",
       "      <th></th>\n",
       "      <th>Tiempo de espera (segs)</th>\n",
       "      <th># Ineficaces</th>\n",
       "    </tr>\n",
       "  </thead>\n",
       "  <tbody>\n",
       "    <tr>\n",
       "      <th>0</th>\n",
       "      <td>31.49 to 129.08</td>\n",
       "      <td>63</td>\n",
       "    </tr>\n",
       "    <tr>\n",
       "      <th>1</th>\n",
       "      <td>129.08 to 226.67</td>\n",
       "      <td>12</td>\n",
       "    </tr>\n",
       "    <tr>\n",
       "      <th>2</th>\n",
       "      <td>226.67 to 324.26</td>\n",
       "      <td>3</td>\n",
       "    </tr>\n",
       "    <tr>\n",
       "      <th>3</th>\n",
       "      <td>324.26 to 421.85</td>\n",
       "      <td>2</td>\n",
       "    </tr>\n",
       "    <tr>\n",
       "      <th>4</th>\n",
       "      <td>421.85 to 519.43</td>\n",
       "      <td>3</td>\n",
       "    </tr>\n",
       "    <tr>\n",
       "      <th>5</th>\n",
       "      <td>519.43 to 617.02</td>\n",
       "      <td>2</td>\n",
       "    </tr>\n",
       "    <tr>\n",
       "      <th>9</th>\n",
       "      <td>909.79 to 1007.38</td>\n",
       "      <td>2</td>\n",
       "    </tr>\n",
       "  </tbody>\n",
       "</table>\n",
       "</div>"
      ],
      "text/plain": [
       "  Tiempo de espera (segs)  # Ineficaces\n",
       "0         31.49 to 129.08            63\n",
       "1        129.08 to 226.67            12\n",
       "2        226.67 to 324.26             3\n",
       "3        324.26 to 421.85             2\n",
       "4        421.85 to 519.43             3\n",
       "5        519.43 to 617.02             2\n",
       "9       909.79 to 1007.38             2"
      ]
     },
     "metadata": {},
     "output_type": "display_data"
    }
   ],
   "source": [
    "# Trazar histograma de tiempo de espera de llamadas entrantes por operadores ineficaces\n",
    "plt.figure(figsize=(7.5,5))\n",
    "sns.histplot(data=report[mask], x='avg_waiting_time_in', bins=50, hue='tariff_plan', multiple='stack')\n",
    "plt.title('Distribución de tiempo de espera de llamadas entrantes')\n",
    "plt.ylabel('No. Operadores')\n",
    "plt.xlabel('Tiempo de espera (segs)')\n",
    "plt.show()\n",
    "\n",
    "hist_table = freq_table(data=report[mask]['avg_waiting_time_in'], bins=10)\n",
    "hist_table.columns = ['Tiempo de espera (segs)', '# Ineficaces']\n",
    "display(hist_table) # mostrar tabla de frecuencias"
   ]
  },
  {
   "cell_type": "markdown",
   "metadata": {},
   "source": [
    "De la mayoría de operadores ineficaces 63 hicieron esperar hasta de 129 segundos a clientes de los planes A, B y C, de los mismos planes 12 operadores tardaron hasta 227 segundos en atender a clientes. \n",
    "\n",
    "En general convendría capacitar más a los operadores de los 3 planes que sean más eficientes para atender rápidamente a los que están en cola de espera."
   ]
  },
  {
   "cell_type": "code",
   "execution_count": 56,
   "metadata": {},
   "outputs": [
    {
     "data": {
      "image/png": "[encoded data removed]",
      "text/plain": [
       "<Figure size 750x500 with 1 Axes>"
      ]
     },
     "metadata": {},
     "output_type": "display_data"
    },
    {
     "data": {
      "text/html": [
       "<div>\n",
       "<style scoped>\n",
       "    .dataframe tbody tr th:only-of-type {\n",
       "        vertical-align: middle;\n",
       "    }\n",
       "\n",
       "    .dataframe tbody tr th {\n",
       "        vertical-align: top;\n",
       "    }\n",
       "\n",
       "    .dataframe thead th {\n",
       "        text-align: right;\n",
       "    }\n",
       "</style>\n",
       "<table border=\"1\" class=\"dataframe\">\n",
       "  <thead>\n",
       "    <tr style=\"text-align: right;\">\n",
       "      <th></th>\n",
       "      <th>Número de llamadas salientes</th>\n",
       "      <th># Ineficaces</th>\n",
       "    </tr>\n",
       "  </thead>\n",
       "  <tbody>\n",
       "    <tr>\n",
       "      <th>0</th>\n",
       "      <td>0.00 to 114.60</td>\n",
       "      <td>58</td>\n",
       "    </tr>\n",
       "    <tr>\n",
       "      <th>1</th>\n",
       "      <td>114.60 to 229.20</td>\n",
       "      <td>15</td>\n",
       "    </tr>\n",
       "    <tr>\n",
       "      <th>2</th>\n",
       "      <td>229.20 to 343.80</td>\n",
       "      <td>6</td>\n",
       "    </tr>\n",
       "    <tr>\n",
       "      <th>3</th>\n",
       "      <td>343.80 to 458.40</td>\n",
       "      <td>3</td>\n",
       "    </tr>\n",
       "    <tr>\n",
       "      <th>4</th>\n",
       "      <td>458.40 to 573.00</td>\n",
       "      <td>5</td>\n",
       "    </tr>\n",
       "  </tbody>\n",
       "</table>\n",
       "</div>"
      ],
      "text/plain": [
       "  Número de llamadas salientes  # Ineficaces\n",
       "0               0.00 to 114.60            58\n",
       "1             114.60 to 229.20            15\n",
       "2             229.20 to 343.80             6\n",
       "3             343.80 to 458.40             3\n",
       "4             458.40 to 573.00             5"
      ]
     },
     "metadata": {},
     "output_type": "display_data"
    }
   ],
   "source": [
    "# Trazar histograma de llamadas salientes por operadores ineficaces parte 1\n",
    "mask = (report['rigor_effective']==False) & (report['tariff_plan']!='other') # máscara booleana\n",
    "plt.figure(figsize=(7.5,5))\n",
    "sns.histplot(data=report[mask], x='num_calls_out', bins=60, hue='tariff_plan', multiple='stack')\n",
    "plt.title('Distribución de llamadas salientes')\n",
    "plt.ylabel('No. de Operadores')\n",
    "plt.xlabel('Número de llamadas salientes')\n",
    "plt.show()\n",
    "\n",
    "hist_table = freq_table(data=report[mask]['num_calls_out'], bins=5)\n",
    "hist_table.columns = ['Número de llamadas salientes', '# Ineficaces']\n",
    "display(hist_table) # mostrar tabla de frecuencias"
   ]
  },
  {
   "cell_type": "markdown",
   "metadata": {},
   "source": [
    "38 operadores ineficaces llamaron hasta 29 veces a clientes de los planes A, B, C respectivamente. 10 operadores llamaron a clientes de los 3 planes hasta una cantidad de 57 veces. Los que más llamaron no lograron superar el umbral de 580."
   ]
  },
  {
   "cell_type": "code",
   "execution_count": 57,
   "metadata": {},
   "outputs": [
    {
     "data": {
      "image/png": "[encoded data removed]",
      "text/plain": [
       "<Figure size 750x500 with 1 Axes>"
      ]
     },
     "metadata": {},
     "output_type": "display_data"
    },
    {
     "data": {
      "text/html": [
       "<div>\n",
       "<style scoped>\n",
       "    .dataframe tbody tr th:only-of-type {\n",
       "        vertical-align: middle;\n",
       "    }\n",
       "\n",
       "    .dataframe tbody tr th {\n",
       "        vertical-align: top;\n",
       "    }\n",
       "\n",
       "    .dataframe thead th {\n",
       "        text-align: right;\n",
       "    }\n",
       "</style>\n",
       "<table border=\"1\" class=\"dataframe\">\n",
       "  <thead>\n",
       "    <tr style=\"text-align: right;\">\n",
       "      <th></th>\n",
       "      <th>Bin Range</th>\n",
       "      <th>Frequency</th>\n",
       "    </tr>\n",
       "  </thead>\n",
       "  <tbody>\n",
       "    <tr>\n",
       "      <th>0</th>\n",
       "      <td>1.00 to 33.12</td>\n",
       "      <td>140</td>\n",
       "    </tr>\n",
       "    <tr>\n",
       "      <th>1</th>\n",
       "      <td>33.12 to 65.24</td>\n",
       "      <td>14</td>\n",
       "    </tr>\n",
       "    <tr>\n",
       "      <th>2</th>\n",
       "      <td>65.24 to 97.35</td>\n",
       "      <td>19</td>\n",
       "    </tr>\n",
       "    <tr>\n",
       "      <th>3</th>\n",
       "      <td>97.35 to 129.47</td>\n",
       "      <td>5</td>\n",
       "    </tr>\n",
       "    <tr>\n",
       "      <th>4</th>\n",
       "      <td>129.47 to 161.59</td>\n",
       "      <td>6</td>\n",
       "    </tr>\n",
       "  </tbody>\n",
       "</table>\n",
       "</div>"
      ],
      "text/plain": [
       "          Bin Range  Frequency\n",
       "0     1.00 to 33.12        140\n",
       "1    33.12 to 65.24         14\n",
       "2    65.24 to 97.35         19\n",
       "3   97.35 to 129.47          5\n",
       "4  129.47 to 161.59          6"
      ]
     },
     "metadata": {},
     "output_type": "display_data"
    },
    {
     "data": {
      "text/html": [
       "<div>\n",
       "<style scoped>\n",
       "    .dataframe tbody tr th:only-of-type {\n",
       "        vertical-align: middle;\n",
       "    }\n",
       "\n",
       "    .dataframe tbody tr th {\n",
       "        vertical-align: top;\n",
       "    }\n",
       "\n",
       "    .dataframe thead th {\n",
       "        text-align: right;\n",
       "    }\n",
       "</style>\n",
       "<table border=\"1\" class=\"dataframe\">\n",
       "  <thead>\n",
       "    <tr style=\"text-align: right;\">\n",
       "      <th></th>\n",
       "      <th>Bin Range</th>\n",
       "      <th>Frequency</th>\n",
       "    </tr>\n",
       "  </thead>\n",
       "  <tbody>\n",
       "    <tr>\n",
       "      <th>15</th>\n",
       "      <td>482.76 to 514.88</td>\n",
       "      <td>1</td>\n",
       "    </tr>\n",
       "    <tr>\n",
       "      <th>16</th>\n",
       "      <td>514.88 to 547.00</td>\n",
       "      <td>2</td>\n",
       "    </tr>\n",
       "  </tbody>\n",
       "</table>\n",
       "</div>"
      ],
      "text/plain": [
       "           Bin Range  Frequency\n",
       "15  482.76 to 514.88          1\n",
       "16  514.88 to 547.00          2"
      ]
     },
     "metadata": {},
     "output_type": "display_data"
    }
   ],
   "source": [
    "\n",
    "# Trazar histograma de llamadas salientes por operadores ineficaces parte 2\n",
    "mask = (report['rigor_effective']==False) & (report['tariff_plan']=='other') # máscara booleana\n",
    "plt.figure(figsize=(7.5,5))\n",
    "sns.histplot(data=report[mask], x='num_calls_out', bins=50, hue='tariff_plan')\n",
    "\n",
    "plt.show()\n",
    "\n",
    "display(freq_table(data=report[mask]['num_calls_out'], bins=17).head(5)) # mostrar tabla de frecuencias\n",
    "display(freq_table(data=report[mask]['num_calls_out'], bins=17).tail(2)) # mostrar tabla de frecuencias\n"
   ]
  },
  {
   "cell_type": "code",
   "execution_count": 58,
   "metadata": {},
   "outputs": [
    {
     "data": {
      "text/plain": [
       "229"
      ]
     },
     "execution_count": 58,
     "metadata": {},
     "output_type": "execute_result"
    }
   ],
   "source": [
    "report[mask]['num_calls_out'].count() # Contar operadores ineficaces con llamadas ajenas a los planes ABC"
   ]
  },
  {
   "cell_type": "markdown",
   "metadata": {},
   "source": [
    "229 operadores ineficaces que realizaron llamadas ajenas a clientes de los planes A, B y C. Aproximadamente 140 operadores ineficaces realizaron hasta 33 llamadas y 33 operadores realizaron entre 33 y 97 llamadas. Solo 2 operadores llamaron hasta 547 veces, pero sigue debajo de la media de 580."
   ]
  },
  {
   "cell_type": "markdown",
   "metadata": {},
   "source": [
    "## Contraste de hipótesis"
   ]
  },
  {
   "cell_type": "markdown",
   "metadata": {},
   "source": [
    "### Planteamiento de Hipótesis\n",
    "\n",
    "- __Hipótesis 1:__ Los operadores ineficaces pueden perder menos llamadas entrantes que el umbral establecido.\n",
    "\n",
    "\n",
    "- __Hipótesis 2:__ Los operadores ineficaces pueden demorarse atender llamadas entrantes menos que el umbral establecido.\n",
    "\n",
    "\n",
    "- __Hipótesis 3:__ Los operadores ineficaces pueden realizar más llamadas salientes que el mínimo establecido."
   ]
  },
  {
   "cell_type": "markdown",
   "metadata": {},
   "source": [
    "### Seleccionar Prueba estadística"
   ]
  },
  {
   "cell_type": "markdown",
   "metadata": {},
   "source": [
    "__Se elige una prueba t de studet__ en los 3 planteamientos para comparar la media de la muestra de estudio con la media general, previamente obtenida.\n",
    "\n",
    "Para cumplir con las condiciones del Teorema Central del Límite se debe obtener una muestra de estudio que sea aleatoria de más de 30 observaciones sin superar al 10% del tamaño de la población."
   ]
  },
  {
   "cell_type": "code",
   "execution_count": 59,
   "metadata": {},
   "outputs": [
    {
     "data": {
      "text/plain": [
       "[75, 75, 109]"
      ]
     },
     "execution_count": 59,
     "metadata": {},
     "output_type": "execute_result"
    }
   ],
   "source": [
    "mask = (report['rigor_effective'] == False) # máscara booleana de ineficacia\n",
    "\n",
    "# Enlistar tareas de los operadores\n",
    "tasks = ['num_missed_calls_in', 'avg_waiting_time_in', 'num_calls_out']\n",
    "tasks_threshold = [med_a, med_b, avg_c] # enlistar los umbrales de eficacia\n",
    "\n",
    "# Determinar tamaños de las muestras aleatorias de cada tarea básica\n",
    "samp_sizes = [int(report[task].count() * 0.1) for task in tasks]\n",
    "\n",
    "# Muestrear las tareas de los operadores\n",
    "samps = [report[mask][tasks[i]].dropna().sample(samp_sizes[i], random_state=0) for i in range(len(tasks))]\n",
    "\n",
    "samp_sizes # mostrar tamaños de las muestras de estudio"
   ]
  },
  {
   "cell_type": "markdown",
   "metadata": {},
   "source": [
    "Se utilizará muestras aleatorias de:\n",
    "- 75 observaciones para el número de llamadas perdidas entrantes.\n",
    "- 75 observaciones para la demora de contestar llamadas entrantes.\n",
    "- 109 observaciones para el número de llamadas salientes."
   ]
  },
  {
   "cell_type": "markdown",
   "metadata": {},
   "source": [
    "### Nivel de significancia"
   ]
  },
  {
   "cell_type": "markdown",
   "metadata": {},
   "source": [
    "Se determina un __&alpha; = 0.05__ para priorizar la sensibilidad estadística en distinguir la ineficacia de los operadores en sus tareas básicas."
   ]
  },
  {
   "cell_type": "markdown",
   "metadata": {},
   "source": [
    "### Definición de Agoritmo"
   ]
  },
  {
   "cell_type": "markdown",
   "metadata": {},
   "source": [
    "En base a los parámetros de las muestras organizadas en listas, se define una función para la prueba estadística de t-student."
   ]
  },
  {
   "cell_type": "code",
   "execution_count": 60,
   "metadata": {},
   "outputs": [],
   "source": [
    "def custom_ttest(sample, popmean, h_alternative, s_index):\n",
    "    \"\"\"\n",
    "    Realiza una prueba t de Student para una muestra específica.\n",
    "\n",
    "    Parámetros:\n",
    "    sample (list or array-like): Muestras para diferentes tareas.\n",
    "    popmean (list or array-like): Medias poblacionales correspondientes.\n",
    "    s_index (int): Índice de la tarea para la que se realiza la prueba.\n",
    "\n",
    "    Retorno:\n",
    "    None: Imprime el estadístico t y el valor p.\n",
    "    \"\"\"\n",
    "    samp = sample[s_index]      # asignar muestra\n",
    "    pop_mean = popmean[s_index] # asginar media poblacional\n",
    "    \n",
    "    # Realizar la prueba t de Student de una muestra\n",
    "    t_statistic, p_value = stats.ttest_1samp(a=samp, popmean=pop_mean, alternative=h_alternative)\n",
    "\n",
    "    print(f\"Estadístico t: {t_statistic:.4f}\")\n",
    "    print(f\"Valor p: {p_value:.4f}\")\n",
    "    print(f\"Media muestral: {samp.mean():.2f}\")\n",
    "    print(f\"Umbral referencia: {pop_mean:.2f}\")\n",
    "    "
   ]
  },
  {
   "cell_type": "markdown",
   "metadata": {},
   "source": [
    "### Caso 1: Número de llamadas perdidas por operadores ineficaces"
   ]
  },
  {
   "cell_type": "markdown",
   "metadata": {},
   "source": [
    "#### Formulación de hipótesis\n",
    "\n",
    "- **Hipótesis nula H_0**: La media de llamadas perdidas por los operadores ineficaces es menor o igual al umbral de referencia.\n",
    "\n",
    "- **Hipótesis alternativa H_1**: La media de llamadas perdidas por los operadores ineficaces es mayor que el umbral de referencia.\n",
    "\n",
    "$$\n",
    "H_0: \\mu_{\\text{perd-inef}} \\leq U_{\\text{perd-general}}\n",
    "$$\n",
    "\n",
    "$$\n",
    "H_1: \\mu_{\\text{perd-inef}} > U_{\\text{perd-general}}\n",
    "$$"
   ]
  },
  {
   "cell_type": "markdown",
   "metadata": {},
   "source": [
    "#### Prueba de hipótesis"
   ]
  },
  {
   "cell_type": "code",
   "execution_count": 61,
   "metadata": {},
   "outputs": [
    {
     "name": "stdout",
     "output_type": "stream",
     "text": [
      "Estadístico t: 1.6831\n",
      "Valor p: 0.0483\n",
      "Media muestral: 103.24\n",
      "Umbral referencia: 0.00\n"
     ]
    }
   ],
   "source": [
    "# Realizar prueba de hipótesis t-student\n",
    "custom_ttest(samps, tasks_threshold, s_index=0, h_alternative='greater')"
   ]
  },
  {
   "cell_type": "markdown",
   "metadata": {},
   "source": [
    "El valor P es ligeramente menor a 0.05, por lo que se puede rechazar la hipótesis nula ya que existe suficiente evidencia estadística para respaldar que los operadores ineficaces pierden en promedio más llamadas que el umbral establecido. \n",
    "\n",
    "El estadístico t revela que en efecto hay una tendencia de los operadores ineficaces en sobrepasar el umbral. "
   ]
  },
  {
   "cell_type": "markdown",
   "metadata": {},
   "source": [
    "### Caso 2: Demora de atención de operadores ineficaces"
   ]
  },
  {
   "cell_type": "markdown",
   "metadata": {},
   "source": [
    "#### Formulación de hipótesis\n",
    "\n",
    "- **Hipótesis nula H_0**: La demora promedio de los operadores ineficaces es menor o igual al umbral de referencia.\n",
    "\n",
    "- **Hipótesis alternativa H_1**: La demora promedio de los operadores ineficaces es mayor que el umbral de referencia.\n",
    "\n",
    "$$\n",
    "H_0: \\mu_{\\text{demora-inef}} \\leq U_{\\text{demora-general}}\n",
    "$$\n",
    "\n",
    "$$\n",
    "H_1: \\mu_{\\text{demora-inef}} > U_{\\text{demora-general}}\n",
    "$$\n"
   ]
  },
  {
   "cell_type": "markdown",
   "metadata": {},
   "source": [
    "#### Prueba de hipótesis"
   ]
  },
  {
   "cell_type": "code",
   "execution_count": 62,
   "metadata": {},
   "outputs": [
    {
     "name": "stdout",
     "output_type": "stream",
     "text": [
      "Estadístico t: 5.0258\n",
      "Valor p: 0.0000\n",
      "Media muestral: 137.67\n",
      "Umbral referencia: 31.17\n"
     ]
    }
   ],
   "source": [
    "# Realizar prueba de hipótesis t-student\n",
    "custom_ttest(samps, tasks_threshold, s_index=1, h_alternative='greater')"
   ]
  },
  {
   "cell_type": "markdown",
   "metadata": {},
   "source": [
    "El valor P es extremadamente menor a 0.05, por lo que se rechaza la hipótesis nula ya que existe bastante evidencia estadística de que los operadores ineficaces se demoran más que el umbral establecido para atender llamadas entrantes. \n",
    "\n",
    "El estadístico t revela que en efecto los operadores ineficaces suelen sobrepasar el umbral de 31.17 segundos."
   ]
  },
  {
   "cell_type": "markdown",
   "metadata": {},
   "source": [
    "### Caso 3: Número de llamadas salientes por operadores ineficaces"
   ]
  },
  {
   "cell_type": "markdown",
   "metadata": {},
   "source": [
    "#### Formulación de hipótesis\n",
    "\n",
    "- **Hipótesis nula H_0**: La cantidad media de llamadas salientes realizadas por los operadores ineficaces es mayor al umbral de referencia.\n",
    "\n",
    "- **Hipótesis alternativa H_1**: La cantidad media de llamadas salientes realizadas por los operadores ineficaces es menor al umbral de referencia.\n",
    "\n",
    "$$\n",
    "H_0: \\mu_{\\text{saliente-inef}} \\geq \\mu_{\\text{saliente-general}}\n",
    "$$\n",
    "\n",
    "$$\n",
    "H_1: \\mu_{\\text{saliente-inef}} < \\mu_{\\text{saliente-general}}\n",
    "$$\n"
   ]
  },
  {
   "cell_type": "markdown",
   "metadata": {},
   "source": [
    "#### Prueba de hipótesis"
   ]
  },
  {
   "cell_type": "code",
   "execution_count": 63,
   "metadata": {},
   "outputs": [
    {
     "name": "stdout",
     "output_type": "stream",
     "text": [
      "Estadístico t: -33.3281\n",
      "Valor p: 0.0000\n",
      "Media muestral: 112.63\n",
      "Umbral referencia: 580.35\n"
     ]
    }
   ],
   "source": [
    "# Realizar prueba de hipótesis t-student\n",
    "custom_ttest(samps, tasks_threshold, s_index=2, h_alternative='less')"
   ]
  },
  {
   "cell_type": "markdown",
   "metadata": {},
   "source": [
    "El valor P es extremadamente menor a 0.05, por lo que se rechaza la hipótesis nula ya que existe bastante evidencia estadística de que los operadores llaman a clientes menos que el umbral establecido. \n",
    "\n",
    "El estadístico t revela que en efecto los operadores ineficaces no alcanzan el umbral de 580 llamadas. "
   ]
  },
  {
   "cell_type": "markdown",
   "metadata": {},
   "source": [
    "# Conclusiones y Recomendaciones"
   ]
  },
  {
   "cell_type": "markdown",
   "metadata": {},
   "source": [
    "## Resultados clave"
   ]
  },
  {
   "cell_type": "markdown",
   "metadata": {},
   "source": [
    "- Los operadores solo son eficaces cuando cumplen a la vez las 3 tareas básicas de no perder llamadas, no demorarse más de 31.17 segundos en contestar llamadas entrantes y realizar al menos 581 llamadas a clientes.\n",
    "\n",
    "- __Existen 1095 operadores de los cuáles el 71% son eficaces__ y 29% ineficaces de los que 87 de ellos no pudieron recibir llamadas entrantes y en consecuencia no fueron capaces de perderlas.\n",
    "\n",
    "- __Aproximadamente 1 de cada 10 operadores es ineficaz.__\n",
    "\n",
    "- Un operador puede ser eficaz si aumenta su rendimiento general, sin embargo la clave está en no perder llamadas entrantes ni hacer esperar mucho a los clientes.\n",
    "\n",
    "- __Existe suficiente evidencia estadística__ de que los operadores ineficaces sobrepasan el umbral de llamadas perdidas, hacen esperar a los clientes más de 31 segundos para ser atendidos y no alcanzan la meta de 581 llamadas salientes. \n",
    "\n",
    "- __El rendimiento de los operadores__ se define por su carga de trabajo, por lo que existen aquellos con alto rendimiento aunque no cumplan todas las tareas.\n",
    "\n",
    "- El alto rendimiento consiste en atender rápido a los clientes y en segundo lugar no perder llamadas.\n",
    "\n",
    "- __Los 10 operadores eficaces más destacados__ cumplen las 3 tareas y tienen un rendimiento de 80% hasta 96%.\n",
    "\n",
    "- El rendimiento de los operadores eficaces comienza es de al menos 46%. Son buenos trabajadores con bastante margen de mejora. \n",
    "\n",
    "- __El rendimiento de los operadores ineficaces está entre 35-79%.__ Los de mayor rendimiento no son eficaces por el desbalance de tareas cumplidas.\n",
    "\n",
    "\n",
    "\n"
   ]
  },
  {
   "cell_type": "markdown",
   "metadata": {},
   "source": [
    "## Rutas de mejora"
   ]
  },
  {
   "cell_type": "markdown",
   "metadata": {},
   "source": [
    "- Planificar un programa de capacitación para mejorar el rendimiento general de los operadores y socializar las metas de cada tarea en su importancia y prioridad.\n",
    "\n",
    "- Si no se detecta excendete de personal, entonces dar seguimiento a los operadores ineficaces no culpables y procurar redistribuir la carga de trabajo general para que todo el personal pueda realizar sus tareas sin saturarse y dar oportunidad a los resagados. Luego de un periodo prudencial volver a analizar si existe dicho excedente.\n",
    "\n",
    "- Definir umbrales de eficacia menos estrictos para no desmotivar a los operadores y reforzar la cultura de logro de metas para estimular el rendimiento.\n",
    "\n",
    "- De ser necesario, implementar un sistema de servicio automatizado con preguntas frecuentes y derivar al cliente a un operador en caso de requerir atención personalizada. Así se mejora la esperiencia de atención al cliente y se reduce tanto el número de llamadas perdidas como el tiempo de espera.\n",
    "\n",
    "- Identificar las horas pico para planificar el servicio de atención al cliente de tal manera que en tal horario los operadores den prioridad a la contestación de llamadas entrantes de clientes. Asi se reducen las llamadas perdidas y el tiempo de espera.\n",
    "\n",
    "- Tener en cuenta la viabilidad de estas sugerencias según el presupuesto de la empresa, costos y beneficios."
   ]
  },
  {
   "cell_type": "markdown",
   "metadata": {},
   "source": [
    "# Dashboard\n",
    "\n",
    "En el siguiente enlace se puede acceder al tablero de visualización con las siguientes condiciones:\n",
    "\n",
    "1. Histograma del número de llamadas por día\n",
    "2. Gráfico circular de la participación de las llamadas internas y externas\n",
    "3. Agrega un filtro por tipo de llamada (interna o externa)\n",
    "\n",
    "Enlace al dashboard:\n",
    "\n",
    "<a href=\"https://public.tableau.com/views/proyecto_sp14/Dashboard1?:language=es-ES&publish=yes&:sid=&:display_count=n&:origin=viz_share_link\">\n",
    "  <img src=\"https://upload.wikimedia.org/wikipedia/commons/thumb/4/4b/Tableau_Logo.png/640px-Tableau_Logo.png\" alt=\"Tableau\" width=\"130\">\n",
    "</a>\n",
    "\n",
    " https://public.tableau.com/views/proyecto_sp14/Dashboard1?:language=es-ES&publish=yes&:sid=&:display_count=n&:origin=viz_share_link"
   ]
  },
  {
   "cell_type": "markdown",
   "metadata": {},
   "source": [
    "# __Fuentes__\n",
    "\n",
    "A continuación se muestra la documentación utilizada para trabajar el proyecto:\n",
    "\n",
    "- __Tripleten Sprint 3 - Manipulación de datos__\n",
    "    \n",
    "    Guía práctica de cómo realizar paso a paso data wrangling. Permite hacer el respectivo preprocesamiento de datos para preparar los datos del proyecto de telecomunicaciones.\n",
    "\n",
    "    https://tripleten.com/trainer/data-analyst/lesson/66c18ebf-bde5-474f-b9d0-d1b4f668f44f/?from=program\n",
    "\n",
    "___\n",
    "- __Tripleten Sprint 4 - Prueba de hipótesis__\n",
    "\n",
    "    Guía práctica de cómo realizar una prueba de hipótesis. Permite comparar los operadores ineficaces con el conjunto global de operadores. \n",
    "\n",
    "    https://tripleten.com/trainer/data-analyst/lesson/d86b0407-a5aa-407b-83be-6d6094f8b8b4/?from=program\n",
    "    \n",
    "    Criterios para la aplicación de pruebas estadísticas. Teorema Central del Límite. \n",
    "\n",
    "    https://support.minitab.com/es-mx/minitab/help-and-how-to/statistics/basic-statistics/supporting-topics/data-concepts/about-the-central-limit-theorem/\n",
    "\n",
    "    Documentación de uso de la biblioteca scipy para definición y aplicción de prueba t-student en las muestras experimentales de las tareas de los operadores.   \n",
    "\n",
    "    https://docs.scipy.org/doc/scipy/reference/generated/scipy.stats.ttest_1samp.html\n",
    "___    \n",
    "- __Preprocesamiento de Datos__\n",
    "\n",
    "    Cómo Preprocesar Datos en Python: Artículo en Built In que ofrece un tutorial paso a paso sobre la implementación del preprocesamiento de datos utilizando Python, NumPy y Pandas. Permite preparar los datos de la compañia de telecomunicaciones para utilizarlos en visualización de resultados y contraste de hipótesis.\n",
    "    \n",
    "    https://builtin.com/machine-learning/how-to-preprocess-data-python\n",
    "    \n",
    "___\n",
    "- __Ingeniería de Características__\n",
    "\n",
    "    Feature Engineering | Python Data Science Handbook: En esta sección del libro Python Data Science Handbook, se cubren ejemplos comunes de tareas de ingeniería de características, como representación de datos categóricos, texto e imágenes, así como la creación de características derivadas para aumentar la complejidad del modelo. La ingeniería de características permite enriquecer el dataset y responder algunas de las preguntas específicas previamente formuladas. \n",
    "    \n",
    "    https://jakevdp.github.io/PythonDataScienceHandbook/05.04-feature-engineering.html \n",
    "\n",
    "___\n",
    "- __Graficación en Python__\n",
    "\n",
    "    Python Data Visualization Tutorial: Video que enseña cómo usar las bibliotecas de visualización de datos en Python, como Matplotlib, Seaborn para crear diferentes tipos de gráficos y visualizaciones útiles para el proyecto de telecomunicaciones. https://www.youtube.com/watch?v=Nt84_TzRkbo\n",
    "    \n",
    "    Data Visualization | Data Visualization Python: Video que explica cómo usar Seaborn para crear gráficos estadísticos y visualizar datos. https://www.youtube.com/watch?v=_YWwU-gJI5U\n",
    "    \n",
    " \n"
   ]
  }
 ],
 "metadata": {
  "kernelspec": {
   "display_name": "venv",
   "language": "python",
   "name": "python3"
  },
  "language_info": {
   "codemirror_mode": {
    "name": "ipython",
    "version": 3
   },
   "file_extension": ".py",
   "mimetype": "text/x-python",
   "name": "python",
   "nbconvert_exporter": "python",
   "pygments_lexer": "ipython3",
   "version": "3.11.8"
  },
  "toc": {
   "base_numbering": 1,
   "nav_menu": {},
   "number_sections": true,
   "sideBar": true,
   "skip_h1_title": true,
   "title_cell": "Table of Contents",
   "title_sidebar": "Contents",
   "toc_cell": false,
   "toc_position": {},
   "toc_section_display": true,
   "toc_window_display": false
  }
 },
 "nbformat": 4,
 "nbformat_minor": 2
}
