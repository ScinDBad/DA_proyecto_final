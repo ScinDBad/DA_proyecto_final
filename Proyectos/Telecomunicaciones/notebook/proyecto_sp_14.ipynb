{
 "cells": [
  {
   "cell_type": "markdown",
   "metadata": {},
   "source": [
    "# Análisis de Rendimiento de Operadores de CallMeMaybe "
   ]
  },
  {
   "cell_type": "markdown",
   "metadata": {},
   "source": [
    "## __Descripción__\n",
    "\n",
    "El servicio de telefonía virtual CallMeMaybe está desarrollando una nueva función que brindará a los supervisores y las supervisores información sobre los operadores menos eficaces. Se considera que un operador es ineficaz si tiene una gran cantidad de llamadas entrantes perdidas (internas y externas) y un tiempo de espera prolongado para las llamadas entrantes. Además, si se supone que un operador debe realizar llamadas salientes, un número reducido de ellas también será un signo de ineficacia.\n",
    "\n",
    "Los datasets contienen información sobre el uso del servicio de telefonía virtual CallMeMaybe. Sus clientes son organizaciones que necesitan distribuir gran cantidad de llamadas entrantes entre varios operadores, o realizar llamadas salientes a través de sus operadores. Los operadores también pueden realizar llamadas internas para comunicarse entre ellos. Estas llamadas se realizan a través de la red de CallMeMaybe."
   ]
  },
  {
   "cell_type": "markdown",
   "metadata": {},
   "source": [
    "## __Objetivo__\n",
    "\n",
    "Identificar operadores ineficaces para que los supervisores puedan tomar decisiones sobre la formación y gestión del personal a fin de mejorar la eficiencia operativa y la satisfacción del cliente."
   ]
  },
  {
   "cell_type": "markdown",
   "metadata": {},
   "source": [
    "## __Tarea Principal__ \n",
    "Identificar operadores ineficaces basados en llamadas perdidas y tiempos de espera prolongados para llamadas entrantes, y baja cantidad de llamadas salientes."
   ]
  },
  {
   "cell_type": "markdown",
   "metadata": {},
   "source": [
    "### Condiciones de Ineficacia:\n",
    "\n",
    "Definir las condiciones que hacen a un operador ineficas, según la inormación proporcionada por CallMeMaybe.\n",
    "- Alto número de llamadas perdidas\n",
    "- Largo tiempo de espera para atender llamadas entrantes\n",
    "- Bajo número de llamadas salientes"
   ]
  },
  {
   "cell_type": "markdown",
   "metadata": {},
   "source": [
    "### Datos Necesarios:\n",
    "\n",
    "- Dataset de estadísticas de llamadas __`telecom_dataset_us.csv`__.\n",
    "- Dataset de clientes y sus tarifas __`telecom_clients_us.csv`__."
   ]
  },
  {
   "cell_type": "markdown",
   "metadata": {},
   "source": [
    "## __Detalles Específicos__"
   ]
  },
  {
   "cell_type": "markdown",
   "metadata": {},
   "source": [
    "- ¿Cuáles y cuántos son los operadores menos eficaces?\n",
    "- ¿Cúantas llamadas entrantes pierden los operadores?\n",
    "- ¿Cuánto demoran en atender las llamadas entrantes?\n",
    "- ¿Cuántas llamadas salientes realizan los operadores?\n",
    "- ¿Qué tan eficaces resultan los operadores?\n",
    "- ¿Cuántos operadores son ineficaces?\n"
   ]
  },
  {
   "cell_type": "markdown",
   "metadata": {},
   "source": [
    "## __Planteamiento de Hipótesis__"
   ]
  },
  {
   "cell_type": "markdown",
   "metadata": {},
   "source": [
    "- __Hipótesis 1:__ Los operadores ineficaces tienen la misma proporción de llamadas perdidas respecto a la media del total de llamadas perdidas.\n",
    "\n",
    "\n",
    "- __Hipótesis 2:__ Los operadores poco eficaces demoran en atender llamadas entrantes lo mismo que la media del total de llamadas atendidas.\n",
    "\n",
    "\n",
    "- __Hipótesis 3:__ Los operadores menos eficaces realizan la misma cantidad de llamadas salientes que la media general de llamadas que salen."
   ]
  },
  {
   "cell_type": "markdown",
   "metadata": {},
   "source": [
    "### Plan de Acción de hipótesis"
   ]
  },
  {
   "cell_type": "markdown",
   "metadata": {},
   "source": [
    "__Hipótesis 1:__ \n",
    "\n",
    "- Calcular el porcentaje de llamadas perdidas por operador ineficaz.\n",
    "- Calcular el porcentaje del total de llamadas perdidas.\n",
    "- Comparar con el promedio y la mediana de ambos grupos mediante gráfico de barras.\n",
    "- Representar histogramas de distribución en ambos grupos de datos.\n",
    "- Realizar test de contraste de hipótesis nula y alternativa.\n",
    "\n",
    "__Hipótesis 2:__ \n",
    "\n",
    "- Calcular el tiempo promedio de espera por operador ineficaz.\n",
    "- Calcular el tiempo promedio de espera por el total de operadores.\n",
    "- Comparar con el promedio y la mediana de ambos grupos mediante gráfico de barras.\n",
    "- Representar histogramas de distribución en ambos grupos de datos.\n",
    "- Realizar test de contraste de hipótesis nula y alternativa.\n",
    "\n",
    "\n",
    "__Hipótesis 3:__ \n",
    "\n",
    "- Calcular el promedio de llamadas salientes por operador ineficaz.\n",
    "- Calcular el promedio de llamadas salientes por el total de operadores.\n",
    "- Comparar con el promedio y la mediana de ambos grupos mediante gráfico de barras.\n",
    "- Representar histogramas de distribución en ambos grupos de datos.\n",
    "- Realizar test de contraste de hipótesis nula y alternativa.\n"
   ]
  },
  {
   "cell_type": "markdown",
   "metadata": {},
   "source": [
    "## Preprocesamiento de datos"
   ]
  },
  {
   "cell_type": "markdown",
   "metadata": {},
   "source": [
    "- Estudiar y Gestionar valores ausentes.\n",
    "- Estudiar y Gestionar valores duplicados.\n",
    "- Estudiar y Gestionar valores outliers.\n",
    "- Estructurar datasets.\n",
    "    - _Renombrar columnas._\n",
    "    - _Estandarizar con snake_case._\n",
    "    \n",
    "    \n",
    "- Estudiar y Gestionar el tipo de datos.\n",
    "    - _Convertir tipos de datos adecuados._\n",
    "    \n",
    "    \n",
    "- Ingeniería de Características.\n",
    "    - _Contar número de llamadas perdidas por operador._\n",
    "    - _Promediar la demora de operadores para atender llamadas entrantes._\n",
    "    - _Contar número de llamadas salientes de cada operador._\n",
    "    - _Categorizar eficacia de operadores con valores de 0-1 según condiciones previas. Utilizar operaciones booleanas._\n",
    "\n",
    "\n",
    "- Contar número de operadores ineficaces y compararlos visualmente con el resto de operadores.\n",
    "    \n"
   ]
  },
  {
   "cell_type": "markdown",
   "metadata": {},
   "source": [
    "## Contraste de hipótesis\n",
    "\n",
    "Una vez preprocesados los datos e identificadas las hipótesis se procede a evaluarlas para determinar su significancia estadística. Es decir cómo se diferencian las métricas de los operadores poco eficaces de las métricas promedio del total de operadores."
   ]
  },
  {
   "cell_type": "markdown",
   "metadata": {},
   "source": [
    "## Conclusiones y Recomendaciones\n",
    "\n",
    "Mencionar puntos clave y resultados obtenidos, además de proporcionar sugerencias para la gestión de operadores para mejorar la eficiencia y experiencia de los clientes/usuarios."
   ]
  },
  {
   "cell_type": "markdown",
   "metadata": {},
   "source": [
    "## Fuentes\n",
    "\n",
    "A continuación se muestra la documentación utilizada para trabajar el proyecto:\n",
    "\n",
    "- __Tripleten Sprint 3 - Manipulación de datos__\n",
    "    \n",
    "    Guía práctica de cómo realizar paso a paso data wrangling. Permite hacer el respectivo preprocesamiento de datos para preparar los datos del proyecto de telecomunicaciones.\n",
    "    https://tripleten.com/trainer/data-analyst/lesson/66c18ebf-bde5-474f-b9d0-d1b4f668f44f/?from=program\n",
    "\n",
    "\n",
    "- __Tripleten Sprint 4 - Prueba de hipótesis__\n",
    "\n",
    "    Guía práctica de cómo realizar una prueba de hipótesis. Permite comparar los operadores ineficaces con el conjunto global de operadores. https://tripleten.com/trainer/data-analyst/lesson/d86b0407-a5aa-407b-83be-6d6094f8b8b4/?from=program\n",
    "    \n",
    "    \n",
    "- __Preprocesamiento de Datos__\n",
    "\n",
    "    Cómo Preprocesar Datos en Python: Artículo en Built In que ofrece un tutorial paso a paso sobre la implementación del preprocesamiento de datos utilizando Python, NumPy y Pandas. Permite preparar los datos de la compañia de telecomunicaciones para utilizarlos en visualización de resultados y contraste de hipótesis. https://builtin.com/machine-learning/how-to-preprocess-data-python\n",
    "    \n",
    "\n",
    "- __Ingeniería de Características__\n",
    "\n",
    "    Feature Engineering | Python Data Science Handbook: En esta sección del libro Python Data Science Handbook, se cubren ejemplos comunes de tareas de ingeniería de características, como representación de datos categóricos, texto e imágenes, así como la creación de características derivadas para aumentar la complejidad del modelo. La ingeniería de características permite enriquecer el dataset y responder algunas de las preguntas específicas previamente formuladas. https://jakevdp.github.io/PythonDataScienceHandbook/05.04-feature-engineering.html \n",
    "\n",
    "\n",
    "- __Graficación en Python__\n",
    "\n",
    "    Python Data Visualization Tutorial: Video que enseña cómo usar las bibliotecas de visualización de datos en Python, como Matplotlib, Seaborn para crear diferentes tipos de gráficos y visualizaciones útiles para el proyecto de telecomunicaciones. https://www.youtube.com/watch?v=Nt84_TzRkbo\n",
    "    \n",
    "    Data Visualization | Data Visualization Python: Video que explica cómo usar Seaborn para crear gráficos estadísticos y visualizar datos. https://www.youtube.com/watch?v=_YWwU-gJI5U\n",
    "    "
   ]
  },
  {
   "cell_type": "code",
   "execution_count": null,
   "metadata": {},
   "outputs": [],
   "source": []
  },
  {
   "cell_type": "code",
   "execution_count": null,
   "metadata": {},
   "outputs": [],
   "source": []
  },
  {
   "cell_type": "code",
   "execution_count": null,
   "metadata": {},
   "outputs": [],
   "source": []
  }
 ],
 "metadata": {
  "kernelspec": {
   "display_name": "Python 3 (ipykernel)",
   "language": "python",
   "name": "python3"
  },
  "language_info": {
   "codemirror_mode": {
    "name": "ipython",
    "version": 3
   },
   "file_extension": ".py",
   "mimetype": "text/x-python",
   "name": "python",
   "nbconvert_exporter": "python",
   "pygments_lexer": "ipython3",
   "version": "3.9.5"
  },
  "toc": {
   "base_numbering": 1,
   "nav_menu": {},
   "number_sections": true,
   "sideBar": true,
   "skip_h1_title": true,
   "title_cell": "Table of Contents",
   "title_sidebar": "Contents",
   "toc_cell": false,
   "toc_position": {},
   "toc_section_display": true,
   "toc_window_display": false
  }
 },
 "nbformat": 4,
 "nbformat_minor": 2
}
