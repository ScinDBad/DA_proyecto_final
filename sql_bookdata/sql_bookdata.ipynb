{
 "cells": [
  {
   "cell_type": "markdown",
   "metadata": {},
   "source": [
    "# \"BookHub: Análisis de Datos de librería digital\"\n",
    "\n",
    "## Descripción\n",
    "El mundo se vio impactado por la pandemia del coronavirus, transformando las rutinas diarias de las personas en todo el planeta. En respuesta a este cambio, surgió un aumento significativo en el tiempo dedicado a la lectura en casa, generando un interés creciente en el desarrollo de nuevas aplicaciones para los amantes de los libros por parte de startups emergentes.\n",
    "\n",
    "En este contexto, se ha proporcionado una base de datos de uno de los servicios que compiten en este mercado. Esta base de datos contiene una amplia variedad de información, incluyendo datos sobre libros, editoriales, autores, calificaciones de clientes y reseñas de libros. La misión es realizar un análisis exhaustivo de estos datos para generar una propuesta de valor sólida y significativa para un nuevo producto que satisfaga las necesidades y preferencias de los lectores en este nuevo panorama.\n",
    "\n",
    "## Objetivo General\n",
    "Analizar los datos proporcionados en la base de datos del servicio de libros para desarrollar una propuesta de valor integral y efectiva para un nuevo producto destinado a los amantes de la lectura, teniendo en cuenta el cambio en las tendencias de consumo de libros debido a la pandemia del coronavirus."
   ]
  },
  {
   "cell_type": "markdown",
   "metadata": {},
   "source": [
    "## Objetivos Específicos\n",
    "\n",
    "- Encontrar el número de libros publicados después del 1 de enero de 2000.\n",
    "- Encontrar el número de reseñas de usuarios y la calificación promedio para cada libro.\n",
    "- Identificar la editorial que ha publicado el mayor número de libros con más de 50 páginas (Excluir folletos y publicaciones similares).\n",
    "- Identificar al autor que tiene la más alta calificación promedio del libro: considerar solo los libros con al menos 50 calificaciones.\n",
    "- Encontrar el número promedio de reseñas de texto entre los usuarios que calificaron más de 50 libros."
   ]
  },
  {
   "cell_type": "code",
   "execution_count": 1,
   "metadata": {},
   "outputs": [
    {
     "name": "stdout",
     "output_type": "stream",
     "text": [
      "hello\n"
     ]
    }
   ],
   "source": [
    "print('hello')"
   ]
  },
  {
   "cell_type": "code",
   "execution_count": 2,
   "metadata": {},
   "outputs": [],
   "source": [
    "# importar librerías\n",
    "import pandas as pd\n",
    "from sqlalchemy import create_engine"
   ]
  },
  {
   "cell_type": "code",
   "execution_count": null,
   "metadata": {},
   "outputs": [],
   "source": [
    "# Suggested code may be subject to a license. Learn more: ~LicenseLog:4125116501.\n",
    "# Suggested code may be subject to a license. Learn more: ~LicenseLog:3129002432.\n",
    "db_config = {'user': 'practicum_student',                           # nombre de usuario\n",
    "             'pwd': 's65BlTKV3faNIGhmvJVzOqhs',                     # contraseña\n",
    "             'host': 'rc1b-wcoijxj3yxfsf3fs.mdb.yandexcloud.net',\n",
    "             'port': 6432,                                          # puerto de conexión\n",
    "             'db': 'data-analyst-final-project-db'}                 # nombre de la base de datos\n",
    "\n",
    "connection_string = 'postgresql://{}:{}@{}:{}/{}'.format(db_config['user'], \n",
    "db_config['pwd'],\n",
    "                                                                       db_config['host'],\n",
    "                                                                       db_config['port'],\n",
    "                                                                       db_config['db'])\n",
    "\n",
    "engine = create_engine(connection_string, connect_args={'sslmode': 'require'})\n"
   ]
  },
  {
   "cell_type": "code",
   "execution_count": 3,
   "metadata": {},
   "outputs": [
    {
     "name": "stdout",
     "output_type": "stream",
     "text": [
      "4 0 4 1.0\n"
     ]
    }
   ],
   "source": []
  }
 ],
 "metadata": {
  "kernelspec": {
   "display_name": "venv",
   "language": "python",
   "name": "python3"
  },
  "language_info": {
   "codemirror_mode": {
    "name": "ipython",
    "version": 3
   },
   "file_extension": ".py",
   "mimetype": "text/x-python",
   "name": "python",
   "nbconvert_exporter": "python",
   "pygments_lexer": "ipython3",
   "version": "3.11.8"
  }
 },
 "nbformat": 4,
 "nbformat_minor": 2
}
