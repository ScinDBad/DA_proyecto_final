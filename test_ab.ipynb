{
 "cells": [
  {
   "cell_type": "markdown",
   "metadata": {},
   "source": [
    "# Prueba A/B del sistema de recomendaciones"
   ]
  },
  {
   "cell_type": "markdown",
   "metadata": {},
   "source": [
    "El proyecto consiste en una prueba A/B realizada por una tienda en línea internacional para evaluar la efectividad de un nuevo sistema de recomendaciones. La prueba se llevó a cabo del 7 de diciembre de 2020 al 1 de enero de 2021, y se dividió a los participantes en dos grupos:\n",
    "\n",
    "Grupo A (control): este grupo utilizó el sistema de recomendaciones existente.\n",
    "\n",
    "Grupo B: este grupo utilizó el nuevo sistema de recomendaciones.\n",
    "\n",
    "La prueba se realizó en la región de la UE y se incluyó al 15% de los nuevos usuarios. El objetivo de la prueba era evaluar si el nuevo sistema de recomendaciones mejoraba la conversión de los usuarios en las siguientes etapas del embudo de ventas:\n",
    "\n",
    "Vista de la página del producto (product_page).\n",
    "Añadir artículos al carrito de compras (product_card).\n",
    "Compra (purchase).\n",
    "\n",
    "\n",
    "__Resultado esperado:__\n",
    "\n",
    "dentro de los 14 días posteriores a la inscripción, los usuarios mostrarán una mejor conversión en vistas de la página del producto (el evento product_page), instancias de agregar artículos al carrito de compras (product_card) y compras (purchase). En cada etapa del embudo product_page → product_card → purchase, habrá al menos un 10% de aumento."
   ]
  },
  {
   "cell_type": "markdown",
   "metadata": {},
   "source": [
    "### Instrucciones para completar la tarea\n",
    "\n",
    "- Describe los objetivos del estudio.\n",
    "- Explora los datos:\n",
    "    - ¿Es necesario convertir los tipos?\n",
    "    - ¿Hay valores ausentes o duplicados? Si es así, ¿cómo los caracterizarías?\n",
    "- Lleva a cabo el análisis exploratorio de datos:\n",
    "    - Estudia la conversión en las diferentes etapas del embudo.\n",
    "    - ¿El número de eventos por usuario está distribuido equitativamente entre las muestras?\n",
    "    - ¿Hay usuarios que están presentes en ambas muestras?\n",
    "    - ¿Cómo se distribuye el número de eventos entre los días?\n",
    "    - ¿Hay alguna peculiaridad en los datos que hay que tener en cuenta antes de iniciar la prueba A/B?\n",
    "- Evaluar los resultados de la prueba A/B:\n",
    "    - ¿Qué puedes decir sobre los resultados de la prueba A/B?\n",
    "    - Utiliza una prueba z para comprobar la diferencia estadística entre las proporciones\n",
    "- Describe tus conclusiones con respecto a la etapa EDA y los resultados de la prueba A/B"
   ]
  },
  {
   "cell_type": "markdown",
   "metadata": {},
   "source": [
    "## Objetivos"
   ]
  },
  {
   "cell_type": "markdown",
   "metadata": {},
   "source": []
  },
  {
   "cell_type": "markdown",
   "metadata": {},
   "source": [
    "## Explorar Datos"
   ]
  },
  {
   "cell_type": "markdown",
   "metadata": {},
   "source": []
  },
  {
   "cell_type": "markdown",
   "metadata": {},
   "source": [
    "## Análisis Exploratorio de Datos"
   ]
  },
  {
   "cell_type": "markdown",
   "metadata": {},
   "source": []
  },
  {
   "cell_type": "markdown",
   "metadata": {},
   "source": [
    "## Test A/B"
   ]
  },
  {
   "cell_type": "markdown",
   "metadata": {},
   "source": []
  },
  {
   "cell_type": "markdown",
   "metadata": {},
   "source": [
    "## Conclusiones"
   ]
  },
  {
   "cell_type": "markdown",
   "metadata": {},
   "source": []
  }
 ],
 "metadata": {
  "language_info": {
   "name": "python"
  }
 },
 "nbformat": 4,
 "nbformat_minor": 2
}
